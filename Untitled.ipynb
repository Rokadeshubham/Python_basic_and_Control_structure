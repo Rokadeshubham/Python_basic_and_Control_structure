{
 "cells": [
  {
   "cell_type": "code",
   "execution_count": null,
   "metadata": {},
   "outputs": [],
   "source": [
    "n=1\n",
    "while n<=100:\n",
    "    if n % 10 == 3:\n",
    "        print(n)\n",
    "        n+=1\n",
    "    "
   ]
  },
  {
   "cell_type": "code",
   "execution_count": null,
   "metadata": {},
   "outputs": [],
   "source": [
    "s = input('string')\n",
    "count = 0\n",
    "cnt=0\n",
    "if 'c#' in s :\n",
    "    count = s.count('c#')\n",
    "    print(count)\n",
    "    \n",
    "if 'c' in s and cnt=='#'  :\n",
    "    cnt+=1\n",
    "    print(s.count('c'))\n",
    "\n"
   ]
  },
  {
   "cell_type": "code",
   "execution_count": 2,
   "metadata": {},
   "outputs": [
    {
     "name": "stdout",
     "output_type": "stream",
     "text": [
      "stringc#cadcc#b\n",
      "2\n"
     ]
    }
   ],
   "source": [
    "s = input('string')\n",
    "c=0\n",
    "cc=0\n",
    "i=0\n",
    "k=0\n",
    "target='c#'\n",
    "l = len(s)\n",
    "s.lower()\n",
    "while i < l :\n",
    "    if (s[i:i+2]==target):\n",
    "            cc+=1\n",
    "    i+=1\n",
    "print(cc)\n",
    "\n"
   ]
  },
  {
   "cell_type": "code",
   "execution_count": 11,
   "metadata": {},
   "outputs": [
    {
     "name": "stdout",
     "output_type": "stream",
     "text": [
      "abcfg\n"
     ]
    },
    {
     "data": {
      "text/plain": [
       "2"
      ]
     },
     "execution_count": 11,
     "metadata": {},
     "output_type": "execute_result"
    }
   ],
   "source": [
    "s = input('abc')\n",
    "len(s)"
   ]
  },
  {
   "cell_type": "code",
   "execution_count": null,
   "metadata": {},
   "outputs": [],
   "source": []
  }
 ],
 "metadata": {
  "kernelspec": {
   "display_name": "Python 3",
   "language": "python",
   "name": "python3"
  },
  "language_info": {
   "codemirror_mode": {
    "name": "ipython",
    "version": 3
   },
   "file_extension": ".py",
   "mimetype": "text/x-python",
   "name": "python",
   "nbconvert_exporter": "python",
   "pygments_lexer": "ipython3",
   "version": "3.6.5"
  }
 },
 "nbformat": 4,
 "nbformat_minor": 2
}
