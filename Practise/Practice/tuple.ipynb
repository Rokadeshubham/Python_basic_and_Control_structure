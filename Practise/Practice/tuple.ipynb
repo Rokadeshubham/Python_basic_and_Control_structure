{
 "cells": [
  {
   "cell_type": "markdown",
   "metadata": {},
   "source": [
    "Diﬀerences with List Brackets: Tuples uses paranthesis in declaration\n"
   ]
  },
  {
   "cell_type": "code",
   "execution_count": 1,
   "metadata": {},
   "outputs": [],
   "source": [
    "l=[1,2,3,3,4,5,6]\n",
    "t=(1,5,6,7,3,2,9)"
   ]
  },
  {
   "cell_type": "code",
   "execution_count": 2,
   "metadata": {},
   "outputs": [
    {
     "data": {
      "text/plain": [
       "(1, 5, 6, 7, 3, 2, 9)"
      ]
     },
     "execution_count": 2,
     "metadata": {},
     "output_type": "execute_result"
    }
   ],
   "source": [
    "t"
   ]
  },
  {
   "cell_type": "code",
   "execution_count": 3,
   "metadata": {},
   "outputs": [
    {
     "data": {
      "text/plain": [
       "[1, 2, 3, 3, 4, 5, 6]"
      ]
     },
     "execution_count": 3,
     "metadata": {},
     "output_type": "execute_result"
    }
   ],
   "source": [
    "l"
   ]
  },
  {
   "cell_type": "markdown",
   "metadata": {},
   "source": [
    "Mutability: Elements cannot be modiﬁed after initilization"
   ]
  },
  {
   "cell_type": "code",
   "execution_count": 4,
   "metadata": {},
   "outputs": [],
   "source": [
    "l=[2,3,4,5]\n",
    "l[2]=99"
   ]
  },
  {
   "cell_type": "code",
   "execution_count": 5,
   "metadata": {},
   "outputs": [
    {
     "data": {
      "text/plain": [
       "[2, 3, 99, 5]"
      ]
     },
     "execution_count": 5,
     "metadata": {},
     "output_type": "execute_result"
    }
   ],
   "source": [
    "l"
   ]
  },
  {
   "cell_type": "code",
   "execution_count": 6,
   "metadata": {},
   "outputs": [
    {
     "ename": "SyntaxError",
     "evalue": "can't assign to function call (<ipython-input-6-32fa34c940ff>, line 2)",
     "output_type": "error",
     "traceback": [
      "\u001b[1;36m  File \u001b[1;32m\"<ipython-input-6-32fa34c940ff>\"\u001b[1;36m, line \u001b[1;32m2\u001b[0m\n\u001b[1;33m    t(1)=11\u001b[0m\n\u001b[1;37m           ^\u001b[0m\n\u001b[1;31mSyntaxError\u001b[0m\u001b[1;31m:\u001b[0m can't assign to function call\n"
     ]
    }
   ],
   "source": [
    "t=(1,3,4,5)\n",
    "t(1)=11"
   ]
  },
  {
   "cell_type": "code",
   "execution_count": 2,
   "metadata": {},
   "outputs": [
    {
     "ename": "TypeError",
     "evalue": "'tuple' object does not support item assignment",
     "output_type": "error",
     "traceback": [
      "\u001b[1;31m---------------------------------------------------------------------------\u001b[0m",
      "\u001b[1;31mTypeError\u001b[0m                                 Traceback (most recent call last)",
      "\u001b[1;32m<ipython-input-2-c47e60720c3a>\u001b[0m in \u001b[0;36m<module>\u001b[1;34m()\u001b[0m\n\u001b[0;32m      1\u001b[0m \u001b[0mt\u001b[0m\u001b[1;33m=\u001b[0m\u001b[1;33m(\u001b[0m\u001b[1;36m1\u001b[0m\u001b[1;33m,\u001b[0m\u001b[1;36m3\u001b[0m\u001b[1;33m,\u001b[0m\u001b[1;36m4\u001b[0m\u001b[1;33m,\u001b[0m\u001b[1;36m5\u001b[0m\u001b[1;33m)\u001b[0m\u001b[1;33m\u001b[0m\u001b[0m\n\u001b[1;32m----> 2\u001b[1;33m \u001b[0mt\u001b[0m\u001b[1;33m[\u001b[0m\u001b[1;36m1\u001b[0m\u001b[1;33m]\u001b[0m\u001b[1;33m=\u001b[0m\u001b[1;36m11\u001b[0m\u001b[1;33m\u001b[0m\u001b[0m\n\u001b[0m",
      "\u001b[1;31mTypeError\u001b[0m: 'tuple' object does not support item assignment"
     ]
    }
   ],
   "source": [
    "t=(1,3,4,5)\n",
    "t[1]=11"
   ]
  },
  {
   "cell_type": "markdown",
   "metadata": {},
   "source": [
    "When having single element: We put a comma at the end, when there is one element in the tuple, Why? This is required, to diﬀerentiate with an expression. "
   ]
  },
  {
   "cell_type": "code",
   "execution_count": 8,
   "metadata": {},
   "outputs": [],
   "source": [
    "t=(9,)"
   ]
  },
  {
   "cell_type": "code",
   "execution_count": 9,
   "metadata": {},
   "outputs": [
    {
     "data": {
      "text/plain": [
       "(9,)"
      ]
     },
     "execution_count": 9,
     "metadata": {},
     "output_type": "execute_result"
    }
   ],
   "source": [
    "t"
   ]
  },
  {
   "cell_type": "code",
   "execution_count": 10,
   "metadata": {},
   "outputs": [
    {
     "name": "stdout",
     "output_type": "stream",
     "text": [
      "27\n",
      "(9, 9, 9)\n",
      "<class 'int'> <class 'tuple'>\n"
     ]
    }
   ],
   "source": [
    "x=(9)\n",
    "y=(9,)\n",
    "print(x*3)\n",
    "print(y*3)\n",
    "print(type(x),type(y))"
   ]
  },
  {
   "cell_type": "markdown",
   "metadata": {},
   "source": [
    "Similarites with List\n",
    "Declaration:\n"
   ]
  },
  {
   "cell_type": "code",
   "execution_count": 11,
   "metadata": {},
   "outputs": [
    {
     "name": "stdout",
     "output_type": "stream",
     "text": [
      "<class 'list'> <class 'tuple'> <class 'tuple'>\n"
     ]
    }
   ],
   "source": [
    "l=[1,2,3,4]\n",
    "t=(22,33,44,55)\n",
    "t1=2,4,5,6,6\n",
    "print(type(l),type(t),type(t1))"
   ]
  },
  {
   "cell_type": "markdown",
   "metadata": {},
   "source": [
    "Indexing\n"
   ]
  },
  {
   "cell_type": "code",
   "execution_count": 14,
   "metadata": {},
   "outputs": [
    {
     "name": "stdout",
     "output_type": "stream",
     "text": [
      "4 4\n"
     ]
    }
   ],
   "source": [
    "l = [3, 5, 4, 2, 1]  \n",
    "t = (3, 5, 4, 2, 1) \n",
    "print(l[2],t[2])"
   ]
  },
  {
   "cell_type": "markdown",
   "metadata": {},
   "source": [
    "Scalar Multiplication:\n"
   ]
  },
  {
   "cell_type": "code",
   "execution_count": 15,
   "metadata": {},
   "outputs": [
    {
     "name": "stdout",
     "output_type": "stream",
     "text": [
      "[12, 32, 44, 55, 12, 32, 44, 55, 12, 32, 44, 55]\n",
      "(12, 32, 44, 55, 12, 32, 44, 55, 12, 32, 44, 55)\n"
     ]
    }
   ],
   "source": [
    "print([12,32,44,55]*3)\n",
    "print((12,32,44,55)*3)"
   ]
  },
  {
   "cell_type": "markdown",
   "metadata": {},
   "source": [
    "Iteration"
   ]
  },
  {
   "cell_type": "code",
   "execution_count": 20,
   "metadata": {},
   "outputs": [
    {
     "name": "stdout",
     "output_type": "stream",
     "text": [
      "1\n",
      "2\n",
      "3\n",
      "4\n",
      "5\n",
      "Tuple\n",
      "1\n",
      "2\n",
      "3\n",
      "4\n",
      "5\n"
     ]
    }
   ],
   "source": [
    "l=[1,2,3,4,5]\n",
    "for i in l:\n",
    "    print(i)\n",
    "t=(1,2,3,4,5)\n",
    "print('Tuple')\n",
    "for j in t:\n",
    "    print(j)"
   ]
  },
  {
   "cell_type": "markdown",
   "metadata": {},
   "source": [
    "Slicing and -ve Indexing:\n"
   ]
  },
  {
   "cell_type": "code",
   "execution_count": 23,
   "metadata": {},
   "outputs": [
    {
     "name": "stdout",
     "output_type": "stream",
     "text": [
      "[33, 4, 55, 66]\n",
      "(4, 55, 66)\n"
     ]
    }
   ],
   "source": [
    "l=[22,33,4,55,66]\n",
    "t=(22,33,4,55,66)\n",
    "print(l[1:])\n",
    "print(t[2:])"
   ]
  },
  {
   "cell_type": "code",
   "execution_count": 24,
   "metadata": {},
   "outputs": [
    {
     "name": "stdout",
     "output_type": "stream",
     "text": [
      "-------\n",
      "Slicing\n",
      "-------\n",
      "(25000.0,)\n",
      "[5, 9, 3]\n",
      "------------\n",
      "-Ve Indexing\n",
      "------------\n",
      "(True, 25000.0, 'John', 1234)\n",
      "[6, 10, 7, 3, 1, 9, 4, 5, 2, 8]\n"
     ]
    }
   ],
   "source": [
    "t = (1234, 'John', 25000.0, True)\n",
    "l = [8, 2, 5, 4, 9, 1, 3, 7, 10, 6]\n",
    "print (\"-------\") \n",
    "print (\"Slicing\") \n",
    "print (\"-------\")\n",
    "print (t[2:7:2]) \n",
    "print (l[2:7:2])\n",
    "print (\"------------\") \n",
    "print (\"-Ve Indexing\") \n",
    "print (\"------------\")\n",
    "print(t[::-1]) \n",
    "print(l[::-1])"
   ]
  },
  {
   "cell_type": "markdown",
   "metadata": {},
   "source": [
    "Tuple unpacking\n",
    "Unpacking:\n"
   ]
  },
  {
   "cell_type": "code",
   "execution_count": 25,
   "metadata": {},
   "outputs": [],
   "source": [
    "t=(9,6,7)\n",
    "x,c,v=t"
   ]
  },
  {
   "cell_type": "code",
   "execution_count": 26,
   "metadata": {},
   "outputs": [
    {
     "data": {
      "text/plain": [
       "9"
      ]
     },
     "execution_count": 26,
     "metadata": {},
     "output_type": "execute_result"
    }
   ],
   "source": [
    "x"
   ]
  },
  {
   "cell_type": "code",
   "execution_count": 28,
   "metadata": {},
   "outputs": [
    {
     "name": "stdout",
     "output_type": "stream",
     "text": [
      "x is 7 ,y is 5,z is 4\n"
     ]
    }
   ],
   "source": [
    "x,y,z=(7,5,4)\n",
    "print('x is {} ,y is {},z is {}'.format(x,y,z))"
   ]
  },
  {
   "cell_type": "markdown",
   "metadata": {},
   "source": [
    "Swapping two values in python:"
   ]
  },
  {
   "cell_type": "code",
   "execution_count": 29,
   "metadata": {},
   "outputs": [
    {
     "name": "stdout",
     "output_type": "stream",
     "text": [
      "56 233\n"
     ]
    }
   ],
   "source": [
    "x=233\n",
    "y=56\n",
    "x,y = y,x\n",
    "print(x,y)"
   ]
  },
  {
   "cell_type": "code",
   "execution_count": 30,
   "metadata": {},
   "outputs": [
    {
     "data": {
      "text/plain": [
       "[8, 2, 5, 4, 9, 1, 3, 7, 10, 6]"
      ]
     },
     "execution_count": 30,
     "metadata": {},
     "output_type": "execute_result"
    }
   ],
   "source": [
    "l"
   ]
  },
  {
   "cell_type": "markdown",
   "metadata": {},
   "source": [
    "COunting"
   ]
  },
  {
   "cell_type": "code",
   "execution_count": 34,
   "metadata": {},
   "outputs": [
    {
     "data": {
      "text/plain": [
       "3"
      ]
     },
     "execution_count": 34,
     "metadata": {},
     "output_type": "execute_result"
    }
   ],
   "source": [
    "t=[1,2,3,4,2,3,4,22,2]\n",
    "t.count(2)\n"
   ]
  },
  {
   "cell_type": "markdown",
   "metadata": {},
   "source": [
    "** Iterating list of tuples:"
   ]
  },
  {
   "cell_type": "code",
   "execution_count": 35,
   "metadata": {},
   "outputs": [
    {
     "name": "stdout",
     "output_type": "stream",
     "text": [
      "['Apple', 1]\n",
      "['Orange', 3]\n",
      "['Coco', 4]\n"
     ]
    }
   ],
   "source": [
    "l=(['Apple',1],['Orange',3],['Coco',4])\n",
    "for i in l:\n",
    "    print(i)"
   ]
  },
  {
   "cell_type": "code",
   "execution_count": 37,
   "metadata": {},
   "outputs": [
    {
     "name": "stdout",
     "output_type": "stream",
     "text": [
      "Apple ->> 1\n",
      "Orange ->> 3\n",
      "Coco ->> 4\n"
     ]
    }
   ],
   "source": [
    "for x in l:   \n",
    "    print (x[0], '->>', x[1])\n"
   ]
  },
  {
   "cell_type": "code",
   "execution_count": 38,
   "metadata": {},
   "outputs": [
    {
     "name": "stdout",
     "output_type": "stream",
     "text": [
      "Apple 1\n",
      "Orange 3\n",
      "Coco 4\n"
     ]
    }
   ],
   "source": [
    "for fruit, count in l:\n",
    "    print(fruit, count)"
   ]
  },
  {
   "cell_type": "code",
   "execution_count": 39,
   "metadata": {},
   "outputs": [
    {
     "name": "stdout",
     "output_type": "stream",
     "text": [
      "Apple 1\n",
      "Orange 3\n",
      "Coco 4\n"
     ]
    }
   ],
   "source": [
    "for x, y in l: \n",
    "    print(x, y)"
   ]
  },
  {
   "cell_type": "markdown",
   "metadata": {},
   "source": [
    "Tuple unpacking"
   ]
  },
  {
   "cell_type": "code",
   "execution_count": 40,
   "metadata": {},
   "outputs": [
    {
     "name": "stdout",
     "output_type": "stream",
     "text": [
      "Apple 30\n",
      "Mango 25\n",
      "peach 35\n"
     ]
    }
   ],
   "source": [
    "fruit_bucket = [('Apple', 30), ('Grape', 20), ('Mango', 25), ('peach', 35)] \n",
    "\n",
    "for i , x in fruit_bucket:\n",
    "    if x>20:\n",
    "        print(i,x)\n"
   ]
  },
  {
   "cell_type": "code",
   "execution_count": 47,
   "metadata": {},
   "outputs": [
    {
     "name": "stdout",
     "output_type": "stream",
     "text": [
      "1237 Amanda Chemistry 25000 45\n"
     ]
    }
   ],
   "source": [
    "eid, name, dept, sal, age =  [1237, 'Amanda', 'Chemistry', 25000, 45] \n",
    "eid, name, dept, sal, age =  (1237, 'Amanda', 'Chemistry', 25000, 45)\n",
    "print(eid,name,dept,sal,age)\n"
   ]
  },
  {
   "cell_type": "markdown",
   "metadata": {},
   "source": [
    "In each iteration one tuple will be unpacked to 'fruit' and 'count' variables.\n"
   ]
  },
  {
   "cell_type": "markdown",
   "metadata": {},
   "source": [
    "Exercise:\n",
    "employee_db = [(1234, 'John', 'Physics', 23000),\n",
    "(1235, 'Christen', 'Maths', 13000),\n",
    "(1236, 'Samanta', 'Maths', 40000),\n",
    "(1237, 'Amanda', 'Chemistry', 25000),\n",
    "(1238, 'Vicky', 'Maths', 10000),] \n",
    "Print all the employees whose salaries are greater than the average salary"
   ]
  },
  {
   "cell_type": "code",
   "execution_count": 50,
   "metadata": {},
   "outputs": [
    {
     "name": "stdout",
     "output_type": "stream",
     "text": [
      "22200.0\n",
      "[1234, 'John', 'Physics', 23000]\n",
      "[1236, 'Samanta', 'Maths', 40000]\n",
      "[1237, 'Amanda', 'Chemistry', 25000]\n"
     ]
    }
   ],
   "source": [
    "employee_db = [(1234, 'John', 'Physics', 23000),\n",
    "               (1235, 'Christen', 'Maths', 13000),  \n",
    "               (1236, 'Samanta', 'Maths', 40000),                \n",
    "               (1237, 'Amanda', 'Chemistry', 25000), \n",
    "               (1238, 'Vicky', 'Maths', 10000),   \n",
    "              ]\n",
    "total_sal = 0 \n",
    "\n",
    "for *other,esal in employee_db:\n",
    "    total_sal+=esal\n",
    "    \n",
    "average_sal= total_sal/ len(employee_db)\n",
    "print(average_sal)\n",
    "\n",
    "for *other, esal in employee_db: \n",
    "    if esal > average_sal:\n",
    "        print(other + [esal])\n"
   ]
  },
  {
   "cell_type": "markdown",
   "metadata": {},
   "source": [
    "Ignoring unwanted values using '_'\n"
   ]
  },
  {
   "cell_type": "code",
   "execution_count": 48,
   "metadata": {},
   "outputs": [
    {
     "name": "stdout",
     "output_type": "stream",
     "text": [
      "['Amanda', 'Chemistry', 25000] 1237 45 <class 'list'>\n"
     ]
    }
   ],
   "source": [
    "eid, *_, age =  (1237, 'Amanda', 'Chemistry', 25000, 45) \n",
    "print(_, eid, age, type(other))\n"
   ]
  },
  {
   "cell_type": "code",
   "execution_count": 51,
   "metadata": {},
   "outputs": [
    {
     "name": "stdout",
     "output_type": "stream",
     "text": [
      "Physics 23000\n",
      "Maths 13000\n",
      "Maths 40000\n",
      "Chemistry 25000\n",
      "Maths 10000\n"
     ]
    }
   ],
   "source": [
    "for *other,sub,esal in employee_db:\n",
    "    print(sub,esal)"
   ]
  },
  {
   "cell_type": "code",
   "execution_count": null,
   "metadata": {},
   "outputs": [],
   "source": []
  }
 ],
 "metadata": {
  "kernelspec": {
   "display_name": "Python 3",
   "language": "python",
   "name": "python3"
  },
  "language_info": {
   "codemirror_mode": {
    "name": "ipython",
    "version": 3
   },
   "file_extension": ".py",
   "mimetype": "text/x-python",
   "name": "python",
   "nbconvert_exporter": "python",
   "pygments_lexer": "ipython3",
   "version": "3.6.5"
  }
 },
 "nbformat": 4,
 "nbformat_minor": 2
}
