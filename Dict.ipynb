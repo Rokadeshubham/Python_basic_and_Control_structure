{
 "cells": [
  {
   "cell_type": "markdown",
   "metadata": {},
   "source": [
    "Dictionary"
   ]
  },
  {
   "cell_type": "code",
   "execution_count": null,
   "metadata": {},
   "outputs": [],
   "source": [
    "di={'apple':10,'banan':20}"
   ]
  },
  {
   "cell_type": "code",
   "execution_count": null,
   "metadata": {},
   "outputs": [],
   "source": [
    "di"
   ]
  },
  {
   "cell_type": "code",
   "execution_count": null,
   "metadata": {},
   "outputs": [],
   "source": [
    "di['apple']"
   ]
  },
  {
   "cell_type": "code",
   "execution_count": null,
   "metadata": {},
   "outputs": [],
   "source": [
    "di[10]"
   ]
  },
  {
   "cell_type": "code",
   "execution_count": null,
   "metadata": {},
   "outputs": [],
   "source": [
    "di(0)"
   ]
  },
  {
   "cell_type": "code",
   "execution_count": null,
   "metadata": {},
   "outputs": [],
   "source": [
    "d={'Sunday':10,'Monday':20,'Tuesday':33,'Wednsday':37.33,'Thursday':37,'Friday':32.44,'Saturday':39}\n",
    "d"
   ]
  },
  {
   "cell_type": "code",
   "execution_count": null,
   "metadata": {},
   "outputs": [],
   "source": [
    "d['Sunday']"
   ]
  },
  {
   "cell_type": "code",
   "execution_count": null,
   "metadata": {},
   "outputs": [],
   "source": [
    "for i in d:\n",
    "    print(i)"
   ]
  },
  {
   "cell_type": "markdown",
   "metadata": {},
   "source": [
    "Correct way to write a for loop for a dictionary"
   ]
  },
  {
   "cell_type": "code",
   "execution_count": null,
   "metadata": {},
   "outputs": [],
   "source": [
    "for i in d:\n",
    "    print(i,d[i])"
   ]
  },
  {
   "cell_type": "markdown",
   "metadata": {},
   "source": [
    "Creating an empty dictionary:"
   ]
  },
  {
   "cell_type": "code",
   "execution_count": null,
   "metadata": {},
   "outputs": [],
   "source": [
    "f={}"
   ]
  },
  {
   "cell_type": "code",
   "execution_count": null,
   "metadata": {},
   "outputs": [],
   "source": [
    "f=dict()"
   ]
  },
  {
   "cell_type": "code",
   "execution_count": null,
   "metadata": {},
   "outputs": [],
   "source": [
    "type(f)"
   ]
  },
  {
   "cell_type": "markdown",
   "metadata": {},
   "source": [
    "Creating dict and initilizing with key-value pairs:"
   ]
  },
  {
   "cell_type": "code",
   "execution_count": null,
   "metadata": {},
   "outputs": [],
   "source": [
    "f={'Mango':1,'Pine':30,'Orange':40,'Peach':33}\n",
    "print(f)"
   ]
  },
  {
   "cell_type": "code",
   "execution_count": null,
   "metadata": {},
   "outputs": [],
   "source": [
    "f"
   ]
  },
  {
   "cell_type": "markdown",
   "metadata": {},
   "source": [
    "Retreiving value from dictionary"
   ]
  },
  {
   "cell_type": "code",
   "execution_count": null,
   "metadata": {},
   "outputs": [],
   "source": [
    "f"
   ]
  },
  {
   "cell_type": "code",
   "execution_count": null,
   "metadata": {},
   "outputs": [],
   "source": [
    "print(f['Mango'])"
   ]
  },
  {
   "cell_type": "code",
   "execution_count": null,
   "metadata": {},
   "outputs": [],
   "source": [
    "f['Orange']"
   ]
  },
  {
   "cell_type": "code",
   "execution_count": null,
   "metadata": {},
   "outputs": [],
   "source": [
    "f['peach']=100"
   ]
  },
  {
   "cell_type": "code",
   "execution_count": null,
   "metadata": {},
   "outputs": [],
   "source": [
    "f"
   ]
  },
  {
   "cell_type": "markdown",
   "metadata": {},
   "source": [
    "Adding key-value pair to a dictionary: \n",
    "Syntax: \n",
    "        d[Key] = Value"
   ]
  },
  {
   "cell_type": "code",
   "execution_count": null,
   "metadata": {},
   "outputs": [],
   "source": [
    "d={'apple':a,'ball':b}"
   ]
  },
  {
   "cell_type": "code",
   "execution_count": null,
   "metadata": {},
   "outputs": [],
   "source": [
    "d={'bat':30,'pad':40,'ball':49,'footbal':50}"
   ]
  },
  {
   "cell_type": "code",
   "execution_count": null,
   "metadata": {},
   "outputs": [],
   "source": [
    "d['volleyball']=300\n"
   ]
  },
  {
   "cell_type": "code",
   "execution_count": null,
   "metadata": {},
   "outputs": [],
   "source": [
    "d"
   ]
  },
  {
   "cell_type": "markdown",
   "metadata": {},
   "source": [
    "Accessing a key, which doesn't exist:"
   ]
  },
  {
   "cell_type": "code",
   "execution_count": null,
   "metadata": {},
   "outputs": [],
   "source": [
    "d"
   ]
  },
  {
   "cell_type": "code",
   "execution_count": null,
   "metadata": {},
   "outputs": [],
   "source": [
    "d['grape']"
   ]
  },
  {
   "cell_type": "markdown",
   "metadata": {},
   "source": [
    "Using get() function:"
   ]
  },
  {
   "cell_type": "code",
   "execution_count": null,
   "metadata": {},
   "outputs": [],
   "source": [
    "d={'Mango':1,'Pine':30,'Orange':40,'Peach':33}\n"
   ]
  },
  {
   "cell_type": "code",
   "execution_count": null,
   "metadata": {},
   "outputs": [],
   "source": [
    "print(d.get('grapes'))"
   ]
  },
  {
   "cell_type": "markdown",
   "metadata": {},
   "source": [
    "We can also specify, default value to return, if key doesn't exist."
   ]
  },
  {
   "cell_type": "code",
   "execution_count": null,
   "metadata": {},
   "outputs": [],
   "source": [
    "d={'Mango':1,'Pine':30,'Orange':40,'Peach':33}\n",
    "print(d.get('grapes',43))"
   ]
  },
  {
   "cell_type": "markdown",
   "metadata": {},
   "source": [
    "Setting default Value if no value exists"
   ]
  },
  {
   "cell_type": "code",
   "execution_count": null,
   "metadata": {},
   "outputs": [],
   "source": [
    "d={'Mango':1,'Pine':30,'Orange':40,'Peach':33}\n",
    "print(d.setdefault('grapes',43))"
   ]
  },
  {
   "cell_type": "code",
   "execution_count": null,
   "metadata": {},
   "outputs": [],
   "source": [
    "d"
   ]
  },
  {
   "cell_type": "code",
   "execution_count": null,
   "metadata": {},
   "outputs": [],
   "source": [
    "d.setdefault('Mango',40)"
   ]
  },
  {
   "cell_type": "markdown",
   "metadata": {},
   "source": [
    "Checking Key existance in a dictionary"
   ]
  },
  {
   "cell_type": "code",
   "execution_count": null,
   "metadata": {},
   "outputs": [],
   "source": [
    "d"
   ]
  },
  {
   "cell_type": "code",
   "execution_count": null,
   "metadata": {},
   "outputs": [],
   "source": [
    "v={'Bentley':11,'Audi':12,'Mercedez':32,'Lambo':43}\n",
    "key='Volvo'\n",
    "print(key in d)"
   ]
  },
  {
   "cell_type": "code",
   "execution_count": null,
   "metadata": {},
   "outputs": [],
   "source": [
    "v['Volvo']=32"
   ]
  },
  {
   "cell_type": "code",
   "execution_count": null,
   "metadata": {},
   "outputs": [],
   "source": [
    "v"
   ]
  },
  {
   "cell_type": "markdown",
   "metadata": {},
   "source": [
    "Removing a key-value pair"
   ]
  },
  {
   "cell_type": "code",
   "execution_count": null,
   "metadata": {},
   "outputs": [],
   "source": [
    "v"
   ]
  },
  {
   "cell_type": "code",
   "execution_count": null,
   "metadata": {},
   "outputs": [],
   "source": [
    "key='Audi'\n",
    "v.pop(key)\n",
    "print(v)"
   ]
  },
  {
   "cell_type": "markdown",
   "metadata": {},
   "source": [
    "Iterating through for loop"
   ]
  },
  {
   "cell_type": "code",
   "execution_count": null,
   "metadata": {},
   "outputs": [],
   "source": [
    "v"
   ]
  },
  {
   "cell_type": "code",
   "execution_count": null,
   "metadata": {},
   "outputs": [],
   "source": [
    "for i in v:\n",
    "    print(i ,v[i])"
   ]
  },
  {
   "cell_type": "markdown",
   "metadata": {},
   "source": [
    "Removing a key-value pair"
   ]
  },
  {
   "cell_type": "code",
   "execution_count": null,
   "metadata": {},
   "outputs": [],
   "source": [
    "v"
   ]
  },
  {
   "cell_type": "code",
   "execution_count": null,
   "metadata": {},
   "outputs": [],
   "source": [
    "v.keys()"
   ]
  },
  {
   "cell_type": "code",
   "execution_count": null,
   "metadata": {},
   "outputs": [],
   "source": [
    "d.values()"
   ]
  },
  {
   "cell_type": "code",
   "execution_count": null,
   "metadata": {},
   "outputs": [],
   "source": [
    "d.items()"
   ]
  },
  {
   "cell_type": "markdown",
   "metadata": {},
   "source": [
    "iterate through a list of tuples \n"
   ]
  },
  {
   "cell_type": "code",
   "execution_count": null,
   "metadata": {},
   "outputs": [],
   "source": [
    "d"
   ]
  },
  {
   "cell_type": "code",
   "execution_count": null,
   "metadata": {},
   "outputs": [],
   "source": [
    "for i, j in d.items():\n",
    "    print(i,j)"
   ]
  },
  {
   "cell_type": "markdown",
   "metadata": {},
   "source": [
    "Converting a list of tuples to a dict:"
   ]
  },
  {
   "cell_type": "code",
   "execution_count": null,
   "metadata": {},
   "outputs": [],
   "source": [
    "lt=[('apple',30),('banans',30),('orange',60)]\n",
    "dlt=dict(lt)\n",
    "print(dlt)"
   ]
  },
  {
   "cell_type": "markdown",
   "metadata": {},
   "source": [
    "Converting a list of list to a dict:"
   ]
  },
  {
   "cell_type": "code",
   "execution_count": null,
   "metadata": {},
   "outputs": [],
   "source": [
    "ll=[['banana',30],['apple',100],['pulm',50]]\n",
    "dll=dict(ll)\n",
    "print(dll)"
   ]
  },
  {
   "cell_type": "markdown",
   "metadata": {},
   "source": [
    "Updating/extending a dictionary\n"
   ]
  },
  {
   "cell_type": "code",
   "execution_count": null,
   "metadata": {},
   "outputs": [],
   "source": [
    "d1={'sony':30,'samsung':23,'moto':45,'back':55}\n",
    "d2={'apple':33,'oneplus':21}\n",
    "d1.update(d2)\n",
    "print(d1)"
   ]
  },
  {
   "cell_type": "markdown",
   "metadata": {},
   "source": [
    "type constraints in Keys and Values:"
   ]
  },
  {
   "cell_type": "code",
   "execution_count": 1,
   "metadata": {},
   "outputs": [
    {
     "name": "stdout",
     "output_type": "stream",
     "text": [
      "('Python', 'SQL')\n"
     ]
    }
   ],
   "source": [
    "d = {    1234        : ['C++', 'Java'],  \n",
    "     (1299, 1289): ('Python', 'SQL'),  \n",
    "     '1288'        : {'C#', 'Python'},\n",
    "     (1266, 1277): 'Pyhon'    }\n",
    "print(d[(1299, 1289)])\n"
   ]
  },
  {
   "cell_type": "code",
   "execution_count": 2,
   "metadata": {},
   "outputs": [
    {
     "name": "stdout",
     "output_type": "stream",
     "text": [
      "['C++', 'Java']\n"
     ]
    }
   ],
   "source": [
    "print(d[1234])"
   ]
  },
  {
   "cell_type": "code",
   "execution_count": null,
   "metadata": {},
   "outputs": [],
   "source": [
    "print(d['1288'])"
   ]
  },
  {
   "cell_type": "markdown",
   "metadata": {},
   "source": [
    "Indexing"
   ]
  },
  {
   "cell_type": "markdown",
   "metadata": {},
   "source": [
    "USECASE 1"
   ]
  },
  {
   "cell_type": "code",
   "execution_count": null,
   "metadata": {},
   "outputs": [],
   "source": [
    "person_data = {    ('John Corner', 1964, 'Newyork') : ('John Corner', 'St Mary St', 'Stuart Corner'),\n",
    "                   ('Ian Flemming', 1967, 'Perth')  : ('Ian Flemming','Richmond St', 'Grant Flemmin'),\n",
    "               ('John Corner', 1964, 'Sydney')  : ('John Corner', 'Orchid str', 'Steffan Corner }\n",
    "\n"
   ]
  },
  {
   "cell_type": "code",
   "execution_count": null,
   "metadata": {},
   "outputs": [],
   "source": [
    "('John Corner', 1964, 'Sydney') in person_data"
   ]
  },
  {
   "cell_type": "markdown",
   "metadata": {},
   "source": [
    "COUNTING"
   ]
  },
  {
   "cell_type": "code",
   "execution_count": null,
   "metadata": {},
   "outputs": [],
   "source": [
    "words = [\"Apple\", \"Orange\", \"Apple\", \"Banana\", \"Peach\",\n",
    "         \"Banana\", \"Apple\", \"Peach\", \"Apple\", \"Banana\"] \n",
    "for i in words:\n",
    "    print( i,words.count(i))"
   ]
  },
  {
   "cell_type": "code",
   "execution_count": null,
   "metadata": {},
   "outputs": [],
   "source": [
    "words"
   ]
  },
  {
   "cell_type": "code",
   "execution_count": null,
   "metadata": {},
   "outputs": [],
   "source": [
    "words = [\"Apple\", \"Orange\", \"Apple\", \"Banana\", \"Peach\", \n",
    "         \"Banana\", \"Apple\", \"Peach\", \"Apple\", \"Banana\"] \n",
    "count={}\n",
    "for i in words:\n",
    "    if i not in count:\n",
    "        count[i] =1\n",
    "    else:\n",
    "        count[i] += 1\n",
    "print(count)\n"
   ]
  },
  {
   "cell_type": "code",
   "execution_count": null,
   "metadata": {},
   "outputs": [],
   "source": [
    "words = [\"Apple\", \"Orange\", \"Apple\", \"Banana\", \"Peach\",  \n",
    "         \"Banana\", \"Apple\", \"Peach\", \"Apple\", \"Banana\"]\n",
    "count = {} \n",
    "for word in words:   \n",
    "    if word not in count:\n",
    "        count[word] = 1 \n",
    "    else:  \n",
    "            count[word] += 1\n",
    "print(count)\n"
   ]
  },
  {
   "cell_type": "code",
   "execution_count": null,
   "metadata": {},
   "outputs": [],
   "source": [
    "words"
   ]
  },
  {
   "cell_type": "markdown",
   "metadata": {},
   "source": [
    "MAX COUNT"
   ]
  },
  {
   "cell_type": "code",
   "execution_count": null,
   "metadata": {},
   "outputs": [],
   "source": [
    "cnt=max(count.items(),key=lambda x:x[1])\n",
    "print(cnt)\n"
   ]
  },
  {
   "cell_type": "code",
   "execution_count": null,
   "metadata": {},
   "outputs": [],
   "source": [
    "sorted()"
   ]
  },
  {
   "cell_type": "code",
   "execution_count": null,
   "metadata": {},
   "outputs": [],
   "source": [
    "i={'a':20,'c':33,'d':2,'w':44,'r':55,'t':66,'z':67,'q':4}\n",
    "sorted(i.items(),key= lambda x:x[1])"
   ]
  },
  {
   "cell_type": "markdown",
   "metadata": {},
   "source": [
    "max"
   ]
  },
  {
   "cell_type": "code",
   "execution_count": null,
   "metadata": {},
   "outputs": [],
   "source": [
    "maximum=max(i.items(),key = lambda x:x[1])\n",
    "print(maximum)"
   ]
  },
  {
   "cell_type": "markdown",
   "metadata": {},
   "source": [
    "Problem to return pair which sum is 10"
   ]
  },
  {
   "cell_type": "code",
   "execution_count": null,
   "metadata": {},
   "outputs": [],
   "source": [
    "l=[1,9,3,7,5,5,5,2,8]\n",
    "d={}\n",
    "n=10\n",
    "for x in l:\n",
    "    if x not in d:\n",
    "        d[x]=1\n",
    "    else:\n",
    "        d[x]+=1\n",
    "print(d)\n",
    "for x in d.keys():\n",
    "    if x == n//2:\n",
    "        c=d[x]//2\n",
    "        d[x]-=2*c\n",
    "    elif n-x in d:\n",
    "        c=min(d[x],d[n-x])\n",
    "        d[x]-=c\n",
    "        d[n-x]-=c\n",
    "    for i in range(c):\n",
    "        print(x,n-x)\n",
    "print(d)\n",
    "\n",
    "\n"
   ]
  },
  {
   "cell_type": "code",
   "execution_count": null,
   "metadata": {},
   "outputs": [],
   "source": [
    "d={'a':2,'b':4}\n",
    "d.keys()"
   ]
  },
  {
   "cell_type": "code",
   "execution_count": null,
   "metadata": {},
   "outputs": [],
   "source": [
    "trans = [(1237, 87522),\n",
    "         (1234, 1000),\n",
    "         (1236, 6754),\n",
    "         (1234, 200),\n",
    "         (1236, 1700),\n",
    "         (1234, 400),\n",
    "         (1234, 600),\n",
    "         (1236, 788),\n",
    "         (1234, 500),\n",
    "         (1237, 126653),\n",
    "         (1999, 1000)]\n",
    "\n",
    "deposite = {}\n",
    "\n",
    "for _id, cash in trans:\n",
    "    if _id not in deposite:\n",
    "        deposite[_id] = [cash]\n",
    "    else:\n",
    "        deposite[_id].append(cash)\n",
    "deposite\n",
    "\n",
    "\n",
    "\n"
   ]
  },
  {
   "cell_type": "markdown",
   "metadata": {},
   "source": [
    "Palindrome"
   ]
  },
  {
   "cell_type": "code",
   "execution_count": 13,
   "metadata": {},
   "outputs": [
    {
     "name": "stdout",
     "output_type": "stream",
     "text": [
      "enter stringmalayalam\n",
      "malayalam\n",
      "string is palindrome\n"
     ]
    }
   ],
   "source": [
    "\n",
    "s=input('enter string')\n",
    "rev=s[::-1]\n",
    "print(rev)\n",
    "if s==rev:\n",
    "    print('string is palindrome')\n",
    "else:\n",
    "    print('not')\n",
    "\n"
   ]
  },
  {
   "cell_type": "markdown",
   "metadata": {},
   "source": [
    "STRING ANAGRAM'S\n"
   ]
  },
  {
   "cell_type": "code",
   "execution_count": 16,
   "metadata": {},
   "outputs": [
    {
     "name": "stdout",
     "output_type": "stream",
     "text": [
      "enter string1:shu\n",
      "enter string:2hus\n",
      "string is anagram\n"
     ]
    }
   ],
   "source": [
    "s1=input('enter string1:')\n",
    "s2=input('enter string:2')\n",
    "if sorted(s1)==sorted(s2):\n",
    "    print('string is anagram')\n",
    "else:\n",
    "    print('not anagram')"
   ]
  },
  {
   "cell_type": "code",
   "execution_count": 19,
   "metadata": {},
   "outputs": [
    {
     "name": "stdout",
     "output_type": "stream",
     "text": [
      "enter string1:sat\n",
      "enter string:2tsa\n",
      "String is Anagram\n"
     ]
    }
   ],
   "source": [
    "from collections import Counter\n",
    "s1=input('enter string1:')\n",
    "s2=input('enter string:2')\n",
    "if Counter(s1)==Counter(s2):\n",
    "    print('String is Anagram')\n",
    "else:\n",
    "    print('not anagram')"
   ]
  },
  {
   "cell_type": "code",
   "execution_count": 23,
   "metadata": {},
   "outputs": [
    {
     "name": "stdout",
     "output_type": "stream",
     "text": [
      "['cat', 'tac', 'act']\n",
      "['tab', 'bat']\n",
      "['apt', 'tap']\n"
     ]
    }
   ],
   "source": [
    "from collections import defaultdict\n",
    "words = ['hell', 'cat', 'bell',\n",
    "         'tab','tac', 'apt', 'dell',\n",
    "         'act', 'tap', 'bat']\n",
    "d = defaultdict(list) \n",
    "for word in words:\n",
    "    ana=''.join(sorted(word))\n",
    "    d[ana].append(word)\n",
    "for ana,anagram in d.items():\n",
    "    if len(anagram)>1:\n",
    "        print(anagram)"
   ]
  },
  {
   "cell_type": "markdown",
   "metadata": {},
   "source": [
    "MICROSOFT CONTEST PROGRAM"
   ]
  },
  {
   "cell_type": "markdown",
   "metadata": {},
   "source": [
    "List of votes and contestants and age are given.\n",
    "1. Find the contestant who wins the elections. \n",
    "2. If there is a tie, older contenstant wins"
   ]
  },
  {
   "cell_type": "code",
   "execution_count": 38,
   "metadata": {},
   "outputs": [
    {
     "name": "stdout",
     "output_type": "stream",
     "text": [
      "Winner is: Alex  With Count: 3\n"
     ]
    }
   ],
   "source": [
    "from collections import Counter,defaultdict\n",
    "votes = ['Kenny','Amanda', 'John', 'Vicky', 'Alex','Amanda', \n",
    "         'John','Alex','Kenny', 'Vicky','Charles', 'Alex', \n",
    "         'Kenny','Eric','Charles', 'Eric',    'Laura',  'Michelle',\n",
    "         'Eric',  'Vicky'] \n",
    "age = {'Kenny': 61,        'Amanda': 54,        'Alex': 79,   \n",
    "       'John': 80,        'Vicky': 34,        'Eric': 50,   \n",
    "       'Laura': 55,       'Michelle': 42,       'Charles': 70} \n",
    "\n",
    "# Finding vote count for each contestant \n",
    "namecnt=Counter(votes)\n",
    "names=defaultdict(list)\n",
    "# Grouping constestants with same count \n",
    "for n ,count in namecnt.items():\n",
    "    names[count].append(n)\n",
    "#finding winner\n",
    "count,candidate = max(names.items())\n",
    "# Finding max by their age\n",
    "winner = max(candidate, key=lambda x:age[x])\n",
    "print ('Winner is:', winner, ' With Count:', count)\n",
    "    \n"
   ]
  },
  {
   "cell_type": "code",
   "execution_count": null,
   "metadata": {},
   "outputs": [],
   "source": []
  }
 ],
 "metadata": {
  "kernelspec": {
   "display_name": "Python 3",
   "language": "python",
   "name": "python3"
  },
  "language_info": {
   "codemirror_mode": {
    "name": "ipython",
    "version": 3
   },
   "file_extension": ".py",
   "mimetype": "text/x-python",
   "name": "python",
   "nbconvert_exporter": "python",
   "pygments_lexer": "ipython3",
   "version": "3.6.5"
  }
 },
 "nbformat": 4,
 "nbformat_minor": 2
}
