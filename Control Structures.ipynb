{
 "cells": [
  {
   "cell_type": "markdown",
   "metadata": {},
   "source": [
    "Read a number from keyboard, and if the number is even, print 'EVEN'."
   ]
  },
  {
   "cell_type": "code",
   "execution_count": null,
   "metadata": {},
   "outputs": [],
   "source": [
    "x = int(input('number is:'))\n",
    "if x%2==0:\n",
    "    print('even')\n",
    "else:\n",
    "    print('Odd')"
   ]
  },
  {
   "cell_type": "code",
   "execution_count": 1,
   "metadata": {},
   "outputs": [
    {
     "name": "stdout",
     "output_type": "stream",
     "text": [
      "Number is5\n",
      "odd\n"
     ]
    }
   ],
   "source": [
    "n=int(input('Number is'))\n",
    "if n%2==0:\n",
    "    print('Even')\n",
    "else:\n",
    "    print('odd')"
   ]
  },
  {
   "cell_type": "markdown",
   "metadata": {},
   "source": [
    "Read a character from keyboard. If the given input is, "
   ]
  },
  {
   "cell_type": "code",
   "execution_count": null,
   "metadata": {},
   "outputs": [],
   "source": [
    "char =input('enter char')\n",
    "if char == 'a':\n",
    "    print('Apple')\n",
    "elif char == 'b':\n",
    "    print('Ball')\n",
    "elif char == 'c':\n",
    "    print('Cat')\n",
    "else:\n",
    "    print('The end')"
   ]
  },
  {
   "cell_type": "markdown",
   "metadata": {},
   "source": [
    " Which of the following numbers [3, 7, 11] are the factors for a given number\n"
   ]
  },
  {
   "cell_type": "code",
   "execution_count": null,
   "metadata": {},
   "outputs": [],
   "source": [
    "n = int(input('enter no'))\n",
    "\n",
    "if n % 3==0:\n",
    "    print('3 is a factor')\n",
    "if n % 7==0:\n",
    "    print('7 is a factor')\n",
    "if n % 11==0:\n",
    "    print('11 is a factor')\n",
    "print('the end')"
   ]
  },
  {
   "cell_type": "markdown",
   "metadata": {},
   "source": [
    " Read a number from keyboard, \n",
    " if the number is even square it \n",
    " if it is odd multiple of 5 cube it \n",
    " if it is odd non-multiple of 5 mutiply with 10\n"
   ]
  },
  {
   "cell_type": "code",
   "execution_count": null,
   "metadata": {},
   "outputs": [],
   "source": [
    "n = int(input('enter no'))\n",
    "print(n)\n",
    "if n % 2 ==0:\n",
    "    print(n**2)\n",
    "else:\n",
    "    if n % 5== 0:\n",
    "        print(n**3)\n",
    "    else:\n",
    "        print(n*10)\n",
    "\n",
    "\n"
   ]
  },
  {
   "cell_type": "markdown",
   "metadata": {},
   "source": [
    "While loop\n",
    "Print ﬁrst 10 natural numbers.\n"
   ]
  },
  {
   "cell_type": "code",
   "execution_count": null,
   "metadata": {},
   "outputs": [],
   "source": [
    "i = 1\n",
    "while i<=10:\n",
    "    print(i ,',' ,end='')\n",
    "    i += 1"
   ]
  },
  {
   "cell_type": "markdown",
   "metadata": {},
   "source": [
    "Print all the numbers which end with 3 below 100"
   ]
  },
  {
   "cell_type": "code",
   "execution_count": null,
   "metadata": {},
   "outputs": [],
   "source": [
    "n=1\n",
    "while n<=100:\n",
    "    if n % 10 == 3:\n",
    "        print(n)\n",
    "        n+=1"
   ]
  },
  {
   "cell_type": "code",
   "execution_count": null,
   "metadata": {},
   "outputs": [],
   "source": [
    "i = 1\n",
    "while i <= 100:\n",
    "    if i%10 == 4 and i%7 == 0:\n",
    "        print(i)\n",
    "        i += 1\n"
   ]
  },
  {
   "cell_type": "code",
   "execution_count": 2,
   "metadata": {},
   "outputs": [
    {
     "name": "stdout",
     "output_type": "stream",
     "text": [
      "sum of the multiples of 3 below 100 :  0\n",
      "sum of the multiples of 3 below 100 :  0\n",
      "sum of the multiples of 3 below 100 :  3\n",
      "sum of the multiples of 3 below 100 :  3\n",
      "sum of the multiples of 3 below 100 :  3\n",
      "sum of the multiples of 3 below 100 :  9\n",
      "sum of the multiples of 3 below 100 :  9\n",
      "sum of the multiples of 3 below 100 :  9\n",
      "sum of the multiples of 3 below 100 :  18\n",
      "sum of the multiples of 3 below 100 :  18\n",
      "sum of the multiples of 3 below 100 :  18\n",
      "sum of the multiples of 3 below 100 :  30\n",
      "sum of the multiples of 3 below 100 :  30\n",
      "sum of the multiples of 3 below 100 :  30\n",
      "sum of the multiples of 3 below 100 :  45\n",
      "sum of the multiples of 3 below 100 :  45\n",
      "sum of the multiples of 3 below 100 :  45\n",
      "sum of the multiples of 3 below 100 :  63\n",
      "sum of the multiples of 3 below 100 :  63\n",
      "sum of the multiples of 3 below 100 :  63\n",
      "sum of the multiples of 3 below 100 :  84\n",
      "sum of the multiples of 3 below 100 :  84\n",
      "sum of the multiples of 3 below 100 :  84\n",
      "sum of the multiples of 3 below 100 :  108\n",
      "sum of the multiples of 3 below 100 :  108\n",
      "sum of the multiples of 3 below 100 :  108\n",
      "sum of the multiples of 3 below 100 :  135\n",
      "sum of the multiples of 3 below 100 :  135\n",
      "sum of the multiples of 3 below 100 :  135\n",
      "sum of the multiples of 3 below 100 :  165\n",
      "sum of the multiples of 3 below 100 :  165\n",
      "sum of the multiples of 3 below 100 :  165\n",
      "sum of the multiples of 3 below 100 :  198\n",
      "sum of the multiples of 3 below 100 :  198\n",
      "sum of the multiples of 3 below 100 :  198\n",
      "sum of the multiples of 3 below 100 :  234\n",
      "sum of the multiples of 3 below 100 :  234\n",
      "sum of the multiples of 3 below 100 :  234\n",
      "sum of the multiples of 3 below 100 :  273\n",
      "sum of the multiples of 3 below 100 :  273\n",
      "sum of the multiples of 3 below 100 :  273\n",
      "sum of the multiples of 3 below 100 :  315\n",
      "sum of the multiples of 3 below 100 :  315\n",
      "sum of the multiples of 3 below 100 :  315\n",
      "sum of the multiples of 3 below 100 :  360\n",
      "sum of the multiples of 3 below 100 :  360\n",
      "sum of the multiples of 3 below 100 :  360\n",
      "sum of the multiples of 3 below 100 :  408\n",
      "sum of the multiples of 3 below 100 :  408\n",
      "sum of the multiples of 3 below 100 :  408\n",
      "sum of the multiples of 3 below 100 :  459\n",
      "sum of the multiples of 3 below 100 :  459\n",
      "sum of the multiples of 3 below 100 :  459\n",
      "sum of the multiples of 3 below 100 :  513\n",
      "sum of the multiples of 3 below 100 :  513\n",
      "sum of the multiples of 3 below 100 :  513\n",
      "sum of the multiples of 3 below 100 :  570\n",
      "sum of the multiples of 3 below 100 :  570\n",
      "sum of the multiples of 3 below 100 :  570\n",
      "sum of the multiples of 3 below 100 :  630\n",
      "sum of the multiples of 3 below 100 :  630\n",
      "sum of the multiples of 3 below 100 :  630\n",
      "sum of the multiples of 3 below 100 :  693\n",
      "sum of the multiples of 3 below 100 :  693\n",
      "sum of the multiples of 3 below 100 :  693\n",
      "sum of the multiples of 3 below 100 :  759\n",
      "sum of the multiples of 3 below 100 :  759\n",
      "sum of the multiples of 3 below 100 :  759\n",
      "sum of the multiples of 3 below 100 :  828\n",
      "sum of the multiples of 3 below 100 :  828\n",
      "sum of the multiples of 3 below 100 :  828\n",
      "sum of the multiples of 3 below 100 :  900\n",
      "sum of the multiples of 3 below 100 :  900\n",
      "sum of the multiples of 3 below 100 :  900\n",
      "sum of the multiples of 3 below 100 :  975\n",
      "sum of the multiples of 3 below 100 :  975\n",
      "sum of the multiples of 3 below 100 :  975\n",
      "sum of the multiples of 3 below 100 :  1053\n",
      "sum of the multiples of 3 below 100 :  1053\n",
      "sum of the multiples of 3 below 100 :  1053\n",
      "sum of the multiples of 3 below 100 :  1134\n",
      "sum of the multiples of 3 below 100 :  1134\n",
      "sum of the multiples of 3 below 100 :  1134\n",
      "sum of the multiples of 3 below 100 :  1218\n",
      "sum of the multiples of 3 below 100 :  1218\n",
      "sum of the multiples of 3 below 100 :  1218\n",
      "sum of the multiples of 3 below 100 :  1305\n",
      "sum of the multiples of 3 below 100 :  1305\n",
      "sum of the multiples of 3 below 100 :  1305\n",
      "sum of the multiples of 3 below 100 :  1395\n",
      "sum of the multiples of 3 below 100 :  1395\n",
      "sum of the multiples of 3 below 100 :  1395\n",
      "sum of the multiples of 3 below 100 :  1488\n",
      "sum of the multiples of 3 below 100 :  1488\n",
      "sum of the multiples of 3 below 100 :  1488\n",
      "sum of the multiples of 3 below 100 :  1584\n",
      "sum of the multiples of 3 below 100 :  1584\n",
      "sum of the multiples of 3 below 100 :  1584\n",
      "sum of the multiples of 3 below 100 :  1683\n",
      "sum of the multiples of 3 below 100 :  1683\n"
     ]
    }
   ],
   "source": [
    "i = 1\n",
    "s = 0\n",
    "while i <= 100:\n",
    "    if i%3 == 0:\n",
    "        s += i\n",
    "    i += 1\n",
    "    print (\"sum of the multiples of 3 below 100 : \", s)\n"
   ]
  },
  {
   "cell_type": "code",
   "execution_count": null,
   "metadata": {},
   "outputs": [],
   "source": []
  }
 ],
 "metadata": {
  "kernelspec": {
   "display_name": "Python 3",
   "language": "python",
   "name": "python3"
  },
  "language_info": {
   "codemirror_mode": {
    "name": "ipython",
    "version": 3
   },
   "file_extension": ".py",
   "mimetype": "text/x-python",
   "name": "python",
   "nbconvert_exporter": "python",
   "pygments_lexer": "ipython3",
   "version": "3.6.5"
  }
 },
 "nbformat": 4,
 "nbformat_minor": 2
}
