{
 "cells": [
  {
   "cell_type": "code",
   "execution_count": null,
   "metadata": {},
   "outputs": [],
   "source": [
    "numArray = map(int, input().split()) # Get the input\n",
    "sum_integer = 0\n",
    "# write your logic to add these 4 numbers here\n",
    "for number in numArray:\n",
    "    sum_integer += number\n",
    "\n",
    "\n",
    "\n",
    "print(sum_integer) # Print the sum"
   ]
  },
  {
   "cell_type": "code",
   "execution_count": 5,
   "metadata": {},
   "outputs": [
    {
     "name": "stdout",
     "output_type": "stream",
     "text": [
      "Enter x:0\n",
      "even\n",
      "the end\n",
      "the end\n"
     ]
    }
   ],
   "source": [
    "x = int (input('Enter x:'))\n",
    "if x % 2 == 0:\n",
    "    print('even')\n",
    "elif x % 2 != 0:\n",
    "    print('0dd')\n",
    "if x == 0 :\n",
    "    print('the end')\n",
    "print('the end')"
   ]
  },
  {
   "cell_type": "code",
   "execution_count": 9,
   "metadata": {},
   "outputs": [
    {
     "name": "stdout",
     "output_type": "stream",
     "text": [
      "enter no2\n",
      "3 8888\n",
      "8891\n"
     ]
    }
   ],
   "source": [
    "N = input('enter no')\n",
    "\n",
    "# Get the input\n",
    "numArray = map(int, input('').split())\n",
    "\n",
    "sum_integer = 0\n",
    "# Write the logic to add these numbers here\n",
    "for number in numArray :\n",
    "    sum_integer += number\n",
    "\n",
    "\n",
    "\n",
    "\n",
    "# Print the sum\n",
    "print(sum_integer)"
   ]
  },
  {
   "cell_type": "code",
   "execution_count": 10,
   "metadata": {},
   "outputs": [
    {
     "name": "stdout",
     "output_type": "stream",
     "text": [
      "5\n",
      "1 5 6 7 8\n",
      "175\n"
     ]
    }
   ],
   "source": [
    "#Sum of squares\n",
    "N = input()\n",
    "\n",
    "# Get the input\n",
    "numArray = map(int, input().split())\n",
    "\n",
    "sum_integer = 0\n",
    "# Write the logic to add these numbers here\n",
    "for number in numArray:\n",
    "    sum_integer += number * number\n",
    "\n",
    "\n",
    "\n",
    "# Print the sum\n",
    "print(sum_integer)"
   ]
  },
  {
   "cell_type": "code",
   "execution_count": 11,
   "metadata": {},
   "outputs": [
    {
     "name": "stdout",
     "output_type": "stream",
     "text": [
      "5 10\n",
      "5 6 7 8 9 10 \n"
     ]
    }
   ],
   "source": [
    "#Range of Integers\n",
    "# Get L and R from the input\n",
    "L, R = map(int, input().split())\n",
    "\n",
    "# Write here the logic to print all integers between L and R\n",
    "for number in range(L,R+1):\n",
    "    print(number, end=\" \") \n",
    "print(\"\")"
   ]
  },
  {
   "cell_type": "code",
   "execution_count": 13,
   "metadata": {},
   "outputs": [
    {
     "name": "stdout",
     "output_type": "stream",
     "text": [
      "2\n",
      "22 43\n",
      "66 55\n",
      "88 98 \n"
     ]
    }
   ],
   "source": [
    "#adding two arrays\n",
    "N = int(input())\n",
    "\n",
    "# Get the array \n",
    "numArray1 = list(map(int, input().split()))\n",
    "numArray2 = list(map(int, input().split()))\n",
    "\n",
    "sumArray = []\n",
    "\n",
    "# Write the logic here:\n",
    "\n",
    "for i in range(0, N):\n",
    "    sumArray.append(numArray1[i]+numArray2[i])\n",
    "\n",
    "\n",
    "# Print the sumArray\n",
    "for element in sumArray:\n",
    "    print(element, end=\" \")\n",
    "    \n",
    "print(\"\")"
   ]
  },
  {
   "cell_type": "code",
   "execution_count": 19,
   "metadata": {},
   "outputs": [
    {
     "name": "stdout",
     "output_type": "stream",
     "text": [
      "* \r\n",
      "* * \r\n",
      "* * * \r\n",
      "* * * * \r\n",
      "* * * * * \r\n",
      "* * * * * * \r\n",
      "* * * * * * * \r\n",
      "* * * * * * * * \r\n",
      "* * * * * * * * * \r\n",
      "* * * * * * * * * * \r\n"
     ]
    }
   ],
   "source": [
    "#print * trangle\n",
    "def pypart(n):\n",
    "    for numi in range(0,n):\n",
    "        for numj in range(0,numi+1):\n",
    "            print(\"* \",end=\"\")\n",
    "        print(\"\\r\")\n",
    " \n",
    "# Driver Code\n",
    "n = 10\n",
    "pypart(n)\n"
   ]
  },
  {
   "cell_type": "code",
   "execution_count": null,
   "metadata": {},
   "outputs": [],
   "source": []
  }
 ],
 "metadata": {
  "kernelspec": {
   "display_name": "Python 3",
   "language": "python",
   "name": "python3"
  },
  "language_info": {
   "codemirror_mode": {
    "name": "ipython",
    "version": 3
   },
   "file_extension": ".py",
   "mimetype": "text/x-python",
   "name": "python",
   "nbconvert_exporter": "python",
   "pygments_lexer": "ipython3",
   "version": "3.6.5"
  }
 },
 "nbformat": 4,
 "nbformat_minor": 2
}
