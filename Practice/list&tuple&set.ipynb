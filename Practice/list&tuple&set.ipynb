{
 "cells": [
  {
   "cell_type": "markdown",
   "metadata": {},
   "source": [
    "Find biggest element from the list"
   ]
  },
  {
   "cell_type": "code",
   "execution_count": 4,
   "metadata": {},
   "outputs": [
    {
     "name": "stdout",
     "output_type": "stream",
     "text": [
      "99\n"
     ]
    }
   ],
   "source": [
    "l = [2,4,4,1,2,3,4,5,6,77,88,99,55]\n",
    "biggest = l[0]\n",
    "for i in l[1:]:\n",
    "    if biggest<=i:\n",
    "        biggest = i\n",
    "print(biggest)"
   ]
  },
  {
   "cell_type": "markdown",
   "metadata": {},
   "source": [
    "Square of each element in list"
   ]
  },
  {
   "cell_type": "code",
   "execution_count": 6,
   "metadata": {},
   "outputs": [
    {
     "name": "stdout",
     "output_type": "stream",
     "text": [
      "[4, 16, 16, 1, 4, 9, 16, 25, 36, 5929, 7744, 9801, 3025]\n"
     ]
    }
   ],
   "source": [
    "l = [2,4,4,1,2,3,4,5,6,77,88,99,55]\n",
    "i=0\n",
    "while i< len(l):\n",
    "    l[i] = l[i]*l[i]\n",
    "    i+=1\n",
    "print(l)"
   ]
  },
  {
   "cell_type": "code",
   "execution_count": 12,
   "metadata": {},
   "outputs": [
    {
     "name": "stdout",
     "output_type": "stream",
     "text": [
      "[4, 9, 16, 25, 36, 49, 64, 81]\n"
     ]
    }
   ],
   "source": [
    "l = [2,3,4,5,6,7,8,9]\n",
    "for i , item in enumerate(l):\n",
    "    l[i] = item * item\n",
    "print(l)"
   ]
  },
  {
   "cell_type": "markdown",
   "metadata": {},
   "source": [
    "### Enumerate"
   ]
  },
  {
   "cell_type": "code",
   "execution_count": 11,
   "metadata": {},
   "outputs": [
    {
     "name": "stdout",
     "output_type": "stream",
     "text": [
      "1 Apple\n",
      "2 Banana\n",
      "3 Mango\n",
      "4 Orange\n"
     ]
    }
   ],
   "source": [
    "fruits = ['Apple',\"Banana\",\"Mango\",\"Orange\"]\n",
    "for idx , fruit in enumerate(fruits , start = 1):\n",
    "    print(idx,fruit)"
   ]
  },
  {
   "cell_type": "markdown",
   "metadata": {},
   "source": [
    "Removing all occurences"
   ]
  },
  {
   "cell_type": "code",
   "execution_count": 17,
   "metadata": {},
   "outputs": [
    {
     "name": "stdout",
     "output_type": "stream",
     "text": [
      "[1, 2, 3, 5, 6, 77, 88, 99, 55]\n"
     ]
    }
   ],
   "source": [
    "l = [4,4,1,2,3,4,5,6,77,4,88,99,4,55]\n",
    "rem = 4\n",
    "indices = []\n",
    "for i , x in enumerate(l):\n",
    "    if x == rem:\n",
    "        indices.append(i)\n",
    "indices.reverse()\n",
    "for i in indices:\n",
    "    l.pop(i)\n",
    "print(l)"
   ]
  },
  {
   "cell_type": "code",
   "execution_count": 20,
   "metadata": {},
   "outputs": [
    {
     "name": "stdout",
     "output_type": "stream",
     "text": [
      "[1, 3, 4, 5, 6, 7, 8, 9]\n"
     ]
    }
   ],
   "source": [
    "l = [1,2,3,4,2,5,2,6,2,7,2,8,2,9,2]\n",
    "rem = 2\n",
    "indices = []\n",
    "for i , x in enumerate(l):\n",
    "    if x == rem:\n",
    "        indices.append(i)\n",
    "indices.reverse()\n",
    "for i in indices:\n",
    "    l.pop(i)\n",
    "print(l)"
   ]
  },
  {
   "cell_type": "markdown",
   "metadata": {},
   "source": [
    "Extend"
   ]
  },
  {
   "cell_type": "code",
   "execution_count": 22,
   "metadata": {},
   "outputs": [
    {
     "name": "stdout",
     "output_type": "stream",
     "text": [
      "[1, 2, 3, 4, 5, 6, 7, 8]\n"
     ]
    }
   ],
   "source": [
    "l = [1,2,3,4]\n",
    "m = [5,6,7,8]\n",
    "l.extend(m)\n",
    "print(l)"
   ]
  },
  {
   "cell_type": "markdown",
   "metadata": {},
   "source": [
    "SORTING"
   ]
  },
  {
   "cell_type": "code",
   "execution_count": 3,
   "metadata": {},
   "outputs": [
    {
     "name": "stdout",
     "output_type": "stream",
     "text": [
      "[3, 4, 4, 5, 5, 6, 6, 9, 13, 23, 45, 66]\n"
     ]
    }
   ],
   "source": [
    "l = [9,6,5,4,13,45,6,4,3,23,5,66]\n",
    "l.sort()\n",
    "print(l)\n"
   ]
  },
  {
   "cell_type": "code",
   "execution_count": 4,
   "metadata": {},
   "outputs": [
    {
     "name": "stdout",
     "output_type": "stream",
     "text": [
      "[66, 45, 23, 13, 9, 6, 6, 5, 5, 4, 4, 3]\n"
     ]
    }
   ],
   "source": [
    "l = [9,6,5,4,13,45,6,4,3,23,5,66]\n",
    "l.sort(reverse = True)\n",
    "print(l)\n"
   ]
  },
  {
   "cell_type": "markdown",
   "metadata": {},
   "source": [
    "Unpacking"
   ]
  },
  {
   "cell_type": "code",
   "execution_count": 5,
   "metadata": {},
   "outputs": [
    {
     "name": "stdout",
     "output_type": "stream",
     "text": [
      "x:1,y:2,z:3\n"
     ]
    }
   ],
   "source": [
    "l =[1,2,3]\n",
    "x ,y ,z=l\n",
    "print(\"x:{},y:{},z:{}\".format(x,y,z))"
   ]
  },
  {
   "cell_type": "markdown",
   "metadata": {},
   "source": [
    "## When having single element: We put a comma at the end, when there is one element in the tuple, Why? This is required, to diﬀerentiate with an expression.\n",
    "x = (9) y = (9,)\n",
    "x is an integer and y is a tuple\n"
   ]
  },
  {
   "cell_type": "code",
   "execution_count": 9,
   "metadata": {},
   "outputs": [
    {
     "name": "stdout",
     "output_type": "stream",
     "text": [
      "<class 'int'>\n",
      "<class 'tuple'>\n"
     ]
    }
   ],
   "source": [
    "x=(9)\n",
    "y=(9,)\n",
    "print(type(x))\n",
    "print(type(y))"
   ]
  },
  {
   "cell_type": "code",
   "execution_count": 10,
   "metadata": {},
   "outputs": [
    {
     "name": "stdout",
     "output_type": "stream",
     "text": [
      "17\n"
     ]
    }
   ],
   "source": [
    "primes = {1:2,2:3,4:7,7:17}\n",
    "print(primes[primes[4]])"
   ]
  },
  {
   "cell_type": "markdown",
   "metadata": {},
   "source": [
    "ITERATIONS ON TUPLE"
   ]
  },
  {
   "cell_type": "code",
   "execution_count": 57,
   "metadata": {},
   "outputs": [
    {
     "name": "stdout",
     "output_type": "stream",
     "text": [
      "[('Orange', 50), ('Mango', 20), ('Kiwi', 25), ('Apple', 30)]\n",
      "50  20  25  30  "
     ]
    }
   ],
   "source": [
    "f = [('Apple',30),('Mango',20),('Kiwi',25),('Orange',50)]\n",
    "bigger=0\n",
    "for i , item in f:\n",
    "    if item>bigger:\n",
    "        a=sorted(f,reverse=True)\n",
    "print(a)\n",
    "for i, item in a:\n",
    "    print(item,\" \",end='')\n",
    "        \n",
    "\n",
    "    \n",
    "        \n",
    "        \n"
   ]
  },
  {
   "cell_type": "markdown",
   "metadata": {},
   "source": [
    "##### LAMBDA"
   ]
  },
  {
   "cell_type": "code",
   "execution_count": 61,
   "metadata": {},
   "outputs": [
    {
     "name": "stdout",
     "output_type": "stream",
     "text": [
      "20\n"
     ]
    }
   ],
   "source": [
    "f = lambda x,y : x * y\n",
    "\n",
    "print(f(4,5))"
   ]
  },
  {
   "cell_type": "code",
   "execution_count": 62,
   "metadata": {},
   "outputs": [
    {
     "name": "stdout",
     "output_type": "stream",
     "text": [
      "1\n"
     ]
    }
   ],
   "source": [
    "key =  lambda x : x[0]\n",
    "l=[1,2,3]\n",
    "print(key(l))"
   ]
  },
  {
   "cell_type": "code",
   "execution_count": 63,
   "metadata": {},
   "outputs": [
    {
     "name": "stdout",
     "output_type": "stream",
     "text": [
      "False\n"
     ]
    }
   ],
   "source": [
    "key = lambda x : x[0]\n",
    "t = (12,'Amit',2400)\n",
    "t1 = (14,'Saurabh',2100)\n",
    "print(key(t)>key(t1))\n"
   ]
  },
  {
   "cell_type": "code",
   "execution_count": 68,
   "metadata": {},
   "outputs": [
    {
     "name": "stdout",
     "output_type": "stream",
     "text": [
      "(1239, 'John', 23000, 25)\n",
      "(1238, 'Amanda', 45000, 30)\n",
      "(1237, 'Alex', 57000, 31)\n",
      "(1236, 'Vicky', 40000, 24)\n",
      "(1235, 'Samantha', 13000, 21)\n"
     ]
    }
   ],
   "source": [
    "employees = [(1239, 'John', 23000, 25),\n",
    "             (1235, 'Samantha', 13000, 21),\n",
    "             (1238, 'Amanda', 45000, 30), \n",
    "             (1237, 'Alex', 57000, 31),\n",
    "             (1236, 'Vicky', 40000, 24)]\n",
    "records = sorted(employees ,key = lambda x:x[0],reverse = True)\n",
    "for rec in records:\n",
    "    print(rec)"
   ]
  },
  {
   "cell_type": "code",
   "execution_count": 85,
   "metadata": {},
   "outputs": [
    {
     "name": "stdout",
     "output_type": "stream",
     "text": [
      "('Max sal:', (1237, 'Alex', 57000, 31))\n"
     ]
    }
   ],
   "source": [
    "employees = [(1239, 'John', 23000, 25),\n",
    "             (1235, 'Samantha', 13000, 21),\n",
    "             (1238, 'Amanda', 45000, 30), \n",
    "             (1237, 'Alex', 57000, 31),\n",
    "             (1236, 'Vicky', 40000, 24)]\n",
    "records =  ('Max sal:',max(employees,key = lambda x : x[2]))\n",
    "print(records)"
   ]
  },
  {
   "cell_type": "markdown",
   "metadata": {},
   "source": [
    "Removing Duplicates"
   ]
  },
  {
   "cell_type": "code",
   "execution_count": 89,
   "metadata": {},
   "outputs": [
    {
     "name": "stdout",
     "output_type": "stream",
     "text": [
      "[1, 2, 3, 4, 23, 10, 7, 8, 6, 9]\n"
     ]
    }
   ],
   "source": [
    "l = [1,2,3,4,1,23,3,4,2,23,1,10,7,8,6,9,7]\n",
    "m =[]\n",
    "for i in l:\n",
    "    if i not in m:\n",
    "        m.append(i)\n",
    "print(m)"
   ]
  },
  {
   "cell_type": "code",
   "execution_count": null,
   "metadata": {},
   "outputs": [],
   "source": []
  }
 ],
 "metadata": {
  "kernelspec": {
   "display_name": "Python 3",
   "language": "python",
   "name": "python3"
  },
  "language_info": {
   "codemirror_mode": {
    "name": "ipython",
    "version": 3
   },
   "file_extension": ".py",
   "mimetype": "text/x-python",
   "name": "python",
   "nbconvert_exporter": "python",
   "pygments_lexer": "ipython3",
   "version": "3.6.5"
  }
 },
 "nbformat": 4,
 "nbformat_minor": 2
}
