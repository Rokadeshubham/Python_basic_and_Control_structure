{
 "cells": [
  {
   "cell_type": "code",
   "execution_count": 15,
   "metadata": {},
   "outputs": [],
   "source": [
    "from collections import Counter\n",
    "lt=[('student1','Mathematics',88),\n",
    "('student1','Telugu',3),\n",
    "('student1','English',24),\n",
    "('student1','Social',59),\n",
    "('student1','Physics',18),\n",
    "('student1','Chemistry',80),\n",
    "('student2','Mathematics',74),\n",
    "('student2','Telugu',87),\n",
    "('student2','English',33),\n",
    "('student2','Social',72),\n",
    "   ('student1','Mathematics',88)]\n",
    "\n",
    "faculty=[('Mathematics','Murali Krishna'),\n",
    "('Telugu','Amarnath'),\n",
    "('English','Samuel'),\n",
    "('Social','Krishna Reddy'),\n",
    "('Physics','Raja Gopal'),\n",
    "('Chemistry','Ravi')]\n"
   ]
  },
  {
   "cell_type": "markdown",
   "metadata": {},
   "source": [
    "FACTORIAL FUNCTION"
   ]
  },
  {
   "cell_type": "code",
   "execution_count": 20,
   "metadata": {},
   "outputs": [
    {
     "name": "stdout",
     "output_type": "stream",
     "text": [
      "ncr= 1.0\n"
     ]
    }
   ],
   "source": [
    "def fact(a):\n",
    "    f=1\n",
    "    for i in range(1,a+1):\n",
    "        f=f*i\n",
    "        return f\n",
    "n=5\n",
    "r=3\n",
    "res=fact(n)/(fact(n-r)*fact(r))\n",
    "print('ncr=',res)"
   ]
  },
  {
   "cell_type": "markdown",
   "metadata": {},
   "source": [
    "Recieving parameters and returning values is just optional"
   ]
  },
  {
   "cell_type": "code",
   "execution_count": 18,
   "metadata": {},
   "outputs": [
    {
     "name": "stdout",
     "output_type": "stream",
     "text": [
      "hello friend\n"
     ]
    }
   ],
   "source": [
    "def greet():\n",
    "    print('hello friend')\n",
    "greet()"
   ]
  },
  {
   "cell_type": "code",
   "execution_count": 22,
   "metadata": {},
   "outputs": [
    {
     "name": "stdout",
     "output_type": "stream",
     "text": [
      "hello friend\n",
      "None\n"
     ]
    }
   ],
   "source": [
    "res=greet()\n",
    "print(res)#it returns nothing thats why it is none"
   ]
  },
  {
   "cell_type": "markdown",
   "metadata": {},
   "source": [
    "Returning multiple values"
   ]
  },
  {
   "cell_type": "code",
   "execution_count": 30,
   "metadata": {},
   "outputs": [
    {
     "name": "stdout",
     "output_type": "stream",
     "text": [
      "(9, 3.0)\n"
     ]
    }
   ],
   "source": [
    "def sum(x,y,z):\n",
    "    s=x+y+z\n",
    "    avg=s/3\n",
    "    return s,avg\n",
    "print(sum(2,3,4))"
   ]
  },
  {
   "cell_type": "code",
   "execution_count": 31,
   "metadata": {},
   "outputs": [],
   "source": [
    "def sum_avg(x, y, z):  \n",
    "    s = x + y + z \n",
    "    a = s/3.0  \n",
    "    return s,a "
   ]
  },
  {
   "cell_type": "code",
   "execution_count": 35,
   "metadata": {},
   "outputs": [
    {
     "name": "stdout",
     "output_type": "stream",
     "text": [
      "18 6.0\n"
     ]
    }
   ],
   "source": [
    "total ,avg=sum_avg(5,6,7)\n",
    "print(total,avg)"
   ]
  },
  {
   "cell_type": "markdown",
   "metadata": {},
   "source": [
    "Function Parameter passing"
   ]
  },
  {
   "cell_type": "code",
   "execution_count": 36,
   "metadata": {},
   "outputs": [
    {
     "name": "stdout",
     "output_type": "stream",
     "text": [
      "(24, 8.0)\n"
     ]
    }
   ],
   "source": [
    "def sum_avg(x, y, z):  \n",
    "    s = x + y + z \n",
    "    a = s/3.0  \n",
    "    return s,a \n",
    "x=3\n",
    "z=7\n",
    "res=sum_avg(x,14,z)\n",
    "print(res)\n"
   ]
  },
  {
   "cell_type": "markdown",
   "metadata": {},
   "source": [
    "Keyword Arguments"
   ]
  },
  {
   "cell_type": "code",
   "execution_count": 37,
   "metadata": {},
   "outputs": [
    {
     "name": "stdout",
     "output_type": "stream",
     "text": [
      "91\n"
     ]
    }
   ],
   "source": [
    "def add(x,c,v):\n",
    "    s=x+c+v\n",
    "    return s\n",
    "addd=add(3,c=33,v=55)\n",
    "print(addd)"
   ]
  },
  {
   "cell_type": "code",
   "execution_count": 38,
   "metadata": {},
   "outputs": [
    {
     "ename": "SyntaxError",
     "evalue": "positional argument follows keyword argument (<ipython-input-38-d96d6cc2729e>, line 1)",
     "output_type": "error",
     "traceback": [
      "\u001b[1;36m  File \u001b[1;32m\"<ipython-input-38-d96d6cc2729e>\"\u001b[1;36m, line \u001b[1;32m1\u001b[0m\n\u001b[1;33m    add(9,c=23,11)\u001b[0m\n\u001b[1;37m              ^\u001b[0m\n\u001b[1;31mSyntaxError\u001b[0m\u001b[1;31m:\u001b[0m positional argument follows keyword argument\n"
     ]
    }
   ],
   "source": [
    "add(9,c=23,11)"
   ]
  },
  {
   "cell_type": "code",
   "execution_count": 39,
   "metadata": {},
   "outputs": [
    {
     "data": {
      "text/plain": [
       "11"
      ]
     },
     "execution_count": 39,
     "metadata": {},
     "output_type": "execute_result"
    }
   ],
   "source": [
    "add(4,5,v=2)#valid"
   ]
  },
  {
   "cell_type": "markdown",
   "metadata": {},
   "source": [
    "*** non-default arguments must not follow default arguments\n"
   ]
  },
  {
   "cell_type": "code",
   "execution_count": 44,
   "metadata": {},
   "outputs": [
    {
     "ename": "SyntaxError",
     "evalue": "non-default argument follows default argument (<ipython-input-44-f8945e088968>, line 1)",
     "output_type": "error",
     "traceback": [
      "\u001b[1;36m  File \u001b[1;32m\"<ipython-input-44-f8945e088968>\"\u001b[1;36m, line \u001b[1;32m1\u001b[0m\n\u001b[1;33m    def add(x=10,y,z):\u001b[0m\n\u001b[1;37m           ^\u001b[0m\n\u001b[1;31mSyntaxError\u001b[0m\u001b[1;31m:\u001b[0m non-default argument follows default argument\n"
     ]
    }
   ],
   "source": [
    "def add(x=10,y,z):\n",
    "    s=x+y+z\n",
    "    return s\n",
    "add(y=33,z=2)"
   ]
  },
  {
   "cell_type": "markdown",
   "metadata": {},
   "source": [
    "Default Argument"
   ]
  },
  {
   "cell_type": "code",
   "execution_count": 45,
   "metadata": {},
   "outputs": [
    {
     "data": {
      "text/plain": [
       "60"
      ]
     },
     "execution_count": 45,
     "metadata": {},
     "output_type": "execute_result"
    }
   ],
   "source": [
    "def add(x,c,v=10):\n",
    "    s=x+c+v\n",
    "    return s\n",
    "add(x=20,c=30)"
   ]
  },
  {
   "cell_type": "markdown",
   "metadata": {},
   "source": [
    "Variable arguments"
   ]
  },
  {
   "cell_type": "code",
   "execution_count": 4,
   "metadata": {},
   "outputs": [],
   "source": [
    "def add(*args):\n",
    "    print(type(args))\n",
    "    s=0\n",
    "    for x in args:\n",
    "        s=s+x\n",
    "        return s"
   ]
  },
  {
   "cell_type": "code",
   "execution_count": 5,
   "metadata": {},
   "outputs": [
    {
     "name": "stdout",
     "output_type": "stream",
     "text": [
      "<class 'tuple'>\n"
     ]
    },
    {
     "data": {
      "text/plain": [
       "1"
      ]
     },
     "execution_count": 5,
     "metadata": {},
     "output_type": "execute_result"
    }
   ],
   "source": [
    "add(1,2,3,4,5,6)"
   ]
  },
  {
   "cell_type": "code",
   "execution_count": 3,
   "metadata": {},
   "outputs": [
    {
     "name": "stdout",
     "output_type": "stream",
     "text": [
      "<class 'tuple'>\n"
     ]
    }
   ],
   "source": [
    "add()"
   ]
  },
  {
   "cell_type": "markdown",
   "metadata": {},
   "source": [
    "Ternary Operator"
   ]
  },
  {
   "cell_type": "code",
   "execution_count": 12,
   "metadata": {},
   "outputs": [
    {
     "data": {
      "text/plain": [
       "20"
      ]
     },
     "execution_count": 12,
     "metadata": {},
     "output_type": "execute_result"
    }
   ],
   "source": [
    "y=7\n",
    "x=20 if y>0 else 30\n",
    "x"
   ]
  },
  {
   "cell_type": "markdown",
   "metadata": {},
   "source": [
    "Variable Keyword arguments"
   ]
  },
  {
   "cell_type": "code",
   "execution_count": 15,
   "metadata": {},
   "outputs": [
    {
     "name": "stdout",
     "output_type": "stream",
     "text": [
      "<class 'dict'>\n",
      "{'a': 20, 'c': 39, 't': 66}\n"
     ]
    }
   ],
   "source": [
    "def add(**kwargs):\n",
    "    print(type(kwargs))\n",
    "    print(kwargs)\n",
    "add(a=20,c=39,t=66)    "
   ]
  },
  {
   "cell_type": "markdown",
   "metadata": {},
   "source": [
    "Iterating variable keyword arguments:"
   ]
  },
  {
   "cell_type": "code",
   "execution_count": 18,
   "metadata": {},
   "outputs": [
    {
     "name": "stdout",
     "output_type": "stream",
     "text": [
      "a -> 20\n",
      "v -> 40\n",
      "b -> 49\n"
     ]
    }
   ],
   "source": [
    "def add(**kwargs):\n",
    "    for ky ,val in kwargs.items():\n",
    "        print(ky,'->',val)\n",
    "add(a=20,v=40,b=49)\n",
    "        "
   ]
  },
  {
   "cell_type": "markdown",
   "metadata": {},
   "source": [
    "A function with complete signature can be seen below:\n"
   ]
  },
  {
   "cell_type": "code",
   "execution_count": 19,
   "metadata": {},
   "outputs": [],
   "source": [
    "\n",
    "def fun(a, b, c=10, d=20, *args, **kwargs):  \n",
    "    print ('-------------------')  \n",
    "    print ('Positional arguments') \n",
    "    print ('-------------------')  \n",
    "    print ('a = ', a, ' b = ', b)      \n",
    "    print ('-------------------')   \n",
    "    print ('default arguments')   \n",
    "    print ('-------------------')   \n",
    "    print ('c = ', c, ' d = ', d)    \n",
    "    print ('-------------------')   \n",
    "    print ('Variable arguments')   \n",
    "    print ('-------------------')  \n",
    "    print (args)\n",
    "    print ('-------------------')  \n",
    "    print ('Variable Keywoord arguments') \n",
    "    print ('-------------------')  \n",
    "    print (kwargs)\n",
    "    \n",
    "    "
   ]
  },
  {
   "cell_type": "code",
   "execution_count": 21,
   "metadata": {},
   "outputs": [
    {
     "name": "stdout",
     "output_type": "stream",
     "text": [
      "-------------------\n",
      "Positional arguments\n",
      "-------------------\n",
      "a =  20  b =  40\n",
      "-------------------\n",
      "default arguments\n",
      "-------------------\n",
      "c =  10  d =  20\n",
      "-------------------\n",
      "Variable arguments\n",
      "-------------------\n",
      "()\n",
      "-------------------\n",
      "Variable Keywoord arguments\n",
      "-------------------\n",
      "{}\n"
     ]
    }
   ],
   "source": [
    "fun(a=20,b=40)"
   ]
  },
  {
   "cell_type": "code",
   "execution_count": 23,
   "metadata": {},
   "outputs": [
    {
     "name": "stdout",
     "output_type": "stream",
     "text": [
      "-------------------\n",
      "Positional arguments\n",
      "-------------------\n",
      "a =  20  b =  30\n",
      "-------------------\n",
      "default arguments\n",
      "-------------------\n",
      "c =  40  d =  20\n",
      "-------------------\n",
      "Variable arguments\n",
      "-------------------\n",
      "()\n",
      "-------------------\n",
      "Variable Keywoord arguments\n",
      "-------------------\n",
      "{}\n"
     ]
    }
   ],
   "source": [
    "fun(a=20,b=30,c=40)"
   ]
  },
  {
   "cell_type": "code",
   "execution_count": 28,
   "metadata": {},
   "outputs": [
    {
     "name": "stdout",
     "output_type": "stream",
     "text": [
      "-------------------\n",
      "Positional arguments\n",
      "-------------------\n",
      "a =  4  b =  5\n",
      "-------------------\n",
      "default arguments\n",
      "-------------------\n",
      "c =  5  d =  6\n",
      "-------------------\n",
      "Variable arguments\n",
      "-------------------\n",
      "(7, 7, 8, 8)\n",
      "-------------------\n",
      "Variable Keywoord arguments\n",
      "-------------------\n",
      "{'q': 30, 'g': 40}\n"
     ]
    }
   ],
   "source": [
    "fun(4,5,5,6,7,7,8,8,q=30,g=40)"
   ]
  },
  {
   "cell_type": "markdown",
   "metadata": {},
   "source": [
    "MEDIAN"
   ]
  },
  {
   "cell_type": "code",
   "execution_count": 42,
   "metadata": {},
   "outputs": [],
   "source": [
    "def medi(*args):\n",
    "    l=sorted(args)\n",
    "    median=len(args)//2\n",
    "    return l[median]"
   ]
  },
  {
   "cell_type": "code",
   "execution_count": 43,
   "metadata": {},
   "outputs": [
    {
     "data": {
      "text/plain": [
       "6"
      ]
     },
     "execution_count": 43,
     "metadata": {},
     "output_type": "execute_result"
    }
   ],
   "source": [
    "medi(4,5,6,7,8)"
   ]
  },
  {
   "cell_type": "code",
   "execution_count": 44,
   "metadata": {},
   "outputs": [
    {
     "data": {
      "text/plain": [
       "7"
      ]
     },
     "execution_count": 44,
     "metadata": {},
     "output_type": "execute_result"
    }
   ],
   "source": [
    "medi(45, 8, 2, 1, 6, 7)\n"
   ]
  },
  {
   "cell_type": "code",
   "execution_count": null,
   "metadata": {},
   "outputs": [],
   "source": []
  }
 ],
 "metadata": {
  "kernelspec": {
   "display_name": "Python 3",
   "language": "python",
   "name": "python3"
  },
  "language_info": {
   "codemirror_mode": {
    "name": "ipython",
    "version": 3
   },
   "file_extension": ".py",
   "mimetype": "text/x-python",
   "name": "python",
   "nbconvert_exporter": "python",
   "pygments_lexer": "ipython3",
   "version": "3.6.5"
  }
 },
 "nbformat": 4,
 "nbformat_minor": 2
}
