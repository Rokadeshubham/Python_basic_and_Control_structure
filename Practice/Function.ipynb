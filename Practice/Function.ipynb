{
 "cells": [
  {
   "cell_type": "code",
   "execution_count": 15,
   "metadata": {},
   "outputs": [],
   "source": [
    "from collections import Counter\n",
    "lt=[('student1','Mathematics',88),\n",
    "('student1','Telugu',3),\n",
    "('student1','English',24),\n",
    "('student1','Social',59),\n",
    "('student1','Physics',18),\n",
    "('student1','Chemistry',80),\n",
    "('student2','Mathematics',74),\n",
    "('student2','Telugu',87),\n",
    "('student2','English',33),\n",
    "('student2','Social',72),\n",
    "   ('student1','Mathematics',88)]\n",
    "\n",
    "faculty=[('Mathematics','Murali Krishna'),\n",
    "('Telugu','Amarnath'),\n",
    "('English','Samuel'),\n",
    "('Social','Krishna Reddy'),\n",
    "('Physics','Raja Gopal'),\n",
    "('Chemistry','Ravi')]\n"
   ]
  },
  {
   "cell_type": "markdown",
   "metadata": {},
   "source": [
    "FACTORIAL FUNCTION"
   ]
  },
  {
   "cell_type": "code",
   "execution_count": 20,
   "metadata": {},
   "outputs": [
    {
     "name": "stdout",
     "output_type": "stream",
     "text": [
      "ncr= 1.0\n"
     ]
    }
   ],
   "source": [
    "def fact(a):\n",
    "    f=1\n",
    "    for i in range(1,a+1):\n",
    "        f=f*i\n",
    "        return f\n",
    "n=5\n",
    "r=3\n",
    "res=fact(n)/(fact(n-r)*fact(r))\n",
    "print('ncr=',res)"
   ]
  },
  {
   "cell_type": "code",
   "execution_count": 4,
   "metadata": {},
   "outputs": [
    {
     "name": "stdout",
     "output_type": "stream",
     "text": [
      "1 1\n",
      "2 2\n",
      "3 3\n",
      "4 5\n",
      "5 8\n",
      "6 13\n",
      "7 21\n",
      "8 34\n",
      "9 55\n",
      "10 89\n",
      "11 144\n",
      "12 233\n",
      "13 377\n",
      "14 610\n",
      "15 987\n",
      "16 1597\n",
      "17 2584\n",
      "18 4181\n",
      "19 6765\n",
      "20 10946\n",
      "21 17711\n",
      "22 28657\n",
      "23 46368\n",
      "24 75025\n",
      "25 121393\n",
      "26 196418\n",
      "27 317811\n",
      "28 514229\n",
      "29 832040\n",
      "30 1346269\n",
      "31 2178309\n",
      "32 3524578\n",
      "33 5702887\n",
      "34 9227465\n",
      "35 14930352\n",
      "36 24157817\n",
      "37 39088169\n",
      "38 63245986\n",
      "39 102334155\n",
      "40 165580141\n",
      "41 267914296\n",
      "42 433494437\n",
      "43 701408733\n",
      "44 1134903170\n",
      "45 1836311903\n",
      "46 2971215073\n",
      "47 4807526976\n",
      "48 7778742049\n",
      "49 12586269025\n",
      "50 20365011074\n",
      "51 32951280099\n",
      "52 53316291173\n",
      "53 86267571272\n",
      "54 139583862445\n",
      "55 225851433717\n",
      "56 365435296162\n",
      "57 591286729879\n",
      "58 956722026041\n",
      "59 1548008755920\n",
      "60 2504730781961\n",
      "61 4052739537881\n",
      "62 6557470319842\n",
      "63 10610209857723\n",
      "64 17167680177565\n",
      "65 27777890035288\n",
      "66 44945570212853\n",
      "67 72723460248141\n",
      "68 117669030460994\n",
      "69 190392490709135\n",
      "70 308061521170129\n",
      "71 498454011879264\n",
      "72 806515533049393\n",
      "73 1304969544928657\n",
      "74 2111485077978050\n",
      "75 3416454622906707\n",
      "76 5527939700884757\n",
      "77 8944394323791464\n",
      "78 14472334024676221\n",
      "79 23416728348467685\n",
      "80 37889062373143906\n",
      "81 61305790721611591\n",
      "82 99194853094755497\n",
      "83 160500643816367088\n",
      "84 259695496911122585\n",
      "85 420196140727489673\n",
      "86 679891637638612258\n",
      "87 1100087778366101931\n",
      "88 1779979416004714189\n",
      "89 2880067194370816120\n",
      "90 4660046610375530309\n",
      "91 7540113804746346429\n",
      "92 12200160415121876738\n",
      "93 19740274219868223167\n",
      "94 31940434634990099905\n",
      "95 51680708854858323072\n",
      "96 83621143489848422977\n",
      "97 135301852344706746049\n",
      "98 218922995834555169026\n",
      "99 354224848179261915075\n"
     ]
    }
   ],
   "source": [
    "cache={}\n",
    "def fib(n):\n",
    "    if n in cache:\n",
    "        return cache[n]\n",
    "    else:\n",
    "        if n==1 or n==0:\n",
    "            value=1\n",
    "            return value\n",
    "        else:\n",
    "            value = fib(n-1)+fib(n-2)\n",
    "            cache[n]=value\n",
    "            return value\n",
    "for n in range(1,100):\n",
    "    print(n,fib(n))"
   ]
  },
  {
   "cell_type": "markdown",
   "metadata": {},
   "source": [
    "Recieving parameters and returning values is just optional"
   ]
  },
  {
   "cell_type": "code",
   "execution_count": 18,
   "metadata": {},
   "outputs": [
    {
     "name": "stdout",
     "output_type": "stream",
     "text": [
      "hello friend\n"
     ]
    }
   ],
   "source": [
    "def greet():\n",
    "    print('hello friend')\n",
    "greet()"
   ]
  },
  {
   "cell_type": "code",
   "execution_count": 22,
   "metadata": {},
   "outputs": [
    {
     "name": "stdout",
     "output_type": "stream",
     "text": [
      "hello friend\n",
      "None\n"
     ]
    }
   ],
   "source": [
    "res=greet()\n",
    "print(res)#it returns nothing thats why it is none"
   ]
  },
  {
   "cell_type": "markdown",
   "metadata": {},
   "source": [
    "Returning multiple values"
   ]
  },
  {
   "cell_type": "code",
   "execution_count": 30,
   "metadata": {},
   "outputs": [
    {
     "name": "stdout",
     "output_type": "stream",
     "text": [
      "(9, 3.0)\n"
     ]
    }
   ],
   "source": [
    "def sum(x,y,z):\n",
    "    s=x+y+z\n",
    "    avg=s/3\n",
    "    return s,avg\n",
    "print(sum(2,3,4))"
   ]
  },
  {
   "cell_type": "code",
   "execution_count": 31,
   "metadata": {},
   "outputs": [],
   "source": [
    "def sum_avg(x, y, z):  \n",
    "    s = x + y + z \n",
    "    a = s/3.0  \n",
    "    return s,a "
   ]
  },
  {
   "cell_type": "code",
   "execution_count": 35,
   "metadata": {},
   "outputs": [
    {
     "name": "stdout",
     "output_type": "stream",
     "text": [
      "18 6.0\n"
     ]
    }
   ],
   "source": [
    "total ,avg=sum_avg(5,6,7)\n",
    "print(total,avg)"
   ]
  },
  {
   "cell_type": "markdown",
   "metadata": {},
   "source": [
    "Function Parameter passing"
   ]
  },
  {
   "cell_type": "code",
   "execution_count": 36,
   "metadata": {},
   "outputs": [
    {
     "name": "stdout",
     "output_type": "stream",
     "text": [
      "(24, 8.0)\n"
     ]
    }
   ],
   "source": [
    "def sum_avg(x, y, z):  \n",
    "    s = x + y + z \n",
    "    a = s/3.0  \n",
    "    return s,a \n",
    "x=3\n",
    "z=7\n",
    "res=sum_avg(x,14,z)\n",
    "print(res)\n"
   ]
  },
  {
   "cell_type": "markdown",
   "metadata": {},
   "source": [
    "Keyword Arguments"
   ]
  },
  {
   "cell_type": "code",
   "execution_count": 37,
   "metadata": {},
   "outputs": [
    {
     "name": "stdout",
     "output_type": "stream",
     "text": [
      "91\n"
     ]
    }
   ],
   "source": [
    "def add(x,c,v):\n",
    "    s=x+c+v\n",
    "    return s\n",
    "addd=add(3,c=33,v=55)\n",
    "print(addd)"
   ]
  },
  {
   "cell_type": "code",
   "execution_count": 38,
   "metadata": {},
   "outputs": [
    {
     "ename": "SyntaxError",
     "evalue": "positional argument follows keyword argument (<ipython-input-38-d96d6cc2729e>, line 1)",
     "output_type": "error",
     "traceback": [
      "\u001b[1;36m  File \u001b[1;32m\"<ipython-input-38-d96d6cc2729e>\"\u001b[1;36m, line \u001b[1;32m1\u001b[0m\n\u001b[1;33m    add(9,c=23,11)\u001b[0m\n\u001b[1;37m              ^\u001b[0m\n\u001b[1;31mSyntaxError\u001b[0m\u001b[1;31m:\u001b[0m positional argument follows keyword argument\n"
     ]
    }
   ],
   "source": [
    "add(9,c=23,11)"
   ]
  },
  {
   "cell_type": "code",
   "execution_count": 39,
   "metadata": {},
   "outputs": [
    {
     "data": {
      "text/plain": [
       "11"
      ]
     },
     "execution_count": 39,
     "metadata": {},
     "output_type": "execute_result"
    }
   ],
   "source": [
    "add(4,5,v=2)#valid"
   ]
  },
  {
   "cell_type": "markdown",
   "metadata": {},
   "source": [
    "*** non-default arguments must not follow default arguments\n"
   ]
  },
  {
   "cell_type": "code",
   "execution_count": 44,
   "metadata": {},
   "outputs": [
    {
     "ename": "SyntaxError",
     "evalue": "non-default argument follows default argument (<ipython-input-44-f8945e088968>, line 1)",
     "output_type": "error",
     "traceback": [
      "\u001b[1;36m  File \u001b[1;32m\"<ipython-input-44-f8945e088968>\"\u001b[1;36m, line \u001b[1;32m1\u001b[0m\n\u001b[1;33m    def add(x=10,y,z):\u001b[0m\n\u001b[1;37m           ^\u001b[0m\n\u001b[1;31mSyntaxError\u001b[0m\u001b[1;31m:\u001b[0m non-default argument follows default argument\n"
     ]
    }
   ],
   "source": [
    "def add(x=10,y,z):\n",
    "    s=x+y+z\n",
    "    return s\n",
    "add(y=33,z=2)"
   ]
  },
  {
   "cell_type": "markdown",
   "metadata": {},
   "source": [
    "Default Argument"
   ]
  },
  {
   "cell_type": "code",
   "execution_count": 45,
   "metadata": {},
   "outputs": [
    {
     "data": {
      "text/plain": [
       "60"
      ]
     },
     "execution_count": 45,
     "metadata": {},
     "output_type": "execute_result"
    }
   ],
   "source": [
    "def add(x,c,v=10):\n",
    "    s=x+c+v\n",
    "    return s\n",
    "add(x=20,c=30)"
   ]
  },
  {
   "cell_type": "markdown",
   "metadata": {},
   "source": [
    "Variable arguments"
   ]
  },
  {
   "cell_type": "code",
   "execution_count": 4,
   "metadata": {},
   "outputs": [],
   "source": [
    "def add(*args):\n",
    "    print(type(args))\n",
    "    s=0\n",
    "    for x in args:\n",
    "        s=s+x\n",
    "        return s"
   ]
  },
  {
   "cell_type": "code",
   "execution_count": 5,
   "metadata": {},
   "outputs": [
    {
     "name": "stdout",
     "output_type": "stream",
     "text": [
      "<class 'tuple'>\n"
     ]
    },
    {
     "data": {
      "text/plain": [
       "1"
      ]
     },
     "execution_count": 5,
     "metadata": {},
     "output_type": "execute_result"
    }
   ],
   "source": [
    "add(1,2,3,4,5,6)"
   ]
  },
  {
   "cell_type": "code",
   "execution_count": 3,
   "metadata": {},
   "outputs": [
    {
     "name": "stdout",
     "output_type": "stream",
     "text": [
      "<class 'tuple'>\n"
     ]
    }
   ],
   "source": [
    "add()"
   ]
  },
  {
   "cell_type": "markdown",
   "metadata": {},
   "source": [
    "Ternary Operator"
   ]
  },
  {
   "cell_type": "code",
   "execution_count": 12,
   "metadata": {},
   "outputs": [
    {
     "data": {
      "text/plain": [
       "20"
      ]
     },
     "execution_count": 12,
     "metadata": {},
     "output_type": "execute_result"
    }
   ],
   "source": [
    "y=7\n",
    "x=20 if y>0 else 30\n",
    "x"
   ]
  },
  {
   "cell_type": "markdown",
   "metadata": {},
   "source": [
    "Variable Keyword arguments"
   ]
  },
  {
   "cell_type": "code",
   "execution_count": 15,
   "metadata": {},
   "outputs": [
    {
     "name": "stdout",
     "output_type": "stream",
     "text": [
      "<class 'dict'>\n",
      "{'a': 20, 'c': 39, 't': 66}\n"
     ]
    }
   ],
   "source": [
    "def add(**kwargs):\n",
    "    print(type(kwargs))\n",
    "    print(kwargs)\n",
    "add(a=20,c=39,t=66)    "
   ]
  },
  {
   "cell_type": "markdown",
   "metadata": {},
   "source": [
    "Iterating variable keyword arguments:"
   ]
  },
  {
   "cell_type": "code",
   "execution_count": 18,
   "metadata": {},
   "outputs": [
    {
     "name": "stdout",
     "output_type": "stream",
     "text": [
      "a -> 20\n",
      "v -> 40\n",
      "b -> 49\n"
     ]
    }
   ],
   "source": [
    "def add(**kwargs):\n",
    "    for ky ,val in kwargs.items():\n",
    "        print(ky,'->',val)\n",
    "add(a=20,v=40,b=49)\n",
    "        "
   ]
  },
  {
   "cell_type": "markdown",
   "metadata": {},
   "source": [
    "A function with complete signature can be seen below:\n"
   ]
  },
  {
   "cell_type": "code",
   "execution_count": 19,
   "metadata": {},
   "outputs": [],
   "source": [
    "\n",
    "def fun(a, b, c=10, d=20, *args, **kwargs):  \n",
    "    print ('-------------------')  \n",
    "    print ('Positional arguments') \n",
    "    print ('-------------------')  \n",
    "    print ('a = ', a, ' b = ', b)      \n",
    "    print ('-------------------')   \n",
    "    print ('default arguments')   \n",
    "    print ('-------------------')   \n",
    "    print ('c = ', c, ' d = ', d)    \n",
    "    print ('-------------------')   \n",
    "    print ('Variable arguments')   \n",
    "    print ('-------------------')  \n",
    "    print (args)\n",
    "    print ('-------------------')  \n",
    "    print ('Variable Keywoord arguments') \n",
    "    print ('-------------------')  \n",
    "    print (kwargs)\n",
    "    \n",
    "    "
   ]
  },
  {
   "cell_type": "code",
   "execution_count": 21,
   "metadata": {},
   "outputs": [
    {
     "name": "stdout",
     "output_type": "stream",
     "text": [
      "-------------------\n",
      "Positional arguments\n",
      "-------------------\n",
      "a =  20  b =  40\n",
      "-------------------\n",
      "default arguments\n",
      "-------------------\n",
      "c =  10  d =  20\n",
      "-------------------\n",
      "Variable arguments\n",
      "-------------------\n",
      "()\n",
      "-------------------\n",
      "Variable Keywoord arguments\n",
      "-------------------\n",
      "{}\n"
     ]
    }
   ],
   "source": [
    "fun(a=20,b=40)"
   ]
  },
  {
   "cell_type": "code",
   "execution_count": 23,
   "metadata": {},
   "outputs": [
    {
     "name": "stdout",
     "output_type": "stream",
     "text": [
      "-------------------\n",
      "Positional arguments\n",
      "-------------------\n",
      "a =  20  b =  30\n",
      "-------------------\n",
      "default arguments\n",
      "-------------------\n",
      "c =  40  d =  20\n",
      "-------------------\n",
      "Variable arguments\n",
      "-------------------\n",
      "()\n",
      "-------------------\n",
      "Variable Keywoord arguments\n",
      "-------------------\n",
      "{}\n"
     ]
    }
   ],
   "source": [
    "fun(a=20,b=30,c=40)"
   ]
  },
  {
   "cell_type": "code",
   "execution_count": 28,
   "metadata": {},
   "outputs": [
    {
     "name": "stdout",
     "output_type": "stream",
     "text": [
      "-------------------\n",
      "Positional arguments\n",
      "-------------------\n",
      "a =  4  b =  5\n",
      "-------------------\n",
      "default arguments\n",
      "-------------------\n",
      "c =  5  d =  6\n",
      "-------------------\n",
      "Variable arguments\n",
      "-------------------\n",
      "(7, 7, 8, 8)\n",
      "-------------------\n",
      "Variable Keywoord arguments\n",
      "-------------------\n",
      "{'q': 30, 'g': 40}\n"
     ]
    }
   ],
   "source": [
    "fun(4,5,5,6,7,7,8,8,q=30,g=40)"
   ]
  },
  {
   "cell_type": "markdown",
   "metadata": {},
   "source": [
    "MEDIAN"
   ]
  },
  {
   "cell_type": "code",
   "execution_count": 42,
   "metadata": {},
   "outputs": [],
   "source": [
    "def medi(*args):\n",
    "    l=sorted(args)\n",
    "    median=len(args)//2\n",
    "    return l[median]"
   ]
  },
  {
   "cell_type": "code",
   "execution_count": 43,
   "metadata": {},
   "outputs": [
    {
     "data": {
      "text/plain": [
       "6"
      ]
     },
     "execution_count": 43,
     "metadata": {},
     "output_type": "execute_result"
    }
   ],
   "source": [
    "medi(4,5,6,7,8)"
   ]
  },
  {
   "cell_type": "code",
   "execution_count": 44,
   "metadata": {},
   "outputs": [
    {
     "data": {
      "text/plain": [
       "7"
      ]
     },
     "execution_count": 44,
     "metadata": {},
     "output_type": "execute_result"
    }
   ],
   "source": [
    "medi(45, 8, 2, 1, 6, 7)\n"
   ]
  },
  {
   "cell_type": "code",
   "execution_count": 11,
   "metadata": {},
   "outputs": [],
   "source": [
    "def fib(n):\n",
    "    if n==1:\n",
    "        return 1\n",
    "    else:\n",
    "        return fib(n-1)+fib(n-2)\n",
    "\n"
   ]
  },
  {
   "cell_type": "code",
   "execution_count": 21,
   "metadata": {},
   "outputs": [
    {
     "name": "stdout",
     "output_type": "stream",
     "text": [
      "enter no6\n",
      "not prime\n"
     ]
    }
   ],
   "source": [
    "n= int(input('enter no'))\n",
    "i=2\n",
    "sq=int(n**0.5)\n",
    "for i in range(2,sq+1):\n",
    "    if n%i == 0:\n",
    "        print('not prime')\n",
    "        break\n",
    "else:\n",
    "    print('prime')"
   ]
  },
  {
   "cell_type": "code",
   "execution_count": 23,
   "metadata": {},
   "outputs": [
    {
     "data": {
      "text/plain": [
       "89902565"
      ]
     },
     "execution_count": 23,
     "metadata": {},
     "output_type": "execute_result"
    }
   ],
   "source": [
    "s=(1,2,3,4)\n",
    "hash(s)"
   ]
  },
  {
   "cell_type": "markdown",
   "metadata": {},
   "source": [
    "DECORATOR"
   ]
  },
  {
   "cell_type": "markdown",
   "metadata": {},
   "source": [
    "Functions are ﬁrst class objects in python. We can pass a function to another function like any other type.\n"
   ]
  },
  {
   "cell_type": "code",
   "execution_count": 7,
   "metadata": {},
   "outputs": [
    {
     "name": "stdout",
     "output_type": "stream",
     "text": [
      "<function fun at 0x013DE390>\n"
     ]
    }
   ],
   "source": [
    "def fun():\n",
    "    print(hello)\n",
    "print(fun)"
   ]
  },
  {
   "cell_type": "code",
   "execution_count": 8,
   "metadata": {},
   "outputs": [
    {
     "name": "stdout",
     "output_type": "stream",
     "text": [
      "********************\n",
      "Hello Guys\n",
      "********************\n"
     ]
    }
   ],
   "source": [
    "def greet():\n",
    "    print('Hello Guys')\n",
    "def fun(f):\n",
    "    print('*'*20)\n",
    "    f()\n",
    "    print('*'*20)\n",
    "fun(greet)"
   ]
  },
  {
   "cell_type": "markdown",
   "metadata": {},
   "source": [
    "Deﬁning a function within a function"
   ]
  },
  {
   "cell_type": "code",
   "execution_count": 15,
   "metadata": {},
   "outputs": [
    {
     "name": "stdout",
     "output_type": "stream",
     "text": [
      "--------------------\n",
      "78.5\n",
      "--------------------\n"
     ]
    }
   ],
   "source": [
    "def fun():\n",
    "    pi=3.14\n",
    "    \n",
    "    def area(r):\n",
    "        a=pi* r*r\n",
    "        print(a)\n",
    "    print('-'*20)\n",
    "    area(5)\n",
    "    print('-'*20)\n",
    "fun()"
   ]
  },
  {
   "cell_type": "markdown",
   "metadata": {},
   "source": [
    "Returning a function from a function"
   ]
  },
  {
   "cell_type": "code",
   "execution_count": 17,
   "metadata": {},
   "outputs": [
    {
     "name": "stdout",
     "output_type": "stream",
     "text": [
      "78.5\n"
     ]
    }
   ],
   "source": [
    "def fun():\n",
    "    pi=3.14\n",
    "    def area(r):\n",
    "        a = pi* r*r\n",
    "        print(a)\n",
    "    return area\n",
    "x=fun()\n",
    "x(5)"
   ]
  },
  {
   "cell_type": "markdown",
   "metadata": {},
   "source": [
    "Passing a function to another function along with its arguments"
   ]
  },
  {
   "cell_type": "code",
   "execution_count": 19,
   "metadata": {},
   "outputs": [
    {
     "name": "stdout",
     "output_type": "stream",
     "text": [
      "824\n"
     ]
    }
   ],
   "source": [
    "def addition(a,b,c,d):\n",
    "    s=a+b+c+d\n",
    "    print(s)\n",
    "t=(43,6,7,768)\n",
    "addition(t[0],t[1],t[2],t[3])"
   ]
  },
  {
   "cell_type": "code",
   "execution_count": 20,
   "metadata": {},
   "outputs": [
    {
     "name": "stdout",
     "output_type": "stream",
     "text": [
      "824\n"
     ]
    }
   ],
   "source": [
    "def addition(a,b,c,d):\n",
    "    s=a+b+c+d\n",
    "    print(s)\n",
    "t=(43,6,7,768)\n",
    "addition(*t)"
   ]
  },
  {
   "cell_type": "code",
   "execution_count": 21,
   "metadata": {},
   "outputs": [
    {
     "name": "stdout",
     "output_type": "stream",
     "text": [
      "90\n"
     ]
    }
   ],
   "source": [
    "def fun(x, y, z): \n",
    "    print(x + y + z)  \n",
    "d = {'y':30, 'z':40, 'x':20}\n",
    "fun(**d)"
   ]
  },
  {
   "cell_type": "markdown",
   "metadata": {},
   "source": [
    "Passing a function to another function along with its arguments"
   ]
  },
  {
   "cell_type": "code",
   "execution_count": 25,
   "metadata": {},
   "outputs": [
    {
     "name": "stdout",
     "output_type": "stream",
     "text": [
      "--------------------\n",
      "410\n",
      "--------------------\n",
      "--------------------\n",
      "11140\n",
      "--------------------\n"
     ]
    }
   ],
   "source": [
    "def add(x,y):\n",
    "    print(x+y)\n",
    "def volume(h,l,b):\n",
    "    print(h*l*b)\n",
    "def compute(task,*args,**kwargs):\n",
    "    print('-'*20)\n",
    "    task(*args,**kwargs)\n",
    "    print('-'*20)\n",
    "compute(add,353,57)\n",
    "compute(volume,557,4,5)"
   ]
  },
  {
   "cell_type": "markdown",
   "metadata": {},
   "source": [
    "DECORATOR"
   ]
  },
  {
   "cell_type": "code",
   "execution_count": 32,
   "metadata": {},
   "outputs": [
    {
     "name": "stdout",
     "output_type": "stream",
     "text": [
      "********************\n",
      "9\n",
      "********************\n",
      "********************\n",
      "1620\n",
      "********************\n"
     ]
    }
   ],
   "source": [
    "def stars(f):\n",
    "    def wrapper(*args, **kwargs):\n",
    "        print('*'*20)\n",
    "        ret = f(*args,**kwargs)\n",
    "        print('*'*20)\n",
    "        return ret\n",
    "    return wrapper\n",
    "\n",
    "@stars\n",
    "def add(x,y):\n",
    "    s=x+y\n",
    "    print(s)\n",
    "        \n",
    "@stars\n",
    "def mul(x,y,z):\n",
    "    m=x*y*z\n",
    "    print(m)\n",
    "    \n",
    "add(5,4)\n",
    "mul(6,45,6)"
   ]
  },
  {
   "cell_type": "code",
   "execution_count": null,
   "metadata": {},
   "outputs": [],
   "source": []
  }
 ],
 "metadata": {
  "kernelspec": {
   "display_name": "Python 3",
   "language": "python",
   "name": "python3"
  },
  "language_info": {
   "codemirror_mode": {
    "name": "ipython",
    "version": 3
   },
   "file_extension": ".py",
   "mimetype": "text/x-python",
   "name": "python",
   "nbconvert_exporter": "python",
   "pygments_lexer": "ipython3",
   "version": "3.6.5"
  }
 },
 "nbformat": 4,
 "nbformat_minor": 2
}
