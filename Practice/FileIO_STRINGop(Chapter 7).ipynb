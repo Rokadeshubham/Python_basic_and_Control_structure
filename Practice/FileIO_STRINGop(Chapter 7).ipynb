{
 "cells": [
  {
   "cell_type": "code",
   "execution_count": 8,
   "metadata": {},
   "outputs": [],
   "source": [
    "f = open('abc.txt' , 'r')"
   ]
  },
  {
   "cell_type": "code",
   "execution_count": 16,
   "metadata": {},
   "outputs": [],
   "source": [
    "f = open('abc.txt' , 'w')\n",
    "f.write(\"this is a new file. You can write anything here.\")\n",
    "f.close()"
   ]
  },
  {
   "cell_type": "markdown",
   "metadata": {},
   "source": [
    "Open with context manager"
   ]
  },
  {
   "cell_type": "code",
   "execution_count": 12,
   "metadata": {},
   "outputs": [
    {
     "name": "stdout",
     "output_type": "stream",
     "text": [
      "this is a new file. You can write anything here.\n"
     ]
    }
   ],
   "source": [
    "with open('abc.txt') as f:\n",
    "    txt=f.read()\n",
    "    print(txt)"
   ]
  },
  {
   "cell_type": "code",
   "execution_count": 13,
   "metadata": {},
   "outputs": [
    {
     "name": "stdout",
     "output_type": "stream",
     "text": [
      "this is a new file. You can write anything here.\n"
     ]
    }
   ],
   "source": [
    "!type abc.txt#windows command to open file"
   ]
  },
  {
   "cell_type": "markdown",
   "metadata": {},
   "source": [
    "To check current working dir"
   ]
  },
  {
   "cell_type": "code",
   "execution_count": 15,
   "metadata": {},
   "outputs": [
    {
     "name": "stdout",
     "output_type": "stream",
     "text": [
      "C:\\Users\\Sonali\\ClassLecture\n"
     ]
    }
   ],
   "source": [
    "import os\n",
    "print(os.getcwd())"
   ]
  },
  {
   "cell_type": "markdown",
   "metadata": {},
   "source": [
    "READ FILE"
   ]
  },
  {
   "cell_type": "code",
   "execution_count": 23,
   "metadata": {},
   "outputs": [
    {
     "name": "stdout",
     "output_type": "stream",
     "text": [
      "this is a new file. You can write anything here.\n"
     ]
    }
   ],
   "source": [
    "f = open('abc.txt' , 'r') \n",
    "s=f.read()\n",
    "print(s)\n",
    "f.close()"
   ]
  },
  {
   "cell_type": "markdown",
   "metadata": {},
   "source": [
    "WRITE FILE"
   ]
  },
  {
   "cell_type": "code",
   "execution_count": 21,
   "metadata": {},
   "outputs": [
    {
     "name": "stdout",
     "output_type": "stream",
     "text": [
      "282\n"
     ]
    }
   ],
   "source": [
    "f = open('xyz.txt' , 'w')\n",
    "r = f.write(\" Short cut key for markdown cell in jupyter notebook. Kind of silly but, is there a shortcut key to change a code cell to markdown cell. To place a markdown cell, I have to insert a cell, then go to the toolbar menu(below the main menu bar) and then select markdown instead of code.\")\n",
    "print(r)\n",
    "f.close()"
   ]
  },
  {
   "cell_type": "markdown",
   "metadata": {},
   "source": [
    "Reading text into a list of strings"
   ]
  },
  {
   "cell_type": "code",
   "execution_count": 25,
   "metadata": {},
   "outputs": [
    {
     "name": "stdout",
     "output_type": "stream",
     "text": [
      "[' Short cut key for markdown cell in jupyter notebook. Kind of silly but, is there a shortcut key to change a code cell to markdown cell. To place a markdown cell, I have to insert a cell, then go to the toolbar menu(below the main menu bar) and then select markdown instead of code.']\n"
     ]
    }
   ],
   "source": [
    "f = open('xyz.txt' , 'r')\n",
    "l = f.readlines()\n",
    "print(l)\n",
    "f.close()"
   ]
  },
  {
   "cell_type": "markdown",
   "metadata": {},
   "source": [
    "LINE BY LINE"
   ]
  },
  {
   "cell_type": "code",
   "execution_count": 27,
   "metadata": {},
   "outputs": [
    {
     "name": "stdout",
     "output_type": "stream",
     "text": [
      " Short cut key for markdown cell in jupyter notebook. Kind of silly but, is there a shortcut key to change a code cell to markdown cell. To place a markdown cell, I have to insert a cell, then go to the toolbar menu(below the main menu bar) and then select markdown instead of code."
     ]
    }
   ],
   "source": [
    "f = open('xyz.txt' , 'r')\n",
    "for line in f:\n",
    "    print(line,end='')\n",
    "f.close()"
   ]
  },
  {
   "cell_type": "markdown",
   "metadata": {},
   "source": [
    "Write a lines from list"
   ]
  },
  {
   "cell_type": "code",
   "execution_count": 33,
   "metadata": {},
   "outputs": [],
   "source": [
    "f = open('new.txt','w')\n",
    "l = ['list is a double float reiol fjolk .\\n, sfsfs ae wer eh sg KFGH JRTY WER \\n,sefs nfgh t twer qwe asd zfz xdfffxg']\n",
    "f.writelines(l)\n",
    "f.close()"
   ]
  },
  {
   "cell_type": "code",
   "execution_count": 34,
   "metadata": {},
   "outputs": [],
   "source": [
    "f = open('abc.txt','w')\n",
    "f.write('Apple is Sweet')\n",
    "f.close()"
   ]
  },
  {
   "cell_type": "code",
   "execution_count": 36,
   "metadata": {},
   "outputs": [],
   "source": [
    "f = open('abc.txt','w')\n",
    "f.write('Orange is sour')\n",
    "f.close()"
   ]
  },
  {
   "cell_type": "markdown",
   "metadata": {},
   "source": [
    "After writing into a ﬁle, ﬁle pointer moves to the end, so read ing after writing wont read anything. "
   ]
  },
  {
   "cell_type": "code",
   "execution_count": 38,
   "metadata": {},
   "outputs": [
    {
     "name": "stdout",
     "output_type": "stream",
     "text": [
      "File Content= \n"
     ]
    }
   ],
   "source": [
    "f = open('abc.txt','a+')\n",
    "f.write('Sky is Blue\\n,A black is bravo')\n",
    "s=f.read()\n",
    "print('File Content=',s)\n",
    "f.close()"
   ]
  },
  {
   "cell_type": "markdown",
   "metadata": {},
   "source": [
    "seek(): Moving the ﬁle pointer in ﬁle"
   ]
  },
  {
   "cell_type": "code",
   "execution_count": 41,
   "metadata": {},
   "outputs": [
    {
     "name": "stdout",
     "output_type": "stream",
     "text": [
      "ter notebook. Kind of silly but, is there a shortcut key to change a code cell to markdown cell. To place a markdown cell, I have to insert a cell, then go to the toolbar menu(below the main menu bar) and then select markdown instead of code.\n"
     ]
    }
   ],
   "source": [
    "import io\n",
    "f = open('xyz.txt','a+')\n",
    "f.seek(40,io.SEEK_SET)\n",
    "s=f.read()\n",
    "print(s)\n",
    "f.close()"
   ]
  },
  {
   "cell_type": "markdown",
   "metadata": {},
   "source": [
    "f.tell(): this function returns current oﬀset position from start of the ﬁle"
   ]
  },
  {
   "cell_type": "code",
   "execution_count": 44,
   "metadata": {},
   "outputs": [
    {
     "name": "stdout",
     "output_type": "stream",
     "text": [
      "5\n",
      "e is sourSky is Blue\n",
      "\n",
      "27\n",
      ",A black is bravoSky is Blue\n",
      "\n",
      "57\n",
      ",A black is bravo\n",
      "74\n",
      "\n",
      "74\n"
     ]
    }
   ],
   "source": [
    "f = open('abc.txt') \n",
    "f.seek(5, io.SEEK_SET) \n",
    "print (f.tell())\n",
    "\n",
    "print (f.readline()) \n",
    "print (f.tell())\n",
    "\n",
    "f.seek(0, io.SEEK_CUR)\n",
    "print (f.readline())\n",
    "print (f.tell()) \n",
    "\n",
    "f.seek(0, io.SEEK_CUR)\n",
    "print (f.readline())\n",
    "print (f.tell())\n",
    "\n",
    "f.seek(0, io.SEEK_END) \n",
    "print (f.readline())\n",
    "print (f.tell())"
   ]
  },
  {
   "cell_type": "markdown",
   "metadata": {},
   "source": [
    " Read text from a text ﬁle, ﬁnd the word with most number of occurances\n"
   ]
  },
  {
   "cell_type": "code",
   "execution_count": 50,
   "metadata": {},
   "outputs": [
    {
     "name": "stdout",
     "output_type": "stream",
     "text": [
      "Most occured word is: [('is', 5)]\n"
     ]
    }
   ],
   "source": [
    "from collections import Counter\n",
    "f = open('abc.txt')\n",
    "s=f.read()\n",
    "f.close()\n",
    "\n",
    "letters =[char for char in s if char.isalnum() or char==' ']\n",
    "words = ''.join(letters).split()\n",
    "print('Most occured word is:',Counter(words).most_common(1))\n",
    "\n"
   ]
  },
  {
   "cell_type": "markdown",
   "metadata": {},
   "source": [
    "FILE LINE SORT"
   ]
  },
  {
   "cell_type": "code",
   "execution_count": 2,
   "metadata": {},
   "outputs": [
    {
     "name": "stdout",
     "output_type": "stream",
     "text": [
      "[',A black is bravo', ',A black is bravoSky is Blue\\n', 'Orange is sourSky is Blue\\n']\n"
     ]
    }
   ],
   "source": [
    "file = list()\n",
    "filename = 'abc.txt'\n",
    "\n",
    "with open('abc.txt') as f:\n",
    "    for line in f:\n",
    "        file.append(line)\n",
    "file.sort()\n",
    "print(file)\n"
   ]
  },
  {
   "cell_type": "code",
   "execution_count": 10,
   "metadata": {},
   "outputs": [
    {
     "name": "stdout",
     "output_type": "stream",
     "text": [
      "[',A black is bravo', ',A black is bravoSky is Blue\\n', 'Orange is sourSky is Blue\\n']\n"
     ]
    }
   ],
   "source": [
    "new =list()\n",
    "file = 'abc.txt'\n",
    "with open('abc.txt') as f:\n",
    "    for line in f:\n",
    "        new.append(line)\n",
    "new.sort()\n",
    "print(new)\n",
    "        "
   ]
  },
  {
   "cell_type": "markdown",
   "metadata": {},
   "source": [
    "SORTING WORDS FROM STRING"
   ]
  },
  {
   "cell_type": "code",
   "execution_count": 13,
   "metadata": {},
   "outputs": [
    {
     "name": "stdout",
     "output_type": "stream",
     "text": [
      "Hello\n",
      "are\n",
      "are\n",
      "how\n",
      "how\n",
      "old\n",
      "you\n",
      "you\n"
     ]
    }
   ],
   "source": [
    "mystr=\"Hello how are you how old you are\"\n",
    "words=mystr.split()\n",
    "words.sort()\n",
    "for word in words:\n",
    "    print(word)"
   ]
  },
  {
   "cell_type": "markdown",
   "metadata": {},
   "source": [
    "REMOVE PUNCTUATIONS"
   ]
  },
  {
   "cell_type": "code",
   "execution_count": 16,
   "metadata": {},
   "outputs": [
    {
     "name": "stdout",
     "output_type": "stream",
     "text": [
      "Hellow world how are you\n"
     ]
    }
   ],
   "source": [
    "\n",
    "punc = '''\"{}[]!-,.|\\!~`-_\"'''\n",
    "mystr='Hellow!! \"world\" how. are you'\n",
    "no_punc =\"\"\n",
    "for char in mystr:\n",
    "    if char not in punc:\n",
    "        no_punc= no_punc + char\n",
    "print(no_punc)\n",
    "        "
   ]
  },
  {
   "cell_type": "markdown",
   "metadata": {},
   "source": [
    "COUNT OF VOWELS FROM STRING"
   ]
  },
  {
   "cell_type": "code",
   "execution_count": 26,
   "metadata": {},
   "outputs": [
    {
     "name": "stdout",
     "output_type": "stream",
     "text": [
      "{'a': 4, 'e': 3, 'i': 2, 'o': 2, 'u': 0}\n"
     ]
    }
   ],
   "source": [
    "vow ='aeiou'\n",
    "mystr = 'Hello my name is a aamolei'\n",
    "count = {}.fromkeys(vow,0)\n",
    "for char in mystr:\n",
    "    if char in vow:\n",
    "        count[char]+=1\n",
    "print(count)    \n",
    "        "
   ]
  },
  {
   "cell_type": "code",
   "execution_count": 27,
   "metadata": {},
   "outputs": [
    {
     "name": "stdout",
     "output_type": "stream",
     "text": [
      "{'a': 2, 'e': 5, 'i': 3, 'o': 5, 'u': 3}\n"
     ]
    }
   ],
   "source": [
    "ip_str = 'Hello, have you tried our turorial section yet?'\n",
    "ip_str = ip_str.casefold()\n",
    "count = {x:sum([1 for char in ip_str if char == x]) for x in 'aeiou'}\n",
    "\n",
    "print(count)"
   ]
  },
  {
   "cell_type": "code",
   "execution_count": null,
   "metadata": {},
   "outputs": [],
   "source": []
  }
 ],
 "metadata": {
  "kernelspec": {
   "display_name": "Python 3",
   "language": "python",
   "name": "python3"
  },
  "language_info": {
   "codemirror_mode": {
    "name": "ipython",
    "version": 3
   },
   "file_extension": ".py",
   "mimetype": "text/x-python",
   "name": "python",
   "nbconvert_exporter": "python",
   "pygments_lexer": "ipython3",
   "version": "3.6.5"
  }
 },
 "nbformat": 4,
 "nbformat_minor": 2
}
