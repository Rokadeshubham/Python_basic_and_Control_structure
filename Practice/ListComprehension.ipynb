{
 "cells": [
  {
   "cell_type": "code",
   "execution_count": 2,
   "metadata": {},
   "outputs": [
    {
     "data": {
      "text/plain": [
       "[0, 1, 4, 9, 16, 25, 36, 49, 64, 81]"
      ]
     },
     "execution_count": 2,
     "metadata": {},
     "output_type": "execute_result"
    }
   ],
   "source": [
    "[x*x for x in range(10)]\n"
   ]
  },
  {
   "cell_type": "code",
   "execution_count": 4,
   "metadata": {},
   "outputs": [
    {
     "data": {
      "text/plain": [
       "['zoya+zyan', 'shivani+shubham', 'jai+john']"
      ]
     },
     "execution_count": 4,
     "metadata": {},
     "output_type": "execute_result"
    }
   ],
   "source": [
    "girls = ['zoya','shivani','jai']\n",
    "boys = ['shubham','john','zyan']\n",
    "[g+\"+\"+b for g in girls for b in boys if(g[0]==b[0])]"
   ]
  },
  {
   "cell_type": "code",
   "execution_count": 12,
   "metadata": {},
   "outputs": [
    {
     "data": {
      "text/plain": [
       "[0, 2, 4, 6, 8]"
      ]
     },
     "execution_count": 12,
     "metadata": {},
     "output_type": "execute_result"
    }
   ],
   "source": [
    "[i for i in range(10) if(i%2==0)]"
   ]
  },
  {
   "cell_type": "code",
   "execution_count": 15,
   "metadata": {},
   "outputs": [
    {
     "name": "stdout",
     "output_type": "stream",
     "text": [
      "[0.0, 0.841, 0.909, 0.141, -0.757, -0.959, -0.279, 0.657, 0.989, 0.412]\n"
     ]
    }
   ],
   "source": [
    "\n",
    "from math import sin\n",
    "s=[round(sin(i),3) for i in range(10)]\n",
    "print(s)"
   ]
  },
  {
   "cell_type": "code",
   "execution_count": 19,
   "metadata": {},
   "outputs": [
    {
     "name": "stdout",
     "output_type": "stream",
     "text": [
      "[0.0, 0.841, 0.909, 0.141, -0.757, -0.959, -0.279, 0.657, 0.989, 0.412]\n",
      "After Filter\n",
      "0.841 0.909 0.141 0.657 0.989 0.412 "
     ]
    }
   ],
   "source": [
    "#Filtering\n",
    "from math import sin\n",
    "s=[round(sin(i),3) for i in range(10)]\n",
    "print(s)\n",
    "print('After Filter')\n",
    "s1=[print(i,end=' ') for i in s if i>0]\n",
    "\n"
   ]
  },
  {
   "cell_type": "markdown",
   "metadata": {},
   "source": [
    "Using multiple for loops: Cartesian Product"
   ]
  },
  {
   "cell_type": "code",
   "execution_count": 23,
   "metadata": {},
   "outputs": [
    {
     "data": {
      "text/plain": [
       "[(0, 0), (0, 1), (0, 2), (1, 0), (1, 1), (1, 2), (2, 0), (2, 1), (2, 2)]"
      ]
     },
     "execution_count": 23,
     "metadata": {},
     "output_type": "execute_result"
    }
   ],
   "source": [
    "[(x,y) for x in range(3) for y in range(3)]"
   ]
  },
  {
   "cell_type": "markdown",
   "metadata": {},
   "source": [
    "Converting forenheit to celsius using list comprehension"
   ]
  },
  {
   "cell_type": "code",
   "execution_count": 28,
   "metadata": {},
   "outputs": [
    {
     "name": "stdout",
     "output_type": "stream",
     "text": [
      "[6.22, 12.5, 25.0, 12.22, 0.67, -5.56, -11.48]\n"
     ]
    }
   ],
   "source": [
    "temp=[43.2,54.5,77,54,33.2,22,11.33]\n",
    "cel =[round((f-32.0)/(9.0/5.0), 2) for f in temp] \n",
    "print(cel)\n"
   ]
  },
  {
   "cell_type": "markdown",
   "metadata": {},
   "source": [
    "TUPLE COMPREHENSION"
   ]
  },
  {
   "cell_type": "code",
   "execution_count": 29,
   "metadata": {},
   "outputs": [
    {
     "name": "stdout",
     "output_type": "stream",
     "text": [
      "<generator object <genexpr> at 0x008C98A0>\n"
     ]
    }
   ],
   "source": [
    "gen=( i for i in range(10))\n",
    "print(gen)"
   ]
  },
  {
   "cell_type": "code",
   "execution_count": 30,
   "metadata": {},
   "outputs": [
    {
     "data": {
      "text/plain": [
       "0"
      ]
     },
     "execution_count": 30,
     "metadata": {},
     "output_type": "execute_result"
    }
   ],
   "source": [
    "next(gen)"
   ]
  },
  {
   "cell_type": "code",
   "execution_count": 31,
   "metadata": {},
   "outputs": [
    {
     "data": {
      "text/plain": [
       "1"
      ]
     },
     "execution_count": 31,
     "metadata": {},
     "output_type": "execute_result"
    }
   ],
   "source": [
    "next(gen)\n"
   ]
  },
  {
   "cell_type": "markdown",
   "metadata": {},
   "source": [
    "SET COMPREHENSION"
   ]
  },
  {
   "cell_type": "code",
   "execution_count": 34,
   "metadata": {},
   "outputs": [
    {
     "data": {
      "text/plain": [
       "{0, 1, 4, 9, 16, 25, 36, 49, 64, 81}"
      ]
     },
     "execution_count": 34,
     "metadata": {},
     "output_type": "execute_result"
    }
   ],
   "source": [
    "st={i*i for i in range(10)}\n",
    "st"
   ]
  },
  {
   "cell_type": "markdown",
   "metadata": {},
   "source": [
    "ZIP"
   ]
  },
  {
   "cell_type": "code",
   "execution_count": 43,
   "metadata": {},
   "outputs": [
    {
     "name": "stdout",
     "output_type": "stream",
     "text": [
      "(3, 'Q', True)\n",
      "(4, 'P', False)\n",
      "(5, 'A', True)\n",
      "(7, 'Z', True)\n",
      "(1, 'T', False)\n"
     ]
    }
   ],
   "source": [
    "l1 = [3, 4, 5, 7, 1]\n",
    "l2 = [\"Q\", \"P\", \"A\", \"Z\", \"T\", 'K', 'B']\n",
    "l3 = [True, False, True, True, False, True] \n",
    "\n",
    "for t in zip(l1 ,l2 ,l3):\n",
    "    print(t)"
   ]
  },
  {
   "cell_type": "code",
   "execution_count": 44,
   "metadata": {},
   "outputs": [
    {
     "name": "stdout",
     "output_type": "stream",
     "text": [
      "3 Q\n",
      "4 P\n",
      "5 A\n",
      "7 Z\n",
      "1 T\n"
     ]
    }
   ],
   "source": [
    "l1 = [3, 4, 5, 7, 1] \n",
    "l2 = [\"Q\", \"P\", \"A\", \"Z\", \"T\", 'K', 'B']\n",
    "for x, y in zip(l1, l2): \n",
    "    print (x, y)\n"
   ]
  },
  {
   "cell_type": "markdown",
   "metadata": {},
   "source": [
    "ZIP work on any type of sequenses"
   ]
  },
  {
   "cell_type": "code",
   "execution_count": 45,
   "metadata": {},
   "outputs": [
    {
     "name": "stdout",
     "output_type": "stream",
     "text": [
      "(3, 'A', 6.7)\n",
      "(4, 'p', 9.8)\n",
      "(2, 'p', 4.5)\n",
      "(1, 'l', 3.4)\n"
     ]
    }
   ],
   "source": [
    "l = [ 3, 4, 2, 1, 9, 6] \n",
    "a = 'Apple' \n",
    "s = {4.5, 6.7, 3.4, 9.8} \n",
    "for t in zip(l,a,s):\n",
    "    print(t)"
   ]
  },
  {
   "cell_type": "markdown",
   "metadata": {},
   "source": [
    "Unzipping"
   ]
  },
  {
   "cell_type": "code",
   "execution_count": 47,
   "metadata": {},
   "outputs": [
    {
     "name": "stdout",
     "output_type": "stream",
     "text": [
      "(3, 4, 5, 7, 1)\n",
      "('Q', 'P', 'A', 'Z', 'T')\n"
     ]
    }
   ],
   "source": [
    "lt = [(3, 'Q'), (4, 'P'), (5, 'A'), (7, 'Z'), (1, 'T')]\n",
    "for t in zip(*lt):\n",
    "    print(t)"
   ]
  },
  {
   "cell_type": "markdown",
   "metadata": {},
   "source": [
    "CREATING DICT USING ZIP"
   ]
  },
  {
   "cell_type": "code",
   "execution_count": 49,
   "metadata": {},
   "outputs": [
    {
     "data": {
      "text/plain": [
       "{3: 'Q', 4: 'P', 5: 'A', 7: 'Z', 1: 'T'}"
      ]
     },
     "execution_count": 49,
     "metadata": {},
     "output_type": "execute_result"
    }
   ],
   "source": [
    "keys = [3, 4, 5, 7, 1] \n",
    "values = [\"Q\", \"P\", \"A\", \"Z\", \"T\"] \n",
    "dict(zip(keys,values))"
   ]
  },
  {
   "cell_type": "markdown",
   "metadata": {},
   "source": [
    "DICT COMPREHENSION"
   ]
  },
  {
   "cell_type": "code",
   "execution_count": 53,
   "metadata": {},
   "outputs": [
    {
     "name": "stdout",
     "output_type": "stream",
     "text": [
      "1 one\n",
      "2 Two\n",
      "3 Three\n",
      "4 Four\n",
      "5 Five\n",
      "{None}\n"
     ]
    }
   ],
   "source": [
    "keys = [x for x in range(1, 6)] \n",
    "values = ['one', 'Two', 'Three', 'Four', 'Five'] \n",
    "k={print(key,value) for key,value in zip(keys,values)}\n"
   ]
  },
  {
   "cell_type": "code",
   "execution_count": 52,
   "metadata": {},
   "outputs": [
    {
     "name": "stdout",
     "output_type": "stream",
     "text": [
      "{1: 'one', 2: 'Two', 3: 'Three', 4: 'Four', 5: 'Five'}\n"
     ]
    }
   ],
   "source": [
    "keys = [x for x in range(1, 6)] \n",
    "values = ['one', 'Two', 'Three', 'Four', 'Five'] \n",
    "k={key:value for key,value in zip(keys,values)}\n",
    "print(k)"
   ]
  },
  {
   "cell_type": "markdown",
   "metadata": {},
   "source": [
    "MAP"
   ]
  },
  {
   "cell_type": "code",
   "execution_count": 56,
   "metadata": {},
   "outputs": [
    {
     "name": "stdout",
     "output_type": "stream",
     "text": [
      "144\n",
      "961\n",
      "121\n",
      "100\n",
      "441\n"
     ]
    }
   ],
   "source": [
    "t =[12,31,11,10,21]\n",
    "def sq(i):\n",
    "    s=i*i\n",
    "    return s\n",
    "sqrt = map(sq,t)\n",
    "for x in sqrt:\n",
    "    print(x)\n"
   ]
  },
  {
   "cell_type": "code",
   "execution_count": 62,
   "metadata": {},
   "outputs": [
    {
     "name": "stdout",
     "output_type": "stream",
     "text": [
      "1331\n",
      "1728\n",
      "2197\n",
      "2744\n",
      "3375\n",
      "4096\n",
      "4913\n",
      "5832\n"
     ]
    }
   ],
   "source": [
    "num=[11,12,13,14,15,16,17,18]\n",
    "def cube(c):\n",
    "    res=c**3\n",
    "    return res\n",
    "cu=map(cube,num)\n",
    "for i in cu:\n",
    "    print(i)"
   ]
  },
  {
   "cell_type": "markdown",
   "metadata": {},
   "source": [
    "FILTER"
   ]
  },
  {
   "cell_type": "code",
   "execution_count": 65,
   "metadata": {},
   "outputs": [
    {
     "name": "stdout",
     "output_type": "stream",
     "text": [
      "2197\n",
      "2744\n",
      "3375\n",
      "4096\n",
      "4913\n",
      "5832\n"
     ]
    }
   ],
   "source": [
    "num=[11,12,13,14,15,16,17,18]\n",
    "def cube(c):\n",
    "    res=c**3\n",
    "    return res\n",
    "cu=map(cube,num)\n",
    "more = 2000\n",
    "def f(t):\n",
    "    return True if t>more else False\n",
    "for x in filter(f,cu):\n",
    "    print(x)"
   ]
  },
  {
   "cell_type": "markdown",
   "metadata": {},
   "source": [
    "Reduce"
   ]
  },
  {
   "cell_type": "code",
   "execution_count": 67,
   "metadata": {},
   "outputs": [
    {
     "data": {
      "text/plain": [
       "13"
      ]
     },
     "execution_count": 67,
     "metadata": {},
     "output_type": "execute_result"
    }
   ],
   "source": [
    "from functools import reduce \n",
    "def add(x, y): \n",
    "    return x + y\n",
    "reduce(add, [1, 3, 4, 5])"
   ]
  },
  {
   "cell_type": "code",
   "execution_count": 70,
   "metadata": {},
   "outputs": [
    {
     "data": {
      "text/plain": [
       "120"
      ]
     },
     "execution_count": 70,
     "metadata": {},
     "output_type": "execute_result"
    }
   ],
   "source": [
    "from functools import reduce\n",
    "def sqrt(x,y):\n",
    "    return x*y\n",
    "reduce(sqrt,[2,3,4,5])"
   ]
  },
  {
   "cell_type": "code",
   "execution_count": 72,
   "metadata": {},
   "outputs": [
    {
     "name": "stdout",
     "output_type": "stream",
     "text": [
      "2\n",
      "2\n",
      "2\n",
      "2\n",
      "2\n",
      "2\n"
     ]
    },
    {
     "data": {
      "text/plain": [
       "45"
      ]
     },
     "execution_count": 72,
     "metadata": {},
     "output_type": "execute_result"
    }
   ],
   "source": [
    "import functools \n",
    "def add(*args):\n",
    "    print (len(args)) \n",
    "    return sum(args)\n",
    "functools.reduce(add, [5, 6, 7, 8, 9, 1, 9])"
   ]
  },
  {
   "cell_type": "code",
   "execution_count": null,
   "metadata": {},
   "outputs": [],
   "source": []
  }
 ],
 "metadata": {
  "kernelspec": {
   "display_name": "Python 3",
   "language": "python",
   "name": "python3"
  },
  "language_info": {
   "codemirror_mode": {
    "name": "ipython",
    "version": 3
   },
   "file_extension": ".py",
   "mimetype": "text/x-python",
   "name": "python",
   "nbconvert_exporter": "python",
   "pygments_lexer": "ipython3",
   "version": "3.6.5"
  }
 },
 "nbformat": 4,
 "nbformat_minor": 2
}
