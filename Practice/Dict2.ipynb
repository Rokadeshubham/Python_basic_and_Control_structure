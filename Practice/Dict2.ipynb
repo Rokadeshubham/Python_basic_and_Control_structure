{
 "cells": [
  {
   "cell_type": "code",
   "execution_count": 24,
   "metadata": {},
   "outputs": [
    {
     "name": "stdout",
     "output_type": "stream",
     "text": [
      "{1237: [87522, 126653], 1234: [1000, 200, 400, 600, 500], 1236: [6754, 1700, 788], 1999: [1000]}\n",
      "-------------------------------------------------------\n",
      "MAX SUM (1237, [87522, 126653])\n",
      "-------------------------------------------------------\n",
      "MAX TRANS (1234, [1000, 200, 400, 600, 500])\n",
      "-------------------------------------------------------\n",
      "Cust Count 4\n"
     ]
    }
   ],
   "source": [
    "#GROUPING\n",
    "\n",
    "trans = [(1237, 87522), \n",
    "         (1234, 1000),\n",
    "         (1236, 6754),\n",
    "         (1234, 200), \n",
    "         (1236, 1700),\n",
    "         (1234, 400), \n",
    "         (1234, 600),\n",
    "         (1236, 788),\n",
    "         (1234, 500), \n",
    "         (1237, 126653),\n",
    "         (1999, 1000)]\n",
    "deposites = {} \n",
    "\n",
    "for ac , cash in trans:\n",
    "    if ac not in deposites:\n",
    "        deposites[ac]= [cash]\n",
    "    else:\n",
    "        deposites[ac].append(cash)\n",
    "print(deposites)\n",
    "print('-------------------------------------------------------')\n",
    "\n",
    "print('MAX SUM',max(deposites.items(),key=lambda x:sum(x[1])))\n",
    "print('-------------------------------------------------------')\n",
    "print('MAX TRANS',max(deposites.items(),key=lambda x:len(x[1])))\n",
    "print('-------------------------------------------------------')\n",
    "\n",
    "print('Cust Count',len(deposites))\n",
    "\n",
    "\n",
    "\n",
    "\n"
   ]
  },
  {
   "cell_type": "markdown",
   "metadata": {},
   "source": [
    "List out all the indices of each word.\n"
   ]
  },
  {
   "cell_type": "code",
   "execution_count": 32,
   "metadata": {},
   "outputs": [
    {
     "data": {
      "text/plain": [
       "{'Apple': [0, 2, 6, 8], 'Orange': [1], 'Banana': [3, 5, 9], 'Peach': [4, 7]}"
      ]
     },
     "execution_count": 32,
     "metadata": {},
     "output_type": "execute_result"
    }
   ],
   "source": [
    "fruits = [\"Apple\", \"Orange\", \"Apple\", \"Banana\", \"Peach\",\"Banana\", \"Apple\", \"Peach\", \"Apple\", \"Banana\"] \n",
    "fruit_id={}\n",
    "for _id,word in enumerate(fruits):\n",
    "    if word not in fruit_id:\n",
    "        fruit_id[word]=[_id]\n",
    "    else:\n",
    "        fruit_id[word].append(_id)\n",
    "fruit_id"
   ]
  },
  {
   "cell_type": "markdown",
   "metadata": {},
   "source": [
    "Program: Latest balances of the all customers by now"
   ]
  },
  {
   "cell_type": "code",
   "execution_count": 1,
   "metadata": {},
   "outputs": [
    {
     "ename": "NameError",
     "evalue": "name 'latest_balance' is not defined",
     "output_type": "error",
     "traceback": [
      "\u001b[1;31m---------------------------------------------------------------------------\u001b[0m",
      "\u001b[1;31mNameError\u001b[0m                                 Traceback (most recent call last)",
      "\u001b[1;32m<ipython-input-1-b5ffe5c0093f>\u001b[0m in \u001b[0;36m<module>\u001b[1;34m()\u001b[0m\n\u001b[0;32m     12\u001b[0m \u001b[1;33m\u001b[0m\u001b[0m\n\u001b[0;32m     13\u001b[0m \u001b[1;32mfor\u001b[0m \u001b[0midx\u001b[0m \u001b[1;33m,\u001b[0m \u001b[0mbal\u001b[0m \u001b[1;32min\u001b[0m \u001b[0mstock_price\u001b[0m\u001b[1;33m:\u001b[0m\u001b[1;33m\u001b[0m\u001b[0m\n\u001b[1;32m---> 14\u001b[1;33m     \u001b[0mlatest_balance\u001b[0m\u001b[1;33m[\u001b[0m\u001b[0midx\u001b[0m\u001b[1;33m]\u001b[0m\u001b[1;33m=\u001b[0m\u001b[0mbal\u001b[0m\u001b[1;33m\u001b[0m\u001b[0m\n\u001b[0m\u001b[0;32m     15\u001b[0m \u001b[0mprint\u001b[0m\u001b[1;33m(\u001b[0m\u001b[0mlatest_balance\u001b[0m\u001b[1;33m)\u001b[0m\u001b[1;33m\u001b[0m\u001b[0m\n",
      "\u001b[1;31mNameError\u001b[0m: name 'latest_balance' is not defined"
     ]
    }
   ],
   "source": [
    "#USED TO KEEP LATEST DATA\n",
    "stock_price =  [(1245, 2.5), \n",
    "                (1233, 4.5),  \n",
    "                (1245, 3.7),  \n",
    "                (1237, 2),    \n",
    "                (1233, 1.5),      \n",
    "                (1245, 3.7),  \n",
    "                (1239, 1.2), \n",
    "                (1237, 3),   \n",
    "                (1245, 4.0),  \n",
    "                (1239, 1.0)] \n",
    "latest_balance={}\n",
    "for idx , bal in stock_price:\n",
    "    latest_balance[idx]=bal\n",
    "print(latest_balance)"
   ]
  },
  {
   "cell_type": "markdown",
   "metadata": {},
   "source": [
    "Collections"
   ]
  },
  {
   "cell_type": "code",
   "execution_count": 36,
   "metadata": {},
   "outputs": [
    {
     "name": "stdout",
     "output_type": "stream",
     "text": [
      "Counter({'Apple': 4, 'Banana': 3, 'Peach': 2, 'Orange': 1})\n"
     ]
    }
   ],
   "source": [
    "from collections import Counter \n",
    "fruits = [\"Apple\", \"Orange\", \"Banana\", \"Peach\", \"Apple\", \n",
    "          \"Banana\", \"Apple\", \"Peach\", \"Apple\", \"Banana\"]\n",
    "ctr = Counter(fruits) \n",
    "print(ctr)\n"
   ]
  },
  {
   "cell_type": "code",
   "execution_count": 41,
   "metadata": {},
   "outputs": [
    {
     "name": "stdout",
     "output_type": "stream",
     "text": [
      "Most frequently occured words: [('Apple', 4), ('Banana', 3)]\n"
     ]
    }
   ],
   "source": [
    "n = 2\n",
    "print('Most frequently occured words:', ctr.most_common(n) )"
   ]
  },
  {
   "cell_type": "markdown",
   "metadata": {},
   "source": [
    "DEQUE"
   ]
  },
  {
   "cell_type": "markdown",
   "metadata": {},
   "source": [
    "Creating a  dq"
   ]
  },
  {
   "cell_type": "code",
   "execution_count": 51,
   "metadata": {},
   "outputs": [
    {
     "name": "stdout",
     "output_type": "stream",
     "text": [
      "deque([40, 41, 42, 43, 44], maxlen=5)\n",
      "deque([42, 43, 44, 55, 66], maxlen=5)\n"
     ]
    }
   ],
   "source": [
    "from collections import deque\n",
    "dq = deque(maxlen=5)\n",
    "for x in range(11, 45):    \n",
    "    dq.append(x) \n",
    "print(dq)\n",
    "dq.append(55)\n",
    "dq.append(66)\n",
    "print(dq)"
   ]
  },
  {
   "cell_type": "markdown",
   "metadata": {},
   "source": [
    "DEFAULT DICTIONARY"
   ]
  },
  {
   "cell_type": "markdown",
   "metadata": {},
   "source": [
    "Find the indices of each word in the given list\n"
   ]
  },
  {
   "cell_type": "code",
   "execution_count": 52,
   "metadata": {},
   "outputs": [
    {
     "data": {
      "text/plain": [
       "defaultdict(list,\n",
       "            {'Apple': [0, 4, 6, 8],\n",
       "             'Orange': [1, 3],\n",
       "             'Banana': [2, 5, 9],\n",
       "             'Peach': [7]})"
      ]
     },
     "execution_count": 52,
     "metadata": {},
     "output_type": "execute_result"
    }
   ],
   "source": [
    "from collections import defaultdict \n",
    "fruits = [\"Apple\", \"Orange\", \"Banana\", \"Orange\", \"Apple\",\n",
    "          \"Banana\", \"Apple\", \"Peach\", \"Apple\", \"Banana\"]\n",
    "fruit_count = defaultdict(list)\n",
    "for idx, fruit in enumerate(fruits):  \n",
    "    fruit_count[fruit].append(idx)   \n",
    "fruit_count"
   ]
  },
  {
   "cell_type": "markdown",
   "metadata": {},
   "source": [
    "Exercise Program: We are expecting some packets from 5 diﬀerent ip addresses. \n",
    "We are asked to collect them and remove duplicates and sort them in increasing order.\n"
   ]
  },
  {
   "cell_type": "code",
   "execution_count": 60,
   "metadata": {},
   "outputs": [
    {
     "name": "stdout",
     "output_type": "stream",
     "text": [
      "196.131.56.71 ---> ['Data1', 'Data2']\n",
      "196.131.56.65 ---> ['Data1', 'Data2']\n",
      "196.131.56.78 ---> ['Data1']\n",
      "196.131.56.44 ---> ['Data1']\n",
      "196.131.56.35 ---> ['Data1']\n"
     ]
    }
   ],
   "source": [
    "from collections import defaultdict \n",
    "packets = [('196.131.56.71', 'Data1'),\n",
    "           ('196.131.56.65', 'Data1'),\n",
    "           ('196.131.56.78', 'Data1'), \n",
    "           ('196.131.56.44', 'Data1'), \n",
    "                                               \n",
    "           ('196.131.56.35', 'Data1'),\n",
    "                                               \n",
    "           ('196.131.56.65', 'Data2'), \n",
    "                                              \n",
    "           ('196.131.56.71', 'Data1'),\n",
    "           ('196.131.56.35', 'Data1'),\n",
    "           ('196.131.56.78', 'Data1'),\n",
    "           ('196.131.56.65', 'Data1'),\n",
    "           ('196.131.56.71', 'Data2'),\n",
    "           ('196.131.56.35', 'Data1'),]\n",
    "                                                  \n",
    "packet = defaultdict(set) \n",
    "for ip , data in packets:\n",
    "    packet[ip].add(data)\n",
    "    \n",
    "for ip,pkts in packet.items():\n",
    "    print(ip,'--->',sorted(pkts))\n"
   ]
  },
  {
   "cell_type": "markdown",
   "metadata": {},
   "source": [
    "HEAPQ"
   ]
  },
  {
   "cell_type": "code",
   "execution_count": 61,
   "metadata": {},
   "outputs": [
    {
     "name": "stdout",
     "output_type": "stream",
     "text": [
      "[2, 4, 6, 9, 20, 15]\n"
     ]
    }
   ],
   "source": [
    "import heapq \n",
    "l = [4, 20, 6, 9, 2, 15]\n",
    "heapq.heapify(l) \n",
    "print(l)\n"
   ]
  },
  {
   "cell_type": "code",
   "execution_count": null,
   "metadata": {},
   "outputs": [],
   "source": []
  }
 ],
 "metadata": {
  "kernelspec": {
   "display_name": "Python 3",
   "language": "python",
   "name": "python3"
  },
  "language_info": {
   "codemirror_mode": {
    "name": "ipython",
    "version": 3
   },
   "file_extension": ".py",
   "mimetype": "text/x-python",
   "name": "python",
   "nbconvert_exporter": "python",
   "pygments_lexer": "ipython3",
   "version": "3.6.5"
  }
 },
 "nbformat": 4,
 "nbformat_minor": 2
}
