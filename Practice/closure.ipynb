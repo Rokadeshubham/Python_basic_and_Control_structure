{
 "cells": [
  {
   "cell_type": "markdown",
   "metadata": {},
   "source": [
    "Closure refer outer scope to inner object"
   ]
  },
  {
   "cell_type": "markdown",
   "metadata": {},
   "source": [
    "This is similar to the global statement but refers to an outer scope of an inner function (a closure). That is, if you define a function inside another function and return it, this inner function may refer to—and modify— variables from the outer function, provided they are marked as nonlocal. "
   ]
  },
  {
   "cell_type": "code",
   "execution_count": 1,
   "metadata": {},
   "outputs": [],
   "source": [
    "def makeinc():\n",
    "    count = 1  \n",
    "    def inc():    \n",
    "        nonlocal count \n",
    "        count += 1   \n",
    "    return inc\n"
   ]
  },
  {
   "cell_type": "code",
   "execution_count": 3,
   "metadata": {},
   "outputs": [
    {
     "name": "stdout",
     "output_type": "stream",
     "text": [
      "Area of 5 circles is 141.42857142857142\n",
      "clossure dat:-\n",
      "(<cell at 0x060EABD0: int object at 0x565EE350>, <cell at 0x060EAB50: float object at 0x060D2400>)\n"
     ]
    }
   ],
   "source": [
    "def n_circles(n): \n",
    "    pi = 22/7.0 \n",
    "    def area(r): \n",
    "        a = pi*r*r*n \n",
    "        #print 'Local vars of area:', locals()  \n",
    "        return a \n",
    "    return area \n",
    "num = 5\n",
    "x = n_circles(num)\n",
    "print ('Area of {} circles is {}'.format(num, x(3))) \n",
    "print('clossure dat:-')\n",
    "print(x.__closure__)"
   ]
  },
  {
   "cell_type": "code",
   "execution_count": 4,
   "metadata": {},
   "outputs": [
    {
     "name": "stdout",
     "output_type": "stream",
     "text": [
      "Hey!\n"
     ]
    }
   ],
   "source": [
    "# Python program to illustrate\n",
    "# closures\n",
    "def outerFunction(text):\n",
    "    text = text\n",
    " \n",
    "    def innerFunction():\n",
    "        print(text)\n",
    " \n",
    "    return innerFunction # Note we are returning function WITHOUT parenthesis\n",
    " \n",
    "if __name__ == '__main__':\n",
    "    myFunction = outerFunction('Hey!')\n",
    "    myFunction()"
   ]
  },
  {
   "cell_type": "markdown",
   "metadata": {},
   "source": [
    "Explicit iterator"
   ]
  },
  {
   "cell_type": "code",
   "execution_count": 6,
   "metadata": {},
   "outputs": [
    {
     "name": "stdout",
     "output_type": "stream",
     "text": [
      "32\n",
      "45\n",
      "64\n",
      "Reamining value\n",
      "32\n",
      "45\n",
      "64\n",
      "67\n",
      "32\n",
      "55\n",
      "77\n",
      "22\n",
      "11\n",
      "33\n",
      "44\n"
     ]
    }
   ],
   "source": [
    "l=[32,45,64,67,32,55,77,22,11,33,44]\n",
    "s=0\n",
    "\n",
    "for val in l:\n",
    "    if s+val>150:\n",
    "        break\n",
    "    print(val)\n",
    "    s+=val\n",
    "    \n",
    "print('Reamining value')\n",
    "for val in l:\n",
    "    print(val)"
   ]
  },
  {
   "cell_type": "markdown",
   "metadata": {},
   "source": [
    "Use of iterator"
   ]
  },
  {
   "cell_type": "code",
   "execution_count": 10,
   "metadata": {},
   "outputs": [
    {
     "name": "stdout",
     "output_type": "stream",
     "text": [
      "32\n",
      "45\n",
      "64\n",
      "remaining values\n",
      "32\n",
      "55\n",
      "77\n",
      "22\n",
      "11\n",
      "33\n",
      "44\n"
     ]
    }
   ],
   "source": [
    "l=[32,45,64,67,32,55,77,22,11,33,44]\n",
    "it = iter(l)\n",
    "s=0\n",
    "for val in it:\n",
    "    if s+val>150:\n",
    "        break\n",
    "    print(val)\n",
    "    s+=val\n",
    "print('remaining values')\n",
    "for val in it:\n",
    "    print(val)"
   ]
  },
  {
   "cell_type": "code",
   "execution_count": null,
   "metadata": {},
   "outputs": [],
   "source": []
  }
 ],
 "metadata": {
  "kernelspec": {
   "display_name": "Python 3",
   "language": "python",
   "name": "python3"
  },
  "language_info": {
   "codemirror_mode": {
    "name": "ipython",
    "version": 3
   },
   "file_extension": ".py",
   "mimetype": "text/x-python",
   "name": "python",
   "nbconvert_exporter": "python",
   "pygments_lexer": "ipython3",
   "version": "3.6.5"
  }
 },
 "nbformat": 4,
 "nbformat_minor": 2
}
