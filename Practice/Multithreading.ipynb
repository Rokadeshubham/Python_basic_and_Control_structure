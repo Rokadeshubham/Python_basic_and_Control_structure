{
 "cells": [
  {
   "cell_type": "code",
   "execution_count": 1,
   "metadata": {},
   "outputs": [
    {
     "name": "stdout",
     "output_type": "stream",
     "text": [
      "Square: 100Cube: 1000\n",
      "\n",
      "Done!\n"
     ]
    }
   ],
   "source": [
    "# Python program to illustrate the concept\n",
    "# of threading\n",
    "# importing the threading module\n",
    "import threading\n",
    " \n",
    "def print_cube(num):\n",
    "    \n",
    "    print(\"Cube: {}\".format(num * num * num))\n",
    " \n",
    "def print_square(num):\n",
    "    \n",
    "    print(\"Square: {}\".format(num * num))\n",
    " \n",
    "if __name__ == \"__main__\":\n",
    "    # creating thread\n",
    "    t1 = threading.Thread(target=print_square, args=(10,))\n",
    "    t2 = threading.Thread(target=print_cube, args=(10,))\n",
    " \n",
    "    # starting thread 1\n",
    "    t1.start()\n",
    "    # starting thread 2\n",
    "    t2.start()\n",
    " \n",
    "    # wait until thread 1 is completely executed\n",
    "    t1.join()\n",
    "    # wait until thread 2 is completely executed\n",
    "    t2.join()\n",
    " \n",
    "    # both threads completely executed\n",
    "    print(\"Done!\")\n"
   ]
  },
  {
   "cell_type": "markdown",
   "metadata": {},
   "source": [
    "# target: the function to be executed by thread"
   ]
  },
  {
   "cell_type": "markdown",
   "metadata": {},
   "source": [
    "# args: the arguments to be passed to the target function"
   ]
  },
  {
   "cell_type": "code",
   "execution_count": 7,
   "metadata": {},
   "outputs": [
    {
     "name": "stdout",
     "output_type": "stream",
     "text": [
      "child:parent: 0\n",
      " 20\n",
      "parent:child: 21\n",
      " 1\n",
      "parent: 22\n",
      "child: 2\n",
      "parent: 23\n",
      "child: 3\n",
      "parent: 24\n",
      "child: 4\n",
      "parent: 25\n",
      "child: 5\n",
      "parent: 26\n",
      "child: 6\n",
      "parent: 27\n",
      "child: 7\n",
      "parent: 28\n",
      "child: 8\n",
      "parent: 29\n",
      "child: 9\n",
      "parent: 30\n",
      "child: 10\n"
     ]
    }
   ],
   "source": [
    "import threading\n",
    "import time\n",
    "\n",
    "def fun():\n",
    "    for i in range(0,11):\n",
    "        print('child:',i)\n",
    "        time.sleep(1)\n",
    "if __name__ == '__main__':\n",
    "    t1 = threading.Thread(target = fun)\n",
    "    t1.start()\n",
    "    for i in range(20,31):\n",
    "        print('parent:',i)\n",
    "        time.sleep(1)"
   ]
  },
  {
   "cell_type": "code",
   "execution_count": 19,
   "metadata": {},
   "outputs": [
    {
     "name": "stdout",
     "output_type": "stream",
     "text": [
      "Child: 0\n",
      "Child: 1\n",
      "Child: 2\n",
      "Child: 3\n",
      "Child: 4\n",
      "Child: 5\n",
      "Child: 6\n",
      "Child: 7\n",
      "Child: 8\n",
      "Child: 9\n",
      "Child: 10\n",
      "Parent: 20\n",
      "Parent: 21\n",
      "Parent: 22\n",
      "Parent: 23\n",
      "Parent: 24\n",
      "Parent: 25\n",
      "Parent: 26\n",
      "Parent: 27\n",
      "Parent: 28\n",
      "Parent: 29\n",
      "Parent: 30\n"
     ]
    }
   ],
   "source": [
    "from multiprocessing import Process\n",
    "import time\n",
    "\n",
    "def fun():\n",
    "    for i in range(0,11):\n",
    "        print('Child:',i)\n",
    "        time.sleep(1)\n",
    "if __name__ == '__main__':\n",
    "    p1 = Process(target=fun())\n",
    "    p1.start()\n",
    "    for i in range(20,31):\n",
    "        print('Parent:',i)\n",
    "        time.sleep(1)"
   ]
  },
  {
   "cell_type": "code",
   "execution_count": 58,
   "metadata": {},
   "outputs": [
    {
     "name": "stdout",
     "output_type": "stream",
     "text": [
      "Main:  10\n",
      "Main:  11\n",
      "Main:  12\n",
      "Main:  13\n",
      "Main:  14\n",
      "Main:  15\n",
      "Main:  16\n",
      "Main:  17\n",
      "Main:  18\n",
      "Main:  19\n",
      "Main:  20\n"
     ]
    }
   ],
   "source": [
    "from multiprocessing import Process \n",
    "import time \n",
    "def fun():   \n",
    "    for i in range(1, 11):  \n",
    "        print ('Child:', i) \n",
    "        time.sleep(1) \n",
    "if __name__ == '__main__':  \n",
    "    sub_process = Process(target=fun)  \n",
    "    sub_process.start()   \n",
    "    for i in range(10, 21):     \n",
    "        print ('Main: ', i)    \n",
    "        time.sleep(1)\n",
    "        "
   ]
  },
  {
   "cell_type": "code",
   "execution_count": 27,
   "metadata": {},
   "outputs": [
    {
     "name": "stdout",
     "output_type": "stream",
     "text": [
      "Child:  1\n",
      "Main:  21\n",
      "Child:  2\n",
      "Main:  22\n",
      "Main:  23\n",
      "Child:  3\n",
      "Main:  24\n",
      "Child:  4\n",
      "Child:  5\n",
      "Main:  25\n",
      "Child:  6\n",
      "Main:  26\n",
      "Child:  7\n",
      "Main:  27\n",
      "Child:  8\n",
      "Main:  28\n",
      "Main:  29\n",
      "Child:  9\n",
      "Main:  30\n",
      "Child:  10\n",
      "Child: Main EXITs\n",
      " 11\n",
      "Child:  12\n",
      "Child:  13\n",
      "Child:  14\n",
      "Child:  15\n",
      "Child:  16\n",
      "Child:  17\n",
      "Child:  18\n",
      "Child:  19\n",
      "Child:  20\n",
      "Child EXITs\n"
     ]
    }
   ],
   "source": [
    "import threading\n",
    "import time \n",
    "lk = threading.Lock() \n",
    "def fun(n): \n",
    "    for i in range(1, n):  \n",
    "        lk.acquire()     \n",
    "        print ('Child: ', i)  \n",
    "        lk.release()    \n",
    "        time.sleep(1)   \n",
    "    print ('Child EXITs') \n",
    "if __name__ == '__main__':   \n",
    "    thr = threading.Thread(target=fun, args=(21,))\n",
    "    # passing parameters to thread\n",
    "    thr.start() \n",
    "    for i in range(21, 31):   \n",
    "        lk.acquire()     \n",
    "        print('Main: ', i )  \n",
    "        lk.release()       \n",
    "        time.sleep(1)   \n",
    "    print('Main EXITs')"
   ]
  },
  {
   "cell_type": "code",
   "execution_count": 67,
   "metadata": {},
   "outputs": [
    {
     "name": "stdout",
     "output_type": "stream",
     "text": [
      "hey 0\n",
      "hey 2\n",
      "hey 4\n",
      "hey 6\n",
      "hey 8\n"
     ]
    }
   ],
   "source": [
    "from multiprocessing import Process\n",
    "import time\n",
    "def sum(x):\n",
    "    for i in range(0,x):\n",
    "        r=print('It is sum',i+i)\n",
    "        time.sleep(1)\n",
    "        return r\n",
    "if __name__ == '__main__':\n",
    "    p = Process(target=sum, args=(5,))\n",
    "    p.start()\n",
    "    p.join()\n",
    "    for i in range(0,5):\n",
    "        print('hey',i+i)\n",
    "     \n",
    "  "
   ]
  },
  {
   "cell_type": "code",
   "execution_count": null,
   "metadata": {},
   "outputs": [],
   "source": []
  },
  {
   "cell_type": "code",
   "execution_count": null,
   "metadata": {},
   "outputs": [],
   "source": []
  }
 ],
 "metadata": {
  "kernelspec": {
   "display_name": "Python 3",
   "language": "python",
   "name": "python3"
  },
  "language_info": {
   "codemirror_mode": {
    "name": "ipython",
    "version": 3
   },
   "file_extension": ".py",
   "mimetype": "text/x-python",
   "name": "python",
   "nbconvert_exporter": "python",
   "pygments_lexer": "ipython3",
   "version": "3.6.5"
  }
 },
 "nbformat": 4,
 "nbformat_minor": 2
}
