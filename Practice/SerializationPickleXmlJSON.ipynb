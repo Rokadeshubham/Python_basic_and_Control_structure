{
 "cells": [
  {
   "cell_type": "markdown",
   "metadata": {},
   "source": [
    "# SERIALIZATION\n"
   ]
  },
  {
   "cell_type": "markdown",
   "metadata": {},
   "source": [
    "Serialization: Serialization is the process of transforming data from one container to to another."
   ]
  },
  {
   "cell_type": "markdown",
   "metadata": {},
   "source": [
    "# 1.Pickle"
   ]
  },
  {
   "cell_type": "markdown",
   "metadata": {},
   "source": [
    "### The pickle module implements a fundamental, but powerful algorithm for serializing and de-serializing a Python object structure. “Pickling” is the process whereby a Python object hierarchy is converted into a byte stream, and “unpickling” is the inverse operation, whereby a byte stream is converted back into an object hierarchy. "
   ]
  },
  {
   "cell_type": "markdown",
   "metadata": {},
   "source": [
    "Python to Pickle"
   ]
  },
  {
   "cell_type": "code",
   "execution_count": 1,
   "metadata": {},
   "outputs": [
    {
     "name": "stdout",
     "output_type": "stream",
     "text": [
      "{'Id': 1, 'name': 'shubham', 'Salary': 0, 'fulltime': True}\n"
     ]
    }
   ],
   "source": [
    "#dumps() converts python to byte stream\n",
    "import pickle\n",
    "d = {}\n",
    "d['Id']=1\n",
    "d['name']='shubham'\n",
    "d['Salary']=00000\n",
    "d['fulltime']=True\n",
    "print(d)\n"
   ]
  },
  {
   "cell_type": "code",
   "execution_count": 3,
   "metadata": {},
   "outputs": [
    {
     "name": "stdout",
     "output_type": "stream",
     "text": [
      "b'\\x80\\x03}q\\x00(X\\x02\\x00\\x00\\x00Idq\\x01K\\x01X\\x04\\x00\\x00\\x00nameq\\x02X\\x07\\x00\\x00\\x00shubhamq\\x03X\\x06\\x00\\x00\\x00Salaryq\\x04K\\x00X\\x08\\x00\\x00\\x00fulltimeq\\x05\\x88u.'\n"
     ]
    }
   ],
   "source": [
    "bs = pickle.dumps(d)\n",
    "print(bs)"
   ]
  },
  {
   "cell_type": "markdown",
   "metadata": {},
   "source": [
    "Writing into a ﬁle in binary format('wb' mode)\n"
   ]
  },
  {
   "cell_type": "code",
   "execution_count": 9,
   "metadata": {},
   "outputs": [],
   "source": [
    "f = open('employee.pickle','wb')\n",
    "f.write(bs)\n",
    "f.close()"
   ]
  },
  {
   "cell_type": "code",
   "execution_count": 13,
   "metadata": {},
   "outputs": [
    {
     "name": "stdout",
     "output_type": "stream",
     "text": [
      "€\u0003}q\u0000(X\u0002\u0000\u0000\u0000Idq\u0001K\u0001X\u0004\u0000\u0000\u0000nameq\u0002X\u0007\u0000\u0000\u0000shubhamq\u0003X\u0006\u0000\u0000\u0000Salaryq\u0004K\u0000X\b\u0000\u0000\u0000fulltimeq\u0005ˆu.\n"
     ]
    }
   ],
   "source": [
    "!type employee.pickle \n",
    "#---------------->Check the file in wimdows"
   ]
  },
  {
   "cell_type": "markdown",
   "metadata": {},
   "source": [
    "### Load() function backs file to original format"
   ]
  },
  {
   "cell_type": "code",
   "execution_count": 16,
   "metadata": {},
   "outputs": [
    {
     "name": "stdout",
     "output_type": "stream",
     "text": [
      "{'Id': 1, 'name': 'shubham', 'Salary': 0, 'fulltime': True}\n"
     ]
    }
   ],
   "source": [
    "f = open('employee.pickle','rb')\n",
    "f.read()\n",
    "s=pickle.loads(bs)\n",
    "print(s)\n",
    "f.close()"
   ]
  },
  {
   "cell_type": "markdown",
   "metadata": {},
   "source": [
    "Creating an intermediatory binary string is not rquired all the time. We may want to directly write into a ﬁle. Python provides a straight way to do this. load() and dump() functions.\n"
   ]
  },
  {
   "cell_type": "code",
   "execution_count": 18,
   "metadata": {},
   "outputs": [],
   "source": [
    "d ={}\n",
    "d['ID'] = 1\n",
    "d['Name'] = 'Shubham'\n",
    "d['Salary'] = 0\n",
    "d['FullTime'] = True\n",
    "\n",
    "f = open('employee.pickle','wb')\n",
    "#pickle.HIGHEST_PROTOCOL ensures the highest protocol to be used in pickling protocol. We can see the pure binary form of pickling\n",
    "pickle.dump(d,f,pickle.HIGHEST_PROTOCOL)\n",
    "f.close()"
   ]
  },
  {
   "cell_type": "code",
   "execution_count": 19,
   "metadata": {},
   "outputs": [
    {
     "name": "stdout",
     "output_type": "stream",
     "text": [
      "€\u0004•4\u0000\u0000\u0000\u0000\u0000\u0000\u0000}”(Œ\u0002ID”K\u0001Œ\u0004Name”Œ\u0007Shubham”Œ\u0006Salary”K\u0000Œ\bFullTime”ˆu.\n"
     ]
    }
   ],
   "source": [
    "!type employee.pickle"
   ]
  },
  {
   "cell_type": "code",
   "execution_count": 25,
   "metadata": {},
   "outputs": [
    {
     "name": "stdout",
     "output_type": "stream",
     "text": [
      "{'ID': 1, 'Name': 'Shubham', 'Salary': 0, 'FullTime': True}\n"
     ]
    }
   ],
   "source": [
    "d = {}\n",
    "with open('employee.pickle','rb') as f:\n",
    "    d=pickle.load(f)\n",
    "print(d)\n",
    "\n",
    "    "
   ]
  },
  {
   "cell_type": "markdown",
   "metadata": {},
   "source": [
    "# ##Xml"
   ]
  },
  {
   "cell_type": "markdown",
   "metadata": {},
   "source": [
    "web based data exchange scenorios,. XML is an hierarchical data format, and the most natural way to represent it is with a tree. \n",
    "1. xml.etree.ElementTree \n",
    "2. ET.Element() \n",
    "ElementTree is the module that is required to import.    \n",
    "3.import xml.etree.ElementTree as ET "
   ]
  },
  {
   "cell_type": "markdown",
   "metadata": {},
   "source": [
    "<book>\n",
    "    <title type='short'>Programming C</title>\n",
    "    <author>Yash</author>\n",
    "    <author>Venu Gopal</author>\n",
    "    <pages size='A5' color='white'>206</pages>\n",
    "</book>"
   ]
  },
  {
   "cell_type": "markdown",
   "metadata": {},
   "source": [
    "\n",
    "<book>   \n",
    "    <title type='short'> Programming C </title>\n",
    "    <author> Yeswanth Kanetkar </author>  \n",
    "    <author> Venu Gopal </author>\n",
    "    <pages size='A5' color='white'> 230 </pages> 5 \n",
    "</book>"
   ]
  },
  {
   "cell_type": "markdown",
   "metadata": {},
   "source": [
    "<book>  \n",
    "   <title type='short'> Programming C </title>  \n",
    "    <author> Yeswanth Kanetkar </author> \n",
    "    <author> Venu Gopal </author>  \n",
    "    <pages size='A5' color='white'> 230 </pages> 5 \n",
    "</book>"
   ]
  },
  {
   "cell_type": "code",
   "execution_count": 32,
   "metadata": {},
   "outputs": [],
   "source": [
    "import xml.etree.ElementTree as ET\n",
    "root=ET.Element('Book')\n",
    "\n",
    "title = ET.Element('Title')\n",
    "title.attrib = {'type' : 'short'}\n",
    "title.text = 'Python'\n",
    "\n",
    "author = ET.Element('Author')\n",
    "author.text = 'Rossum'\n",
    "\n",
    "pages = ET.Element('Pages')\n",
    "pages.attrib = {'size' : 'A5' , 'color': 'white'}\n",
    "pages.text = '230'\n",
    "pages.tail = '5'\n",
    "\n",
    "root.append(title)\n",
    "root.append(author)\n",
    "root.append(pages)"
   ]
  },
  {
   "cell_type": "code",
   "execution_count": 35,
   "metadata": {},
   "outputs": [
    {
     "data": {
      "text/plain": [
       "'Python'"
      ]
     },
     "execution_count": 35,
     "metadata": {},
     "output_type": "execute_result"
    }
   ],
   "source": [
    "#All sub tags in root are stored as a list, we can use list indexing to access them.\n",
    "\n",
    "root[0].text\n"
   ]
  },
  {
   "cell_type": "code",
   "execution_count": 39,
   "metadata": {},
   "outputs": [
    {
     "data": {
      "text/plain": [
       "'Rossum'"
      ]
     },
     "execution_count": 39,
     "metadata": {},
     "output_type": "execute_result"
    }
   ],
   "source": [
    "root[1].text"
   ]
  },
  {
   "cell_type": "markdown",
   "metadata": {},
   "source": [
    "Iterating through all tags"
   ]
  },
  {
   "cell_type": "code",
   "execution_count": 41,
   "metadata": {},
   "outputs": [
    {
     "name": "stdout",
     "output_type": "stream",
     "text": [
      "Title Python None {'type': 'short'}\n",
      "Author Rossum None {}\n",
      "Pages 230 5 {'size': 'A5', 'color': 'white'}\n"
     ]
    }
   ],
   "source": [
    "for item in root:\n",
    "    print(item.tag,item.text,item.tail,item.attrib)"
   ]
  },
  {
   "cell_type": "markdown",
   "metadata": {},
   "source": [
    "Converting xml tree to string\n"
   ]
  },
  {
   "cell_type": "code",
   "execution_count": 44,
   "metadata": {},
   "outputs": [
    {
     "name": "stdout",
     "output_type": "stream",
     "text": [
      "<Book><Title type=\"short\">Python</Title><Author>Rossum</Author><Pages color=\"white\" size=\"A5\">230</Pages>5</Book>\n"
     ]
    }
   ],
   "source": [
    "s=ET.tostring(root,encoding='unicode',method='xml')\n",
    "print(s)"
   ]
  },
  {
   "cell_type": "code",
   "execution_count": 46,
   "metadata": {},
   "outputs": [],
   "source": [
    "with open('book.xml','w') as f:\n",
    "    f.write(s)"
   ]
  },
  {
   "cell_type": "code",
   "execution_count": 47,
   "metadata": {},
   "outputs": [
    {
     "name": "stdout",
     "output_type": "stream",
     "text": [
      "<Book><Title type=\"short\">Python</Title><Author>Rossum</Author><Pages color=\"white\" size=\"A5\">230</Pages>5</Book>\n"
     ]
    }
   ],
   "source": [
    "!type book.xml\n"
   ]
  },
  {
   "cell_type": "markdown",
   "metadata": {},
   "source": [
    "Reading and parsing external xml ﬁles: "
   ]
  },
  {
   "cell_type": "code",
   "execution_count": 57,
   "metadata": {},
   "outputs": [
    {
     "ename": "SyntaxError",
     "evalue": "invalid syntax (<ipython-input-57-a86f9c0970ad>, line 2)",
     "output_type": "error",
     "traceback": [
      "\u001b[1;36m  File \u001b[1;32m\"<ipython-input-57-a86f9c0970ad>\"\u001b[1;36m, line \u001b[1;32m2\u001b[0m\n\u001b[1;33m    <?xml version=\"1.0\" encoding=\"UTF-8\" standalone=\"yes\" ?>\u001b[0m\n\u001b[1;37m    ^\u001b[0m\n\u001b[1;31mSyntaxError\u001b[0m\u001b[1;31m:\u001b[0m invalid syntax\n"
     ]
    }
   ],
   "source": [
    "\n",
    "<?xml version=\"1.0\" encoding=\"UTF-8\" standalone=\"yes\" ?>\n",
    "\n",
    "<data> \n",
    "\n",
    "<country name=\"Liechtenstein\" latittude =\"48\">\n",
    "<rank>1</rank>      \n",
    "    <year>2008</year>     \n",
    "    <gdppc>141100</gdppc>     \n",
    "    <neighbor name=\"Austria\" direction=\"E\"/>      \n",
    "    <neighbor name=\"Switzerland\" direction=\"W\"/>    \n",
    "</country>  \n",
    "<country name=\"Singapore\">     \n",
    "    <rank>4</rank>       \n",
    "    <year>2011</year>      \n",
    "    <gdppc>59900</gdppc>     \n",
    "    <neighbor name=\"Malaysia\" direction=\"N\"/>  \n",
    "</country>   \n",
    "<country name=\"Panama\">    \n",
    "    <rank>68</rank>        <year>2011</year>      \n",
    "    <gdppc>13600</gdppc>       \n",
    "    <neighbor name=\"Costa Rica\" direction=\"W\"/>        \n",
    "    <neighbor name=\"Colombia\" direction=\"E\"/>  \n",
    "</country>\n",
    "</data> "
   ]
  },
  {
   "cell_type": "code",
   "execution_count": 83,
   "metadata": {},
   "outputs": [
    {
     "ename": "SyntaxError",
     "evalue": "invalid syntax (<ipython-input-83-9d1011cad9ba>, line 1)",
     "output_type": "error",
     "traceback": [
      "\u001b[1;36m  File \u001b[1;32m\"<ipython-input-83-9d1011cad9ba>\"\u001b[1;36m, line \u001b[1;32m1\u001b[0m\n\u001b[1;33m    <?xml version=\"1.0\" encoding=\"UTF-8\"?>\u001b[0m\n\u001b[1;37m    ^\u001b[0m\n\u001b[1;31mSyntaxError\u001b[0m\u001b[1;31m:\u001b[0m invalid syntax\n"
     ]
    }
   ],
   "source": [
    "<?xml version=\"1.0\" encoding=\"UTF-8\"?>\n",
    "<breakfast_menu>\n",
    "<food>\n",
    "    <name>Belgian Waffles</name>\n",
    "    <price>$5.95</price>\n",
    "    <description>\n",
    "   Two of our famous Belgian Waffles with plenty of real maple syrup\n",
    "   </description>\n",
    "    <calories>650</calories>\n",
    "</food>\n",
    "<food>\n",
    "    <name>Strawberry Belgian Waffles</name>\n",
    "    <price>$7.95</price>\n",
    "    <description>\n",
    "    Light Belgian waffles covered with strawberries and whipped cream\n",
    "    </description>\n",
    "    <calories>900</calories>\n",
    "</food>\n",
    "<food>\n",
    "    <name>Berry-Berry Belgian Waffles</name>\n",
    "    <price>$8.95</price>\n",
    "    <description>\n",
    "    Belgian waffles covered with assorted fresh berries and whipped cream\n",
    "    </description>\n",
    "    <calories>900</calories>\n",
    "</food>\n",
    "<food>\n",
    "    <name>French Toast</name>\n",
    "    <price>$4.50</price>\n",
    "    <description>\n",
    "    Thick slices made from our homemade sourdough bread\n",
    "    </description>\n",
    "    <calories>600</calories>\n",
    "</food>\n",
    "<food>\n",
    "    <name>Homestyle Breakfast</name>\n",
    "    <price>$6.95</price>\n",
    "    <description>\n",
    "    Two eggs, bacon or sausage, toast, and our ever-popular hash browns\n",
    "    </description>\n",
    "    <calories>950</calories>\n",
    "</food>\n",
    "</breakfast_menu>"
   ]
  },
  {
   "cell_type": "markdown",
   "metadata": {},
   "source": [
    "### JSON"
   ]
  },
  {
   "cell_type": "code",
   "execution_count": 70,
   "metadata": {},
   "outputs": [],
   "source": [
    "import json\n",
    "\n",
    "book = {\n",
    "        'title' : 'Let us c',\n",
    "        'price ': 250,\n",
    "        'author' : 'Sahani',\n",
    "        'published' : True\n",
    "}\n",
    "s = json.dumps(book)\n",
    "with open('book.json','w') as f:\n",
    "    f.write(s)"
   ]
  },
  {
   "cell_type": "code",
   "execution_count": 71,
   "metadata": {},
   "outputs": [
    {
     "data": {
      "text/plain": [
       "'{\"title\": \"Let us c\", \"price \": 250, \"author\": \"Sahani\", \"published\": true}'"
      ]
     },
     "execution_count": 71,
     "metadata": {},
     "output_type": "execute_result"
    }
   ],
   "source": [
    "s"
   ]
  },
  {
   "cell_type": "code",
   "execution_count": 72,
   "metadata": {},
   "outputs": [
    {
     "name": "stdout",
     "output_type": "stream",
     "text": [
      "{\"title\": \"Let us c\", \"price \": 250, \"author\": \"Sahani\", \"published\": true}\n"
     ]
    }
   ],
   "source": [
    "!type book.json"
   ]
  },
  {
   "cell_type": "markdown",
   "metadata": {},
   "source": [
    "Deserializing data from json ﬁle:"
   ]
  },
  {
   "cell_type": "code",
   "execution_count": 74,
   "metadata": {},
   "outputs": [
    {
     "name": "stdout",
     "output_type": "stream",
     "text": [
      "{'title': 'Let us c', 'price ': 250, 'author': 'Sahani', 'published': True}\n"
     ]
    }
   ],
   "source": [
    "b ={}\n",
    "with open('book.json','r') as f:\n",
    "        s=f.read()\n",
    "        b = json.loads(s)\n",
    "print(b)"
   ]
  },
  {
   "cell_type": "code",
   "execution_count": 78,
   "metadata": {},
   "outputs": [],
   "source": [
    "import json \n",
    "book = [ { 'title': 'Let Us C',  \n",
    "                             'type': 'short', \n",
    "                             'Authors' : {'author1' : 'Yaswanth Kanetkar',  \n",
    "                                          'author2' : 'sahani'},    \n",
    "                             'publisher': ['bpb', 'wrox', 'pearson', 'appress'],  \n",
    "                             'Pages': 230,   \n",
    "                             'price': 560.0,  \n",
    "                             'published': True,\n",
    "                             'solution_booklet': None},  \n",
    "                            { 'title': 'Python Programming',     \n",
    "                             'type': 'long',    \n",
    "                             \n",
    "                             'Authors' : {'author1' : 'Narendra Allam'},  \n",
    "                             'publisher': ['bpb', 'wrox', 'pearson', 'appress'], \n",
    "                             'Pages': 650,  \n",
    "                             'price': 750.0,   \n",
    "                             'published': False, \n",
    "                             'solution_booklet': None}      ] \n",
    "f = open('book','w')\n",
    "json.dump(book,f)\n",
    "f.close()\n"
   ]
  },
  {
   "cell_type": "code",
   "execution_count": 79,
   "metadata": {},
   "outputs": [
    {
     "name": "stdout",
     "output_type": "stream",
     "text": [
      "[{\"title\": \"Let Us C\", \"type\": \"short\", \"Authors\": {\"author1\": \"Yaswanth Kanetkar\", \"author2\": \"sahani\"}, \"publisher\": [\"bpb\", \"wrox\", \"pearson\", \"appress\"], \"Pages\": 230, \"price\": 560.0, \"published\": true, \"solution_booklet\": null}, {\"title\": \"Python Programming\", \"type\": \"long\", \"Authors\": {\"author1\": \"Narendra Allam\"}, \"publisher\": [\"bpb\", \"wrox\", \"pearson\", \"appress\"], \"Pages\": 650, \"price\": 750.0, \"published\": false, \"solution_booklet\": null}]\n"
     ]
    }
   ],
   "source": [
    "!type book"
   ]
  },
  {
   "cell_type": "code",
   "execution_count": 82,
   "metadata": {},
   "outputs": [
    {
     "name": "stdout",
     "output_type": "stream",
     "text": [
      "[{'title': 'Let Us C', 'type': 'short', 'Authors': {'author1': 'Yaswanth Kanetkar', 'author2': 'sahani'}, 'publisher': ['bpb', 'wrox', 'pearson', 'appress'], 'Pages': 230, 'price': 560.0, 'published': True, 'solution_booklet': None}, {'title': 'Python Programming', 'type': 'long', 'Authors': {'author1': 'Narendra Allam'}, 'publisher': ['bpb', 'wrox', 'pearson', 'appress'], 'Pages': 650, 'price': 750.0, 'published': False, 'solution_booklet': None}]\n"
     ]
    }
   ],
   "source": [
    "import json\n",
    "with open('book','r') as f:\n",
    "    s = json.load(f)\n",
    "print(s)"
   ]
  },
  {
   "cell_type": "code",
   "execution_count": null,
   "metadata": {},
   "outputs": [],
   "source": []
  }
 ],
 "metadata": {
  "kernelspec": {
   "display_name": "Python 3",
   "language": "python",
   "name": "python3"
  },
  "language_info": {
   "codemirror_mode": {
    "name": "ipython",
    "version": 3
   },
   "file_extension": ".py",
   "mimetype": "text/x-python",
   "name": "python",
   "nbconvert_exporter": "python",
   "pygments_lexer": "ipython3",
   "version": "3.6.5"
  }
 },
 "nbformat": 4,
 "nbformat_minor": 2
}
