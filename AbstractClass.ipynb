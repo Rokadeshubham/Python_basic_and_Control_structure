{
 "cells": [
  {
   "cell_type": "markdown",
   "metadata": {},
   "source": [
    "##### What is Abstract class, when to use abstract class? \n",
    "Abstract classes are classes that contain one or more abstract methods.\n",
    "An abstract method is a method that is declared, but contains no implementation. \n",
    "Abstract classes can not be instantiated, and require subclasses to provide implementations for the abstract methods.\n"
   ]
  },
  {
   "cell_type": "markdown",
   "metadata": {},
   "source": [
    "Using abc module"
   ]
  },
  {
   "cell_type": "markdown",
   "metadata": {},
   "source": [
    "PYTHON 2.7"
   ]
  },
  {
   "cell_type": "code",
   "execution_count": 4,
   "metadata": {},
   "outputs": [
    {
     "ename": "SyntaxError",
     "evalue": "Missing parentheses in call to 'print'. Did you mean print('have a fun')? (<ipython-input-4-127d24e5b297>, line 11)",
     "output_type": "error",
     "traceback": [
      "\u001b[1;36m  File \u001b[1;32m\"<ipython-input-4-127d24e5b297>\"\u001b[1;36m, line \u001b[1;32m11\u001b[0m\n\u001b[1;33m    print 'have a fun'\u001b[0m\n\u001b[1;37m                     ^\u001b[0m\n\u001b[1;31mSyntaxError\u001b[0m\u001b[1;31m:\u001b[0m Missing parentheses in call to 'print'. Did you mean print('have a fun')?\n"
     ]
    }
   ],
   "source": [
    "from abc import ABCMeta ,abstractmethod\n",
    "\n",
    "class Base(object):\n",
    "    __metaclass__ = ABCMeta\n",
    "    @abstractmethod\n",
    "    def foo(self):\n",
    "        pass\n",
    "    def bar(self):\n",
    "        pass\n",
    "    def fun (self):\n",
    "        print 'have a fun'\n",
    "        \n",
    "class Derived(Base):\n",
    "    def foo(self):\n",
    "        print 'Derived foo called'\n",
    "        \n",
    "d = Derived()\n",
    "d.bar()"
   ]
  },
  {
   "cell_type": "markdown",
   "metadata": {},
   "source": [
    "PYTHON 3.7"
   ]
  },
  {
   "cell_type": "code",
   "execution_count": 9,
   "metadata": {},
   "outputs": [
    {
     "ename": "TypeError",
     "evalue": "Can't instantiate abstract class Derived with abstract methods bar",
     "output_type": "error",
     "traceback": [
      "\u001b[1;31m---------------------------------------------------------------------------\u001b[0m",
      "\u001b[1;31mTypeError\u001b[0m                                 Traceback (most recent call last)",
      "\u001b[1;32m<ipython-input-9-efea5eb74191>\u001b[0m in \u001b[0;36m<module>\u001b[1;34m()\u001b[0m\n\u001b[0;32m     17\u001b[0m         \u001b[0mprint\u001b[0m \u001b[1;33m(\u001b[0m\u001b[1;34m'Derived foo called'\u001b[0m\u001b[1;33m)\u001b[0m\u001b[1;33m\u001b[0m\u001b[0m\n\u001b[0;32m     18\u001b[0m \u001b[1;33m\u001b[0m\u001b[0m\n\u001b[1;32m---> 19\u001b[1;33m \u001b[0md\u001b[0m \u001b[1;33m=\u001b[0m \u001b[0mDerived\u001b[0m\u001b[1;33m(\u001b[0m\u001b[1;33m)\u001b[0m\u001b[1;33m\u001b[0m\u001b[0m\n\u001b[0m\u001b[0;32m     20\u001b[0m \u001b[1;31m#d.bar()\u001b[0m\u001b[1;33m\u001b[0m\u001b[1;33m\u001b[0m\u001b[0m\n",
      "\u001b[1;31mTypeError\u001b[0m: Can't instantiate abstract class Derived with abstract methods bar"
     ]
    }
   ],
   "source": [
    "from abc import ABC ,abstractmethod\n",
    "\n",
    "class Base(ABC):\n",
    "  \n",
    "    @abstractmethod\n",
    "    def foo(self):\n",
    "        pass\n",
    "    @abstractmethod\n",
    "    def bar(self):\n",
    "        pass\n",
    "    \n",
    "    def fun ():\n",
    "        print ('have a fun')\n",
    "        \n",
    "class Derived(Base):\n",
    "    def foo(self):\n",
    "        print ('Derived foo called')\n",
    "        \n",
    "d = Derived()\n",
    "d.bar()"
   ]
  },
  {
   "cell_type": "markdown",
   "metadata": {},
   "source": [
    "#### We must override all abstract m,ethods, cannot leave them unimplemented."
   ]
  },
  {
   "cell_type": "code",
   "execution_count": 11,
   "metadata": {},
   "outputs": [
    {
     "name": "stdout",
     "output_type": "stream",
     "text": [
      "Derived bar foo() called\n"
     ]
    }
   ],
   "source": [
    "from abc import ABC, abstractmethod \n",
    "\n",
    "class Base(ABC):\n",
    "    @abstractmethod \n",
    "    def foo(self):\n",
    "        pass    \n",
    "    @abstractmethod\n",
    "    def bar(self): \n",
    "        pass    \n",
    "    \n",
    "    def fun(): \n",
    "        print (\"have fun!\")    \n",
    "class Derived(Base):\n",
    "    def foo(self): \n",
    "        print ('Derived foo() called')  \n",
    "    def bar(self):  \n",
    "        print ('Derived bar foo() called') \n",
    "d = Derived()\n",
    "d.bar()\n",
    "                        "
   ]
  },
  {
   "cell_type": "code",
   "execution_count": 26,
   "metadata": {},
   "outputs": [
    {
     "ename": "TypeError",
     "evalue": "Can't instantiate abstract class Hexagone with abstract methods display",
     "output_type": "error",
     "traceback": [
      "\u001b[1;31m---------------------------------------------------------------------------\u001b[0m",
      "\u001b[1;31mTypeError\u001b[0m                                 Traceback (most recent call last)",
      "\u001b[1;32m<ipython-input-26-8243cfe09d48>\u001b[0m in \u001b[0;36m<module>\u001b[1;34m()\u001b[0m\n\u001b[0;32m     31\u001b[0m \u001b[0mr\u001b[0m \u001b[1;33m=\u001b[0m \u001b[0mRectangle\u001b[0m\u001b[1;33m(\u001b[0m\u001b[1;33m)\u001b[0m\u001b[1;33m\u001b[0m\u001b[0m\n\u001b[0;32m     32\u001b[0m \u001b[0ms\u001b[0m \u001b[1;33m=\u001b[0m \u001b[0mSquare\u001b[0m\u001b[1;33m\u001b[0m\u001b[0m\n\u001b[1;32m---> 33\u001b[1;33m \u001b[0mh\u001b[0m \u001b[1;33m=\u001b[0m \u001b[0mHexagone\u001b[0m\u001b[1;33m(\u001b[0m\u001b[1;33m)\u001b[0m\u001b[1;33m\u001b[0m\u001b[0m\n\u001b[0m\u001b[0;32m     34\u001b[0m \u001b[1;33m\u001b[0m\u001b[0m\n\u001b[0;32m     35\u001b[0m \u001b[0ml\u001b[0m \u001b[1;33m=\u001b[0m \u001b[1;33m[\u001b[0m\u001b[0mc\u001b[0m\u001b[1;33m,\u001b[0m\u001b[0mr\u001b[0m\u001b[1;33m,\u001b[0m\u001b[0ms\u001b[0m\u001b[1;33m,\u001b[0m\u001b[0mh\u001b[0m\u001b[1;33m]\u001b[0m\u001b[1;33m\u001b[0m\u001b[0m\n",
      "\u001b[1;31mTypeError\u001b[0m: Can't instantiate abstract class Hexagone with abstract methods display"
     ]
    }
   ],
   "source": [
    "from random import shuffle\n",
    "from abc import ABC,abstractmethod\n",
    "\n",
    "class Shape(ABC):\n",
    "    @abstractmethod\n",
    "    def display(self):\n",
    "        pass\n",
    "    \n",
    "class Circle(Shape):\n",
    "    def display(self):\n",
    "        print('I am CIRCLE')\n",
    "\n",
    "class Rectangle(Shape):\n",
    "    def display(self):\n",
    "        print('I am Rect')\n",
    "\n",
    "class Square(Shape):\n",
    "    def display(self):\n",
    "        print('I am Square')\n",
    "\n",
    "class Hexagone(Shape):\n",
    "    def draw(self):\n",
    "        print('I am a Hexagon')\n",
    "        \n",
    "def render_canvas(shapes): \n",
    "    for x in shapes:  \n",
    "        x.display() \n",
    "        \n",
    "        \n",
    "c = Circle()\n",
    "r = Rectangle()\n",
    "s = Square\n",
    "h = Hexagone()\n",
    "\n",
    "l = [c,r,s,h]\n",
    "\n",
    "shuffle(l)\n",
    "\n",
    "render_canvas(l)\n",
    "\n",
    "        "
   ]
  },
  {
   "cell_type": "markdown",
   "metadata": {},
   "source": [
    "###### Abstarct classes prevent object instantiation, which gives better understanding and leads to good design.\n",
    "\n",
    "Hexagon class must override display() method\n"
   ]
  },
  {
   "cell_type": "code",
   "execution_count": 22,
   "metadata": {},
   "outputs": [
    {
     "name": "stdout",
     "output_type": "stream",
     "text": [
      "I'm the Rectangle\n",
      "I'm the Triangle\n",
      "I'm the Circle\n",
      "I'm the Hexagon and I'm a shape\n"
     ]
    }
   ],
   "source": [
    "from random import shuffle\n",
    "class Shape(object): \n",
    "    def display(self): \n",
    "        raise NotImplementedError() \n",
    "        \n",
    "class Circle(Shape):  \n",
    "    def display(self): \n",
    "        print (\"I'm the Circle\") \n",
    "        \n",
    "class Rectangle(Shape):  \n",
    "    def display(self):\n",
    "        print (\"I'm the Rectangle\") \n",
    "        \n",
    "class Triangle(Shape): \n",
    "    def display(self): \n",
    "        print (\"I'm the Triangle\") \n",
    "        \n",
    "class Hexagon(Shape):   \n",
    "    def display(self):  \n",
    "        print (\"I'm the Hexagon and I'm a shape\") \n",
    "        \n",
    "def render_canvas(shapes):   \n",
    "    for x in shapes:    \n",
    "        x.display()\n",
    "        \n",
    "c = Circle()\n",
    "r = Rectangle()\n",
    "t = Triangle()\n",
    "h = Hexagon()\n",
    "\n",
    "l = [c, r, t, h] \n",
    "shuffle(l) \n",
    "\n",
    "render_canvas(l)"
   ]
  },
  {
   "cell_type": "markdown",
   "metadata": {},
   "source": [
    "### Private Memebrs\n",
    "preﬁxing with __(double undescore) hides property from accessing .\n",
    "preﬁxing _ doen't do anything. But by convention, it means, \"not for public use\". So do not use other's code whihc has mehtods or attributes preﬁxed with _(underscore)\n"
   ]
  },
  {
   "cell_type": "code",
   "execution_count": 27,
   "metadata": {},
   "outputs": [],
   "source": [
    "class A(object): \n",
    "    def __init__(self): \n",
    "        self.x = 222   \n",
    "        self._y = 333   \n",
    "        self.__z = 555  \n",
    "    def f1(self):\n",
    "        print('__z:', self.__z) \n",
    "        print (\"I'm fun\") \n",
    "    def _f2(self):     \n",
    "        print (\"I'm _fun, dont use me, you will be at risk\") \n",
    "    def __f3(self):   \n",
    "        print (\"I'm __fun, you cannot use me\") \n",
    "a = A()\n"
   ]
  },
  {
   "cell_type": "code",
   "execution_count": 28,
   "metadata": {},
   "outputs": [
    {
     "data": {
      "text/plain": [
       "222"
      ]
     },
     "execution_count": 28,
     "metadata": {},
     "output_type": "execute_result"
    }
   ],
   "source": [
    "a.x"
   ]
  },
  {
   "cell_type": "code",
   "execution_count": 31,
   "metadata": {},
   "outputs": [
    {
     "ename": "AttributeError",
     "evalue": "'A' object has no attribute 'y'",
     "output_type": "error",
     "traceback": [
      "\u001b[1;31m---------------------------------------------------------------------------\u001b[0m",
      "\u001b[1;31mAttributeError\u001b[0m                            Traceback (most recent call last)",
      "\u001b[1;32m<ipython-input-31-59a3db86364c>\u001b[0m in \u001b[0;36m<module>\u001b[1;34m()\u001b[0m\n\u001b[1;32m----> 1\u001b[1;33m \u001b[0ma\u001b[0m\u001b[1;33m.\u001b[0m\u001b[0my\u001b[0m\u001b[1;33m\u001b[0m\u001b[0m\n\u001b[0m",
      "\u001b[1;31mAttributeError\u001b[0m: 'A' object has no attribute 'y'"
     ]
    }
   ],
   "source": [
    "a.y"
   ]
  },
  {
   "cell_type": "code",
   "execution_count": 32,
   "metadata": {},
   "outputs": [
    {
     "data": {
      "text/plain": [
       "333"
      ]
     },
     "execution_count": 32,
     "metadata": {},
     "output_type": "execute_result"
    }
   ],
   "source": [
    "a._y"
   ]
  },
  {
   "cell_type": "code",
   "execution_count": 36,
   "metadata": {},
   "outputs": [
    {
     "ename": "AttributeError",
     "evalue": "'A' object has no attribute '__z'",
     "output_type": "error",
     "traceback": [
      "\u001b[1;31m---------------------------------------------------------------------------\u001b[0m",
      "\u001b[1;31mAttributeError\u001b[0m                            Traceback (most recent call last)",
      "\u001b[1;32m<ipython-input-36-965fa129e2df>\u001b[0m in \u001b[0;36m<module>\u001b[1;34m()\u001b[0m\n\u001b[1;32m----> 1\u001b[1;33m \u001b[0ma\u001b[0m\u001b[1;33m.\u001b[0m\u001b[0m__z\u001b[0m\u001b[1;33m\u001b[0m\u001b[0m\n\u001b[0m",
      "\u001b[1;31mAttributeError\u001b[0m: 'A' object has no attribute '__z'"
     ]
    }
   ],
   "source": [
    "a.__z"
   ]
  },
  {
   "cell_type": "code",
   "execution_count": 37,
   "metadata": {},
   "outputs": [
    {
     "data": {
      "text/plain": [
       "{'x': 222, '_y': 333, '_A__z': 555}"
      ]
     },
     "execution_count": 37,
     "metadata": {},
     "output_type": "execute_result"
    }
   ],
   "source": [
    "a.__dict__"
   ]
  },
  {
   "cell_type": "code",
   "execution_count": 38,
   "metadata": {},
   "outputs": [
    {
     "data": {
      "text/plain": [
       "555"
      ]
     },
     "execution_count": 38,
     "metadata": {},
     "output_type": "execute_result"
    }
   ],
   "source": [
    "a._A__z"
   ]
  },
  {
   "cell_type": "code",
   "execution_count": 40,
   "metadata": {},
   "outputs": [
    {
     "name": "stdout",
     "output_type": "stream",
     "text": [
      "__z: 555\n",
      "I'm fun\n"
     ]
    }
   ],
   "source": [
    "a.f1()"
   ]
  },
  {
   "cell_type": "code",
   "execution_count": 42,
   "metadata": {},
   "outputs": [
    {
     "name": "stdout",
     "output_type": "stream",
     "text": [
      "I'm _fun, dont use me, you will be at risk\n"
     ]
    }
   ],
   "source": [
    "a._f2()"
   ]
  },
  {
   "cell_type": "code",
   "execution_count": 43,
   "metadata": {},
   "outputs": [
    {
     "ename": "AttributeError",
     "evalue": "'A' object has no attribute '__f3'",
     "output_type": "error",
     "traceback": [
      "\u001b[1;31m---------------------------------------------------------------------------\u001b[0m",
      "\u001b[1;31mAttributeError\u001b[0m                            Traceback (most recent call last)",
      "\u001b[1;32m<ipython-input-43-251ad2bdaabe>\u001b[0m in \u001b[0;36m<module>\u001b[1;34m()\u001b[0m\n\u001b[1;32m----> 1\u001b[1;33m \u001b[0ma\u001b[0m\u001b[1;33m.\u001b[0m\u001b[0m__f3\u001b[0m\u001b[1;33m(\u001b[0m\u001b[1;33m)\u001b[0m\u001b[1;33m\u001b[0m\u001b[0m\n\u001b[0m",
      "\u001b[1;31mAttributeError\u001b[0m: 'A' object has no attribute '__f3'"
     ]
    }
   ],
   "source": [
    "a.__f3()"
   ]
  },
  {
   "cell_type": "code",
   "execution_count": 44,
   "metadata": {},
   "outputs": [
    {
     "data": {
      "text/plain": [
       "mappingproxy({'__module__': '__main__',\n",
       "              '__init__': <function __main__.A.__init__(self)>,\n",
       "              'f1': <function __main__.A.f1(self)>,\n",
       "              '_f2': <function __main__.A._f2(self)>,\n",
       "              '_A__f3': <function __main__.A.__f3(self)>,\n",
       "              '__dict__': <attribute '__dict__' of 'A' objects>,\n",
       "              '__weakref__': <attribute '__weakref__' of 'A' objects>,\n",
       "              '__doc__': None})"
      ]
     },
     "execution_count": 44,
     "metadata": {},
     "output_type": "execute_result"
    }
   ],
   "source": [
    "A.__dict__"
   ]
  },
  {
   "cell_type": "code",
   "execution_count": 45,
   "metadata": {},
   "outputs": [
    {
     "name": "stdout",
     "output_type": "stream",
     "text": [
      "I'm __fun, you cannot use me\n"
     ]
    }
   ],
   "source": [
    "a._A__f3()"
   ]
  },
  {
   "cell_type": "markdown",
   "metadata": {},
   "source": [
    "## Static variables, Static Methods and Class Methods"
   ]
  },
  {
   "cell_type": "markdown",
   "metadata": {},
   "source": [
    "When we want to execute code before creating ﬁrst instance of a class, we create static variables and static functions.\n"
   ]
  },
  {
   "cell_type": "markdown",
   "metadata": {},
   "source": [
    "## Static methods are defined without self arguments, and they can be called directly on the class itself"
   ]
  },
  {
   "cell_type": "code",
   "execution_count": 47,
   "metadata": {},
   "outputs": [],
   "source": [
    "class MyClass:\n",
    "    def smeth():      \n",
    "        print('This is a static method')  \n",
    "        smeth = staticmethod(smeth)\n",
    "    def cmeth(cls):       \n",
    "        print('This is a class method of', cls) \n",
    "        cmeth = classmethod(cmeth)"
   ]
  },
  {
   "cell_type": "code",
   "execution_count": 48,
   "metadata": {},
   "outputs": [],
   "source": [
    "class MyClass:\n",
    "    @staticmethod \n",
    "    def smeth():  \n",
    "        print('This is a static method')\n",
    "    @classmethod  \n",
    "    def cmeth(cls):  \n",
    "        print('This is a class method of', cls)\n"
   ]
  },
  {
   "cell_type": "code",
   "execution_count": 49,
   "metadata": {},
   "outputs": [
    {
     "name": "stdout",
     "output_type": "stream",
     "text": [
      "This is a static method\n"
     ]
    }
   ],
   "source": [
    "MyClass.smeth()"
   ]
  },
  {
   "cell_type": "code",
   "execution_count": 52,
   "metadata": {},
   "outputs": [
    {
     "name": "stdout",
     "output_type": "stream",
     "text": [
      "This is a class method of <class '__main__.MyClass'>\n"
     ]
    }
   ],
   "source": [
    "MyClass.cmeth()"
   ]
  },
  {
   "cell_type": "code",
   "execution_count": 53,
   "metadata": {},
   "outputs": [
    {
     "name": "stdout",
     "output_type": "stream",
     "text": [
      "Object count:  4\n"
     ]
    }
   ],
   "source": [
    "class A(object):\n",
    "    # static variable\n",
    "    dbConn = None \n",
    "    obj_count = 0 \n",
    "    @staticmethod  \n",
    "    def getDBConnection():   \n",
    "        A.dbConn = \"MYSQL\"\n",
    "        print (\"db initiated\")   \n",
    "    def __init__(self, x, y, z):  \n",
    "        self.x = x  \n",
    "        self.y = y   \n",
    "        self.z = z  \n",
    "        A.obj_count += 1  \n",
    "    def fun(self):    \n",
    "        if A.dbConn == 'MYSQL':       \n",
    "            print (self.x + self.y + self.z)  \n",
    "        else:         \n",
    "            print ('Error: DB not initialized') \n",
    "            A.getDBConnection() \n",
    "a1 = A(20, 30, 40) \n",
    "a2 = A(50, 60, 70) \n",
    "a3 = A(20, 30, 40) \n",
    "a4 = A(50, 60, 70) \n",
    "\n",
    "print ('Object count: ', A.obj_count)"
   ]
  },
  {
   "cell_type": "markdown",
   "metadata": {},
   "source": [
    "### Funcion Objects (Functor), Callable objects"
   ]
  },
  {
   "cell_type": "markdown",
   "metadata": {},
   "source": [
    "Pupose: To maintain common interface across multiple family of classes.\n"
   ]
  },
  {
   "cell_type": "code",
   "execution_count": 54,
   "metadata": {},
   "outputs": [],
   "source": [
    "class Sqr(object):\n",
    "    def __init__(self, _x):   \n",
    "        self.x = _x  \n",
    "    def sqr(self):   \n",
    "        return self.x * self.x\n"
   ]
  },
  {
   "cell_type": "code",
   "execution_count": 56,
   "metadata": {},
   "outputs": [],
   "source": [
    "a = Sqr(20)"
   ]
  },
  {
   "cell_type": "code",
   "execution_count": 59,
   "metadata": {},
   "outputs": [
    {
     "name": "stdout",
     "output_type": "stream",
     "text": [
      "400\n"
     ]
    }
   ],
   "source": [
    "print(a.sqr())"
   ]
  },
  {
   "cell_type": "code",
   "execution_count": 60,
   "metadata": {},
   "outputs": [
    {
     "ename": "TypeError",
     "evalue": "'Sqr' object is not callable",
     "output_type": "error",
     "traceback": [
      "\u001b[1;31m---------------------------------------------------------------------------\u001b[0m",
      "\u001b[1;31mTypeError\u001b[0m                                 Traceback (most recent call last)",
      "\u001b[1;32m<ipython-input-60-8d7b4527e81d>\u001b[0m in \u001b[0;36m<module>\u001b[1;34m()\u001b[0m\n\u001b[1;32m----> 1\u001b[1;33m \u001b[0ma\u001b[0m\u001b[1;33m(\u001b[0m\u001b[1;33m)\u001b[0m\u001b[1;33m\u001b[0m\u001b[0m\n\u001b[0m",
      "\u001b[1;31mTypeError\u001b[0m: 'Sqr' object is not callable"
     ]
    }
   ],
   "source": [
    "a()"
   ]
  },
  {
   "cell_type": "code",
   "execution_count": 61,
   "metadata": {},
   "outputs": [],
   "source": [
    "class Sqr(object): \n",
    "    def __init__(self, _x):  \n",
    "        self.x = _x          \n",
    "    def __call__(self):     \n",
    "        return self.x * self.x\n"
   ]
  },
  {
   "cell_type": "code",
   "execution_count": 62,
   "metadata": {},
   "outputs": [
    {
     "data": {
      "text/plain": [
       "400"
      ]
     },
     "execution_count": 62,
     "metadata": {},
     "output_type": "execute_result"
    }
   ],
   "source": [
    "s = Sqr(20)\n",
    "s()"
   ]
  },
  {
   "cell_type": "markdown",
   "metadata": {},
   "source": [
    "### Multiple family of classes:"
   ]
  },
  {
   "cell_type": "code",
   "execution_count": 66,
   "metadata": {},
   "outputs": [
    {
     "name": "stdout",
     "output_type": "stream",
     "text": [
      "Im the speed\n",
      "Im the fastest\n",
      "I dont need to\n"
     ]
    }
   ],
   "source": [
    "class Animal(object):\n",
    "    def run(self): \n",
    "        raise NotImplementedError()  \n",
    "class Tiger(Animal): \n",
    "    def run(self):  \n",
    "        print ('Ofcourse! I run') \n",
    "class Cheetah(Animal):  \n",
    "    def run(self):      \n",
    "        print ('Im the speed')\n",
    "# ------------------------\n",
    "class Bird(object):  \n",
    "    def fly(self):  \n",
    "        raise NotImplementedError() \n",
    "class Eagle(Bird): \n",
    "    def fly(self):\n",
    "        print ('I fly the highest') \n",
    "class Swift(Bird):    \n",
    "    def fly(self):  \n",
    "        print ('Im the fastest')\n",
    "# -------------------------    \n",
    "class SeaAnimal(object):  \n",
    "    def swim(self):       \n",
    "        raise NotImplementedError()  \n",
    "class Dolphin(SeaAnimal):\n",
    "    def swim(self):       \n",
    "        print ('I jump aswell')   \n",
    "class Whale(SeaAnimal):   \n",
    "    def swim(self):      \n",
    "        print ('I dont need to')  \n",
    "        \n",
    "def observe_speed(obj):   \n",
    "    if isinstance(obj, Animal):     \n",
    "        obj.run() \n",
    "    elif isinstance(obj, Bird):   \n",
    "        obj.fly()   \n",
    "    elif isinstance(obj, SeaAnimal): \n",
    "        obj.swim()\n",
    "        \n",
    "        \n",
    "obj1 = Cheetah() \n",
    "obj2 = Swift() \n",
    "obj3 = Whale() \n",
    "\n",
    "observe_speed(obj1)\n",
    "observe_speed(obj2)\n",
    "observe_speed(obj3)"
   ]
  },
  {
   "cell_type": "markdown",
   "metadata": {},
   "source": [
    "### Function Overloading"
   ]
  },
  {
   "cell_type": "code",
   "execution_count": 67,
   "metadata": {},
   "outputs": [
    {
     "ename": "TypeError",
     "evalue": "fun() missing 1 required positional argument: 'n'",
     "output_type": "error",
     "traceback": [
      "\u001b[1;31m---------------------------------------------------------------------------\u001b[0m",
      "\u001b[1;31mTypeError\u001b[0m                                 Traceback (most recent call last)",
      "\u001b[1;32m<ipython-input-67-339405ea1ba0>\u001b[0m in \u001b[0;36m<module>\u001b[1;34m()\u001b[0m\n\u001b[0;32m      5\u001b[0m         \u001b[0mprint\u001b[0m \u001b[1;33m(\u001b[0m\u001b[1;34m'Apple'\u001b[0m\u001b[1;33m*\u001b[0m\u001b[0mn\u001b[0m\u001b[1;33m)\u001b[0m\u001b[1;33m\u001b[0m\u001b[0m\n\u001b[0;32m      6\u001b[0m \u001b[0ms\u001b[0m \u001b[1;33m=\u001b[0m \u001b[0mSample\u001b[0m\u001b[1;33m(\u001b[0m\u001b[1;33m)\u001b[0m\u001b[1;33m\u001b[0m\u001b[0m\n\u001b[1;32m----> 7\u001b[1;33m \u001b[0ms\u001b[0m\u001b[1;33m.\u001b[0m\u001b[0mfun\u001b[0m\u001b[1;33m(\u001b[0m\u001b[1;33m)\u001b[0m\u001b[1;33m\u001b[0m\u001b[0m\n\u001b[0m",
      "\u001b[1;31mTypeError\u001b[0m: fun() missing 1 required positional argument: 'n'"
     ]
    }
   ],
   "source": [
    "class Sample(object):    \n",
    "    def fun(self):\n",
    "        print ('Apple')    \n",
    "    def fun(self, n):   \n",
    "        print ('Apple'*n)   \n",
    "s = Sample()\n",
    "s.fun()\n"
   ]
  },
  {
   "cell_type": "code",
   "execution_count": 68,
   "metadata": {},
   "outputs": [
    {
     "name": "stdout",
     "output_type": "stream",
     "text": [
      "AppleAppleAppleApple\n"
     ]
    }
   ],
   "source": [
    "class Sample(object):    \n",
    "    def fun(self):\n",
    "        print ('Apple')    \n",
    "    def fun(self, n):   \n",
    "        print ('Apple'*n)   \n",
    "s = Sample()\n",
    "s.fun(4)\n"
   ]
  },
  {
   "cell_type": "code",
   "execution_count": null,
   "metadata": {},
   "outputs": [],
   "source": []
  }
 ],
 "metadata": {
  "kernelspec": {
   "display_name": "Python 3",
   "language": "python",
   "name": "python3"
  },
  "language_info": {
   "codemirror_mode": {
    "name": "ipython",
    "version": 3
   },
   "file_extension": ".py",
   "mimetype": "text/x-python",
   "name": "python",
   "nbconvert_exporter": "python",
   "pygments_lexer": "ipython3",
   "version": "3.6.5"
  }
 },
 "nbformat": 4,
 "nbformat_minor": 2
}
