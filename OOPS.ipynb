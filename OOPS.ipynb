{
 "cells": [
  {
   "cell_type": "markdown",
   "metadata": {},
   "source": [
    "#### Class \n",
    "Class is a model of any real-world entity, process or an idea.\n",
    "A class is an extensible program-code-template for reusablity.\n",
    "Class contains data (member variables) and actions(member functions or methods)\n",
    "Class is a blue-print of structure and behaviour, more importantly a class is a 'type', so that, we can create mutiple copies (instances) of the same structure and behaviour. class instances or called objects.\n",
    "object is the physical existance of a class "
   ]
  },
  {
   "cell_type": "markdown",
   "metadata": {},
   "source": [
    "Modeling an Employee"
   ]
  },
  {
   "cell_type": "code",
   "execution_count": 6,
   "metadata": {},
   "outputs": [],
   "source": [
    "class Employee(object):\n",
    "    def __init__(self):\n",
    "        self.num  = 0\n",
    "        self.name = ''\n",
    "        self.sal  = 0\n",
    "    def getSalary(self):\n",
    "        return self.num\n",
    "    def getName(self):\n",
    "        return self.name\n",
    "    def printEmployee(self):\n",
    "        print('nam =',self.num, 'name =',self.name, 'salary',self.sal)"
   ]
  },
  {
   "cell_type": "code",
   "execution_count": 8,
   "metadata": {},
   "outputs": [],
   "source": [
    "#CREATING A OBJ\n",
    "e = Employee()"
   ]
  },
  {
   "cell_type": "code",
   "execution_count": 9,
   "metadata": {},
   "outputs": [
    {
     "data": {
      "text/plain": [
       "0"
      ]
     },
     "execution_count": 9,
     "metadata": {},
     "output_type": "execute_result"
    }
   ],
   "source": [
    "e.sal"
   ]
  },
  {
   "cell_type": "markdown",
   "metadata": {},
   "source": [
    "Of one particular interest is the __init__() function. This special function gets called whenever a new object of that class is instantiated."
   ]
  },
  {
   "cell_type": "code",
   "execution_count": 69,
   "metadata": {},
   "outputs": [],
   "source": [
    "class Student(object):\n",
    "    def __init__(self):\n",
    "        self.name = ''\n",
    "        self.Id = 0\n",
    "        self.clas = '' \n",
    "    def getName(self):\n",
    "        return self.name\n",
    "    def getId(self):\n",
    "        return self.Id\n",
    "    def printStudent(self):\n",
    "        print('Name=',self.name,'ID=',self.Id,'CLass=',self.clas)\n",
    "        "
   ]
  },
  {
   "cell_type": "code",
   "execution_count": 70,
   "metadata": {},
   "outputs": [],
   "source": [
    "s = Student()"
   ]
  },
  {
   "cell_type": "code",
   "execution_count": 71,
   "metadata": {},
   "outputs": [
    {
     "data": {
      "text/plain": [
       "''"
      ]
     },
     "execution_count": 71,
     "metadata": {},
     "output_type": "execute_result"
    }
   ],
   "source": [
    "s.name"
   ]
  },
  {
   "cell_type": "code",
   "execution_count": 72,
   "metadata": {},
   "outputs": [],
   "source": [
    "s.name='Sam'\n",
    "s.Id=11\n",
    "s.clas ='10th'"
   ]
  },
  {
   "cell_type": "code",
   "execution_count": 73,
   "metadata": {},
   "outputs": [
    {
     "name": "stdout",
     "output_type": "stream",
     "text": [
      "Sam 11 10th\n"
     ]
    }
   ],
   "source": [
    "print(s.name,s.Id,s.clas)"
   ]
  },
  {
   "cell_type": "code",
   "execution_count": 74,
   "metadata": {},
   "outputs": [
    {
     "name": "stdout",
     "output_type": "stream",
     "text": [
      "Name= Sam ID= 11 CLass= 10th\n"
     ]
    }
   ],
   "source": [
    "s.printStudent()"
   ]
  },
  {
   "cell_type": "markdown",
   "metadata": {},
   "source": [
    "PSSING VALUE TO __INIT__"
   ]
  },
  {
   "cell_type": "code",
   "execution_count": 86,
   "metadata": {},
   "outputs": [
    {
     "name": "stdout",
     "output_type": "stream",
     "text": [
      "EmpID:=2 ,EmpName:=Samm,EmpSal:=2345677\n",
      "EmpID:=1 ,EmpName:=Lez,EmpSal:=7654332\n"
     ]
    }
   ],
   "source": [
    "class Employee(object):\n",
    "    def __init__(self,_num,_name,_sal):\n",
    "        self.num = _num\n",
    "        self.name = _name\n",
    "        self.sal = _sal\n",
    "    def data(self):\n",
    "        print('EmpID:={} ,EmpName:={},EmpSal:={}'.format(self.num,self.name,self.sal))\n",
    "    def calculate_tax(self):\n",
    "        print ('Processing tax for :....')   \n",
    "        self.data()     \n",
    "        slab = (self.sal * 12) - 300000    \n",
    "        tax = 0     \n",
    "        if slab > 0:     \n",
    "            tax = slab * 0.1   \n",
    "        print (\"tax:\", tax) \n",
    "        \n",
    "e=Employee(2,'Samm',2345677)\n",
    "e1 = Employee(1,'Lez',7654332)\n",
    "\n",
    "e.data()\n",
    "e1.data()"
   ]
  },
  {
   "cell_type": "code",
   "execution_count": 87,
   "metadata": {},
   "outputs": [
    {
     "name": "stdout",
     "output_type": "stream",
     "text": [
      "Processing tax for :....\n",
      "EmpID:=2 ,EmpName:=Samm,EmpSal:=2345677\n",
      "tax: 2784812.4000000004\n"
     ]
    }
   ],
   "source": [
    "e.calculate_tax()"
   ]
  },
  {
   "cell_type": "markdown",
   "metadata": {},
   "source": [
    "ADDING A PROPERTY RUNTIME"
   ]
  },
  {
   "cell_type": "code",
   "execution_count": 92,
   "metadata": {},
   "outputs": [],
   "source": [
    "class Car(object):\n",
    "    def __init__(self):\n",
    "        self.speed1=130\n",
    "        self.speed2=200\n",
    "    def fun(self):\n",
    "        self.fspeed = 150\n",
    "c = Car()\n",
    "c1 = Car()"
   ]
  },
  {
   "cell_type": "code",
   "execution_count": 93,
   "metadata": {},
   "outputs": [
    {
     "data": {
      "text/plain": [
       "130"
      ]
     },
     "execution_count": 93,
     "metadata": {},
     "output_type": "execute_result"
    }
   ],
   "source": [
    "c.speed1"
   ]
  },
  {
   "cell_type": "code",
   "execution_count": 96,
   "metadata": {},
   "outputs": [
    {
     "data": {
      "text/plain": [
       "150"
      ]
     },
     "execution_count": 96,
     "metadata": {},
     "output_type": "execute_result"
    }
   ],
   "source": [
    "c.fspeed"
   ]
  },
  {
   "cell_type": "code",
   "execution_count": 97,
   "metadata": {},
   "outputs": [],
   "source": [
    "c.fspeed = 300"
   ]
  },
  {
   "cell_type": "code",
   "execution_count": 98,
   "metadata": {},
   "outputs": [
    {
     "data": {
      "text/plain": [
       "300"
      ]
     },
     "execution_count": 98,
     "metadata": {},
     "output_type": "execute_result"
    }
   ],
   "source": [
    "c.fspeed"
   ]
  },
  {
   "cell_type": "code",
   "execution_count": 99,
   "metadata": {},
   "outputs": [],
   "source": [
    "c.speed1 = 400"
   ]
  },
  {
   "cell_type": "code",
   "execution_count": 100,
   "metadata": {},
   "outputs": [
    {
     "data": {
      "text/plain": [
       "400"
      ]
     },
     "execution_count": 100,
     "metadata": {},
     "output_type": "execute_result"
    }
   ],
   "source": [
    "c.speed1"
   ]
  },
  {
   "cell_type": "markdown",
   "metadata": {},
   "source": [
    "CHECK ATTRIBUTE AND INSTANCE"
   ]
  },
  {
   "cell_type": "code",
   "execution_count": 103,
   "metadata": {},
   "outputs": [
    {
     "data": {
      "text/plain": [
       "True"
      ]
     },
     "execution_count": 103,
     "metadata": {},
     "output_type": "execute_result"
    }
   ],
   "source": [
    "hasattr(c,'speed1')"
   ]
  },
  {
   "cell_type": "code",
   "execution_count": 104,
   "metadata": {},
   "outputs": [
    {
     "data": {
      "text/plain": [
       "True"
      ]
     },
     "execution_count": 104,
     "metadata": {},
     "output_type": "execute_result"
    }
   ],
   "source": [
    "isinstance(c,Car)"
   ]
  },
  {
   "cell_type": "markdown",
   "metadata": {},
   "source": [
    "# INHERITANCE"
   ]
  },
  {
   "cell_type": "code",
   "execution_count": 111,
   "metadata": {},
   "outputs": [],
   "source": [
    "class FourWheeler(object):\n",
    "    def __init__(self,_model,_clr,_abags,_speed,_price):\n",
    "        self.engineModel = _model\n",
    "        self.color = _clr\n",
    "        self.airBags = _abags\n",
    "        self.speed = _speed\n",
    "        self.price = _price\n",
    "    def calDiscount(self):\n",
    "        if self.engineModel == 'HW':\n",
    "            return self.price*0.1\n",
    "        if self.engineModel == 'LW':\n",
    "            return self.price*0\n",
    "\n",
    "    def get_on_road_price(self):\n",
    "        if self.speed == 400:\n",
    "            tax = 12.0\n",
    "        elif self.speed == 300:\n",
    "            tax = 10\n",
    "        else:\n",
    "            tax = 0\n",
    "        \n",
    "        return  self.price * (1 + tax/100) - self.calDiscount() \n",
    "\n",
    "car = FourWheeler('HW','RED',4,400,5000000)\n",
    "car1 = FourWheeler('LW','RED',4,200,1500000)\n"
   ]
  },
  {
   "cell_type": "code",
   "execution_count": 113,
   "metadata": {},
   "outputs": [
    {
     "data": {
      "text/plain": [
       "5100000.000000001"
      ]
     },
     "execution_count": 113,
     "metadata": {},
     "output_type": "execute_result"
    }
   ],
   "source": [
    "car.get_on_road_price()"
   ]
  },
  {
   "cell_type": "code",
   "execution_count": 114,
   "metadata": {},
   "outputs": [],
   "source": [
    "class car(FourWheeler):\n",
    "    pass"
   ]
  },
  {
   "cell_type": "code",
   "execution_count": 115,
   "metadata": {},
   "outputs": [],
   "source": [
    "cr = car('LW','Black',5,300,123456)"
   ]
  },
  {
   "cell_type": "code",
   "execution_count": 116,
   "metadata": {},
   "outputs": [
    {
     "data": {
      "text/plain": [
       "135801.6"
      ]
     },
     "execution_count": 116,
     "metadata": {},
     "output_type": "execute_result"
    }
   ],
   "source": [
    "cr.get_on_road_price()"
   ]
  },
  {
   "cell_type": "code",
   "execution_count": 120,
   "metadata": {},
   "outputs": [
    {
     "data": {
      "text/plain": [
       "226257.92"
      ]
     },
     "execution_count": 120,
     "metadata": {},
     "output_type": "execute_result"
    }
   ],
   "source": [
    "class Car(FourWheeler): \n",
    "    def __init__(self,_model,_clr,_abags,_speed,_price,_cmodel):\n",
    "        self.engineModel = _model\n",
    "        self.color = _clr\n",
    "        self.airBags = _abags\n",
    "        self.speed = _speed\n",
    "        self.price = _price    \n",
    "        \n",
    "        self.carModel = _cmodel \n",
    "        \n",
    "    def compute_discount(self):  \n",
    "            if self.carModel == 'hatchback':    \n",
    "                return self.price* 0.1   \n",
    "            if self.carModel == 'sedon': \n",
    "                return self.price* 0.15  \n",
    "            if self.carModel == 'TUV':   \n",
    "                return self.price* 0.12   \n",
    "            if self.carModel == 'XUV':   \n",
    "                return self.price* 0.11  \n",
    "            \n",
    "cr = Car('LW', 'RED', 1.0, 400, 202016, 'TUV')\n",
    "cr.get_on_road_price()"
   ]
  },
  {
   "cell_type": "markdown",
   "metadata": {},
   "source": [
    "Diamond Problem"
   ]
  },
  {
   "cell_type": "code",
   "execution_count": 2,
   "metadata": {},
   "outputs": [
    {
     "name": "stdout",
     "output_type": "stream",
     "text": [
      "I'm B\n"
     ]
    }
   ],
   "source": [
    "class A(object): \n",
    "    def __init__(self): \n",
    "        self.x = 100 \n",
    "        \n",
    "    def foo(self):  \n",
    "        print(\"I'm A\") \n",
    "\n",
    "class B(A):\n",
    "    def __init__(self):\n",
    "        self.x=200\n",
    "        \n",
    "    def foo(self):\n",
    "        print(\"I'm B\")\n",
    "\n",
    "class C(A):\n",
    "    def __init__(self):\n",
    "        self.x=300\n",
    "        \n",
    "    def foo(self):\n",
    "        print(\"I'm C\")\n",
    "        \n",
    "class D(B,C):\n",
    "    def bar(self):\n",
    "        print('Exclusive')\n",
    "        \n",
    "d = D()\n",
    "d.foo()"
   ]
  },
  {
   "cell_type": "markdown",
   "metadata": {},
   "source": [
    "## MRO - Method Resolution Order"
   ]
  },
  {
   "cell_type": "markdown",
   "metadata": {},
   "source": [
    "Changing method resolution order using __bases__ attribute of the class. "
   ]
  },
  {
   "cell_type": "code",
   "execution_count": 4,
   "metadata": {},
   "outputs": [
    {
     "name": "stdout",
     "output_type": "stream",
     "text": [
      "I'm B\n",
      "I'm C\n",
      "I'm B\n"
     ]
    }
   ],
   "source": [
    "class A(object):   \n",
    "    def foo(self):     \n",
    "        print (\"I'm A\") \n",
    "class B(A):  \n",
    "    def foo(self):   \n",
    "        print (\"I'm B\") \n",
    "class C(A):  \n",
    "    def foo(self):      \n",
    "        print (\"I'm C\") \n",
    "class D(B, C):  \n",
    "    def bar(self): \n",
    "        print (\"I'm D\") \n",
    "def main():   \n",
    "    d = D()   \n",
    "    d.foo()   \n",
    "    D.__bases__ = (C, B)   \n",
    "    d.foo() \n",
    "    D.__bases__ = (B, C)    \n",
    "    d.foo() \n",
    "if __name__ == '__main__': \n",
    "    main()"
   ]
  },
  {
   "cell_type": "markdown",
   "metadata": {},
   "source": [
    "## Polymorphism"
   ]
  },
  {
   "cell_type": "code",
   "execution_count": 7,
   "metadata": {},
   "outputs": [
    {
     "name": "stdout",
     "output_type": "stream",
     "text": [
      "Walking on the Road\n"
     ]
    }
   ],
   "source": [
    "class A(object):  \n",
    "    def play(self):     \n",
    "        print ('Playing a sport')   \n",
    "class B(A):\n",
    "    def walk(self):\n",
    "        print ('Walking on the Road')\n",
    "class C(B):  \n",
    "    def listen(self): \n",
    "        print ('Listening Music')     \n",
    "def action(x):    \n",
    "    x.walk()  \n",
    "    \n",
    "a = A() \n",
    "b = B() \n",
    "c = C() \n",
    "action(b)"
   ]
  },
  {
   "cell_type": "code",
   "execution_count": null,
   "metadata": {},
   "outputs": [],
   "source": []
  }
 ],
 "metadata": {
  "kernelspec": {
   "display_name": "Python 3",
   "language": "python",
   "name": "python3"
  },
  "language_info": {
   "codemirror_mode": {
    "name": "ipython",
    "version": 3
   },
   "file_extension": ".py",
   "mimetype": "text/x-python",
   "name": "python",
   "nbconvert_exporter": "python",
   "pygments_lexer": "ipython3",
   "version": "3.6.5"
  }
 },
 "nbformat": 4,
 "nbformat_minor": 2
}
