{
 "cells": [
  {
   "cell_type": "code",
   "execution_count": 1,
   "metadata": {},
   "outputs": [
    {
     "name": "stdout",
     "output_type": "stream",
     "text": [
      "Enter Married Status[Married/Unmarried]:Married\n",
      "Enter Gender [Male/Female]:Male\n",
      "Enter Age:25\n",
      "Inssured\n"
     ]
    }
   ],
   "source": [
    "marrital_status = input('Enter Married Status[Married/Unmarried]:')\n",
    "gender = input('Enter Gender [Male/Female]:')\n",
    "age = int(input('Enter Age:'))\n",
    "\n",
    "if (marrital_status == 'Married'):\n",
    "    print('Inssured')\n",
    "else:\n",
    "    if(gender == 'Male' and age>=30) or (gender == 'Female' and age>=25):\n",
    "        print('Inssured')\n",
    "    else:\n",
    "        print('Not Inssured')"
   ]
  },
  {
   "cell_type": "markdown",
   "metadata": {},
   "source": [
    " Write a programe to read the characters continuosly until '$' is given and display the number of\n"
   ]
  },
  {
   "cell_type": "code",
   "execution_count": 17,
   "metadata": {},
   "outputs": [
    {
     "name": "stdout",
     "output_type": "stream",
     "text": [
      "Enter string:wed\n",
      "$ is not in the strng\n"
     ]
    }
   ],
   "source": [
    "a = '$'\n",
    "s = input('Enter string:')\n",
    "if '$' in s:\n",
    "    for i in s:\n",
    "        print(i,end='')\n",
    "        if(a==i):\n",
    "            break\n",
    "else:\n",
    "    print('$ is not in the strng')"
   ]
  },
  {
   "cell_type": "markdown",
   "metadata": {},
   "source": [
    " Write a programe to read a character and ﬁnd out whether it is uppercase or lowercare "
   ]
  },
  {
   "cell_type": "code",
   "execution_count": 19,
   "metadata": {},
   "outputs": [
    {
     "name": "stdout",
     "output_type": "stream",
     "text": [
      "Enter Characte :$\n",
      "Special character\n"
     ]
    }
   ],
   "source": [
    "ch = input('Enter Characte :')\n",
    "\n",
    "if ch.isdigit():\n",
    "    print('It is a digit')\n",
    "elif ch.islower():\n",
    "    print('It is a Lowercase')\n",
    "elif ch.isupper():\n",
    "    print('It is uppercase')\n",
    "else:\n",
    "    print('Special character')"
   ]
  },
  {
   "cell_type": "markdown",
   "metadata": {},
   "source": [
    " Write a program to print the uppercase letter of a given lowercase\n"
   ]
  },
  {
   "cell_type": "code",
   "execution_count": 33,
   "metadata": {},
   "outputs": [
    {
     "name": "stdout",
     "output_type": "stream",
     "text": [
      "enter string :AS\n",
      "AS"
     ]
    }
   ],
   "source": [
    "s= input('enter string :')\n",
    "for i in s:\n",
    "    if i.isupper():\n",
    "        print(i,end='')\n",
    "    else:\n",
    "        break\n"
   ]
  },
  {
   "cell_type": "code",
   "execution_count": 35,
   "metadata": {},
   "outputs": [
    {
     "name": "stdout",
     "output_type": "stream",
     "text": [
      "Enter string:sdf\n",
      "The number of lowercase characters is:\n",
      "3\n",
      "The number of uppercase characters is:\n",
      "0\n"
     ]
    }
   ],
   "source": [
    "string=input(\"Enter string:\")\n",
    "count1=0\n",
    "count2=0\n",
    "for i in string:\n",
    "      if(i.islower()):\n",
    "            count1=count1+1\n",
    "      elif(i.isupper()):\n",
    "            count2=count2+1\n",
    "print(\"The number of lowercase characters is:\")\n",
    "print(count1)\n",
    "print(\"The number of uppercase characters is:\")\n",
    "print(count2)"
   ]
  },
  {
   "cell_type": "code",
   "execution_count": null,
   "metadata": {},
   "outputs": [],
   "source": []
  }
 ],
 "metadata": {
  "kernelspec": {
   "display_name": "Python 3",
   "language": "python",
   "name": "python3"
  },
  "language_info": {
   "codemirror_mode": {
    "name": "ipython",
    "version": 3
   },
   "file_extension": ".py",
   "mimetype": "text/x-python",
   "name": "python",
   "nbconvert_exporter": "python",
   "pygments_lexer": "ipython3",
   "version": "3.6.5"
  }
 },
 "nbformat": 4,
 "nbformat_minor": 2
}
