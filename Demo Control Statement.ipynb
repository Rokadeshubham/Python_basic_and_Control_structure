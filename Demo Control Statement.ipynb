{
 "cells": [
  {
   "cell_type": "code",
   "execution_count": 1,
   "metadata": {},
   "outputs": [
    {
     "data": {
      "text/plain": [
       "50"
      ]
     },
     "execution_count": 1,
     "metadata": {},
     "output_type": "execute_result"
    }
   ],
   "source": [
    "x=20\n",
    "y=30\n",
    "x+y"
   ]
  },
  {
   "cell_type": "code",
   "execution_count": 1,
   "metadata": {},
   "outputs": [
    {
     "name": "stdout",
     "output_type": "stream",
     "text": [
      "number2\n",
      "x is positive\n"
     ]
    }
   ],
   "source": [
    "x=int(input('number'))\n",
    "if x==0:\n",
    "    print('x is zero')\n",
    "if x>0:\n",
    "    print('x is positive')\n",
    "if x<0:\n",
    "    print('x is negative')"
   ]
  },
  {
   "cell_type": "code",
   "execution_count": 4,
   "metadata": {},
   "outputs": [
    {
     "name": "stdout",
     "output_type": "stream",
     "text": [
      "enter weight3\n",
      "not heavy\n"
     ]
    }
   ],
   "source": [
    "weight = int(input('enter weight'))\n",
    "if weight>30:\n",
    "    print('its heavy')\n",
    "else:\n",
    "  print('not heavy')"
   ]
  },
  {
   "cell_type": "code",
   "execution_count": 15,
   "metadata": {},
   "outputs": [],
   "source": [
    "x=True\n",
    "y=True"
   ]
  },
  {
   "cell_type": "code",
   "execution_count": 16,
   "metadata": {},
   "outputs": [
    {
     "data": {
      "text/plain": [
       "1520573520"
      ]
     },
     "execution_count": 16,
     "metadata": {},
     "output_type": "execute_result"
    }
   ],
   "source": [
    "id(x)"
   ]
  },
  {
   "cell_type": "code",
   "execution_count": 17,
   "metadata": {},
   "outputs": [
    {
     "data": {
      "text/plain": [
       "1520573520"
      ]
     },
     "execution_count": 17,
     "metadata": {},
     "output_type": "execute_result"
    }
   ],
   "source": [
    "id(y)"
   ]
  },
  {
   "cell_type": "code",
   "execution_count": 20,
   "metadata": {},
   "outputs": [
    {
     "name": "stdout",
     "output_type": "stream",
     "text": [
      "What is the temperature? 50\n",
      "Wear long pants.\n",
      "Get some exercise outside.\n"
     ]
    }
   ],
   "source": [
    "#home ex\n",
    "temperature = float(input('What is the temperature? '))\n",
    "if temperature > 70 :\n",
    "    print('Wear shorts.')\n",
    "else:\n",
    "    print('Wear long pants.')\n",
    "print('Get some exercise outside.')"
   ]
  },
  {
   "cell_type": "code",
   "execution_count": 27,
   "metadata": {},
   "outputs": [
    {
     "name": "stdout",
     "output_type": "stream",
     "text": [
      "value of x20 y30 z40\n"
     ]
    }
   ],
   "source": [
    "#format\n",
    "x=20\n",
    "y=30\n",
    "z=40\n",
    "print(\"value of x{} y{} z{}\".format(x,y,z))"
   ]
  },
  {
   "cell_type": "code",
   "execution_count": 4,
   "metadata": {},
   "outputs": [
    {
     "name": "stdout",
     "output_type": "stream",
     "text": [
      "enter value of x:3\n",
      "Odd\n",
      "The end\n"
     ]
    }
   ],
   "source": [
    "#Class Lectures\n",
    "x = int(input(\"enter value of x:\"))\n",
    "if x%2 == 0:\n",
    "    print(\"Even\")\n",
    "else:\n",
    "    print(\"Odd\")\n",
    "print('The end')"
   ]
  },
  {
   "cell_type": "code",
   "execution_count": 5,
   "metadata": {},
   "outputs": [
    {
     "name": "stdout",
     "output_type": "stream",
     "text": [
      "enter no:5\n",
      "The end\n"
     ]
    }
   ],
   "source": [
    "x = int(input(\"enter no:\"))\n",
    "if x%2 == 0:\n",
    "    print('----')\n",
    "    print(\"even\")\n",
    "    print('-----')\n",
    "print('The end')"
   ]
  },
  {
   "cell_type": "code",
   "execution_count": 6,
   "metadata": {},
   "outputs": [
    {
     "name": "stdout",
     "output_type": "stream",
     "text": [
      "enter x:3\n",
      "+ve\n",
      "the end\n"
     ]
    }
   ],
   "source": [
    "x - int(input(\"enter x:\"))\n",
    "if x < 0:\n",
    "    print('-ve')\n",
    "elif x == 0:\n",
    "    print('Neutral')\n",
    "else:\n",
    "    print('+ve')\n",
    "print('the end')"
   ]
  },
  {
   "cell_type": "code",
   "execution_count": 7,
   "metadata": {},
   "outputs": [
    {
     "name": "stdout",
     "output_type": "stream",
     "text": [
      "enter charactera\n",
      "Apple\n",
      "the end\n"
     ]
    }
   ],
   "source": [
    "char = input('enter character')\n",
    "if char == 'a':\n",
    "    print(\"Apple\")\n",
    "elif char == 'b':\n",
    "    print('Ball')\n",
    "elif char == 'c':\n",
    "    print('Cat')\n",
    "elif char == 'd':\n",
    "    print('Dog')\n",
    "else:\n",
    "    print('Unknown')\n",
    "print('the end')\n",
    "    "
   ]
  },
  {
   "cell_type": "code",
   "execution_count": 16,
   "metadata": {},
   "outputs": [
    {
     "name": "stdout",
     "output_type": "stream",
     "text": [
      "Enter x:25\n",
      "factor is not in this pgm\n"
     ]
    }
   ],
   "source": [
    "#multiple if\n",
    "x = int(input(\"Enter x:\"))\n",
    "if x % 3 == 0:\n",
    "    print('3 is a factor')\n",
    "if x % 7 == 0:\n",
    "    print('7 is a factor')\n",
    "if x % 11 == 0:\n",
    "    print('11 is a factor')\n",
    "else:\n",
    "    print('factor is not in this pgm')"
   ]
  },
  {
   "cell_type": "code",
   "execution_count": null,
   "metadata": {},
   "outputs": [],
   "source": [
    "#nested if else\n",
    "x = int(input(\"Enter x:\"))\n",
    "if x % 2 == 0:\n",
    "    "
   ]
  },
  {
   "cell_type": "code",
   "execution_count": null,
   "metadata": {},
   "outputs": [],
   "source": [
    "#\n",
    "a = int(input('enter a'))\n",
    "b = int(input('enter b'))\n",
    "c = int(input('enter c'))\n"
   ]
  },
  {
   "cell_type": "code",
   "execution_count": null,
   "metadata": {},
   "outputs": [],
   "source": []
  }
 ],
 "metadata": {
  "kernelspec": {
   "display_name": "Python 3",
   "language": "python",
   "name": "python3"
  },
  "language_info": {
   "codemirror_mode": {
    "name": "ipython",
    "version": 3
   },
   "file_extension": ".py",
   "mimetype": "text/x-python",
   "name": "python",
   "nbconvert_exporter": "python",
   "pygments_lexer": "ipython3",
   "version": "3.6.5"
  }
 },
 "nbformat": 4,
 "nbformat_minor": 2
}
